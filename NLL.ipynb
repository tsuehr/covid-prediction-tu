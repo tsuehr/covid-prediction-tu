{
 "nbformat": 4,
 "nbformat_minor": 0,
 "metadata": {
  "colab": {
   "name": "NLL_V4.ipynb",
   "provenance": [],
   "collapsed_sections": []
  },
  "kernelspec": {
   "display_name": "Python 3",
   "language": "python",
   "name": "python3"
  },
  "language_info": {
   "codemirror_mode": {
    "name": "ipython",
    "version": 2
   },
   "file_extension": ".py",
   "mimetype": "text/x-python",
   "name": "python",
   "nbconvert_exporter": "python",
   "pygments_lexer": "ipython2",
   "version": "2.7.6"
  }
 },
 "cells": [
  {
   "cell_type": "code",
   "execution_count": null,
   "outputs": [],
   "source": [
    "import scipy.stats\n",
    "import numpy as np\n",
    "import matplotlib.pyplot as plt\n",
    "from scipy.stats import expon, truncexpon, truncnorm, nbinom, norm\n",
    "import pandas as pd\n",
    "import time\n",
    "import torch\n",
    "from torch import nn\n",
    "from torch import distributions\n",
    "from torch import rand\n",
    "from torch import autograd\n",
    "from torch import optim"
   ],
   "metadata": {
    "collapsed": false,
    "pycharm": {
     "name": "#%%\n"
    }
   }
  },
  {
   "cell_type": "code",
   "execution_count": null,
   "outputs": [],
   "source": [
    "np.random.seed(seed=101)\n",
    "torch.manual_seed(101)\n",
    "torch.use_deterministic_algorithms(True)\n",
    "dtype = torch.float64\n",
    "device = torch.device(\"cpu\")"
   ],
   "metadata": {
    "collapsed": false,
    "pycharm": {
     "name": "#%%\n"
    }
   }
  },
  {
   "cell_type": "code",
   "execution_count": null,
   "outputs": [],
   "source": [
    "data = pd.read_csv('data/covid19model.csv')"
   ],
   "metadata": {
    "collapsed": false,
    "pycharm": {
     "name": "#%%\n"
    }
   }
  },
  {
   "cell_type": "markdown",
   "source": [
    "# Initialization\n"
   ],
   "metadata": {
    "collapsed": false
   }
  },
  {
   "cell_type": "code",
   "execution_count": null,
   "outputs": [],
   "source": [
    "cero = torch.tensor(0., requires_grad=False, device=device, dtype=dtype)\n",
    "num_impute = 6\n",
    "observed_daily_hospit = torch.tensor(data.hospit, requires_grad=False, device=device, dtype=dtype)\n",
    "pi = torch.tensor(data.delay_distr, requires_grad=False, device=device, dtype=dtype)\n",
    "serial_interval = torch.tensor(data.serial_interval, requires_grad=False, device=device, dtype=dtype)\n",
    "population = torch.tensor(5793636, requires_grad=False, device=device, dtype=dtype)\n",
    "num_observations = len(observed_daily_hospit)"
   ],
   "metadata": {
    "collapsed": false,
    "pycharm": {
     "name": "#%%\n"
    }
   }
  },
  {
   "cell_type": "markdown",
   "source": [
    "## Initialize latent variables/parameters"
   ],
   "metadata": {
    "collapsed": false
   }
  },
  {
   "cell_type": "code",
   "execution_count": null,
   "outputs": [],
   "source": [
    "tau_prime = torch.tensor(np.random.exponential(1 / 0.03), requires_grad=True, device=device, dtype=dtype)\n",
    "phi_prime = torch.tensor(truncnorm.rvs((0 - 25) / 10, (np.inf - 25) / 10, loc=25, scale=10), requires_grad=True,\n",
    "                         device=device,\n",
    "                         dtype=dtype)  # has to be positive, between 0-50 --> uniform # dispersion (shape) parameter for observations\n",
    "R0_prime = torch.tensor(truncnorm.rvs((2 - 3.6) / 0.8, (5 - 3.6) / 0.8, loc=3.6, scale=0.8), requires_grad=True,\n",
    "                        device=device,\n",
    "                        dtype=dtype)  # probably gamma or inverse gamma distribution (compare to truncated normal) # initial reproduction number\n",
    "alpha_prime = torch.tensor(\n",
    "    truncnorm.rvs((0 - 1 / 100) / 1 / 100, (5 / 100 - 1 / 100) / 1 / 100, loc=1 / 100, scale=1 / 100),\n",
    "    requires_grad=True, device=device,\n",
    "    dtype=dtype)  # uniform distribution between (0-5%) # probability to get hospitalized\n",
    "sigma_prime = torch.tensor(truncnorm.rvs((0 - 0.1) / 0.3, (0.5 - 0.1) / 0.3, loc=0.1, scale=0.3), requires_grad=True,\n",
    "                           device=device,\n",
    "                           dtype=dtype)  # positive, tricky, gamma or inverse gamma, log normal  --> try something out, large sigma--> prone to overfitting # standart deviation of random walk step\n",
    "\n",
    "epsilon_t = torch.zeros(num_observations, device=device)\n",
    "epsilon_t[0] = torch.distributions.Normal(cero, sigma_prime.detach()).rsample()\n",
    "for t in range(1, num_observations):\n",
    "    epsilon_t[t] = torch.distributions.Normal(epsilon_t[t - 1].detach(), sigma_prime.detach()).rsample()\n",
    "epsilon_t.requires_grad_(True)\n"
   ],
   "metadata": {
    "collapsed": false,
    "pycharm": {
     "name": "#%%\n"
    }
   }
  },
  {
   "cell_type": "markdown",
   "source": [
    "# Define Forward Pass"
   ],
   "metadata": {
    "collapsed": false
   }
  },
  {
   "cell_type": "code",
   "execution_count": null,
   "outputs": [],
   "source": [
    "def bij_transform(prime, lower, upper):\n",
    "    # Recieves a value in [-inf, inf] and returns value in [low, upper]\n",
    "    bij = 1 / (1 + torch.exp(-prime))\n",
    "    scale = upper - lower\n",
    "    return scale * bij + lower\n",
    "\n",
    "\n",
    "def bij_transform_inf(prime):\n",
    "    return torch.exp(prime)\n"
   ],
   "metadata": {
    "collapsed": false,
    "pycharm": {
     "name": "#%%\n"
    }
   }
  },
  {
   "cell_type": "code",
   "execution_count": null,
   "outputs": [],
   "source": [
    "def calc_prior_loss(tau, phi, R0, alpha, sigma):\n",
    "    # log likelihood wrt. our prior (\"regularisation\")\n",
    "    # ll stands for log-likelihood\n",
    "    multiplier = 10\n",
    "    ll = torch.tensor(0.0, device=device)\n",
    "\n",
    "    ll += (tau - (1 / 0.03)) ** 2 * multiplier\n",
    "\n",
    "    ll += (phi - 25) ** 2 * multiplier\n",
    "\n",
    "    ll += (R0 - 3.6) ** 2 * multiplier\n",
    "\n",
    "    ll += (alpha - 0.01) ** 2 * multiplier\n",
    "\n",
    "    ll += (sigma - 0.1) ** 2 * multiplier\n",
    "\n",
    "    return ll\n"
   ],
   "metadata": {
    "collapsed": false,
    "pycharm": {
     "name": "#%%\n"
    }
   }
  },
  {
   "cell_type": "code",
   "execution_count": null,
   "outputs": [],
   "source": [
    "def seed_init_infect(y):\n",
    "    # Initialize newly_infected, cumulative_infected, St\n",
    "    newly_infected = torch.zeros(num_observations, device=device, dtype=dtype)  # number of newly infected\n",
    "    cumulative_infected = torch.zeros(num_observations, device=device)  # cumulative number of infected\n",
    "\n",
    "    St = torch.zeros(num_observations, device=device)  # fraction of susceptible population\n",
    "    # seed initial infection / impute first num_impute days\n",
    "    newly_infected[0:num_impute] = y.clone()\n",
    "    cumulative_infected[0] = 0.\n",
    "    cumulative_infected[1:num_impute] = torch.cumsum(newly_infected[0:num_impute - 1].clone(), dim=0)\n",
    "    St[0:num_impute] = torch.tensor([torch.maximum(population.clone() - x, torch.tensor(0)) / population for x in\n",
    "                                     cumulative_infected[0:num_impute].clone()])\n",
    "    return newly_infected, cumulative_infected, St\n"
   ],
   "metadata": {
    "collapsed": false,
    "pycharm": {
     "name": "#%%\n"
    }
   }
  },
  {
   "cell_type": "code",
   "execution_count": null,
   "outputs": [],
   "source": [
    "def calc_Rt(R0, epsilon_t, sigma, ll):\n",
    "    # Initialize eta_t\n",
    "    eta_t = torch.zeros(num_observations, device=device)  # transformed reproduction number\n",
    "\n",
    "    # calculate Rt: the basic reproduction number\n",
    "    # basic reproduction number as a latent random walk\n",
    "    beta_0 = torch.log(R0)\n",
    "    eta_t[0] = beta_0\n",
    "    for t in range(1, num_observations):\n",
    "        dist_epsilon_t = torch.distributions.Normal(epsilon_t[t - 1], sigma)\n",
    "        ll += dist_epsilon_t.log_prob(epsilon_t[t - 1])\n",
    "    eta_t[1:num_observations] = beta_0 + epsilon_t[0:num_observations - 1].clone()\n",
    "    Rt = torch.exp(eta_t)\n",
    "    return Rt, ll\n"
   ],
   "metadata": {
    "collapsed": false,
    "pycharm": {
     "name": "#%%\n"
    }
   }
  },
  {
   "cell_type": "code",
   "execution_count": null,
   "outputs": [],
   "source": [
    "def calc_infections(cumulative_infected, newly_infected, St, Rt):\n",
    "    # Initialize effectively_infectious\n",
    "    effectively_infectious = torch.zeros(num_observations, device=device)  # effective number of infectious individuals\n",
    "\n",
    "    # calculate infections\n",
    "    for t in range(num_impute, num_observations):\n",
    "        # Update cumulative newly_infected\n",
    "        cumulative_infected[t] = cumulative_infected[t - 1].clone() + newly_infected[t - 1].clone()\n",
    "        # Adjusts for portion of pop that are susceptible\n",
    "        St[t] = torch.maximum(population.clone() - cumulative_infected[t].clone(), cero) / population.clone()\n",
    "        # effective number of infectous individuals\n",
    "        ni_temp = newly_infected[:t].view(1, 1, -1).clone()\n",
    "        si_temp = torch.flip(serial_interval, (0,))[-t:].view(1, 1, -1)\n",
    "        effectively_infectious[t] = torch.nn.functional.conv1d(ni_temp, si_temp)\n",
    "\n",
    "        newly_infected[t] = St[t].clone() * Rt[t].clone() * effectively_infectious[t].clone()\n",
    "    return newly_infected\n"
   ],
   "metadata": {
    "collapsed": false,
    "pycharm": {
     "name": "#%%\n"
    }
   }
  },
  {
   "cell_type": "code",
   "execution_count": null,
   "outputs": [],
   "source": [
    "def calc_hospit(newly_infected, alpha):\n",
    "    # Initialize expected_daily_hospit\n",
    "    expected_daily_hospit = torch.zeros(num_observations, device=device)  # expected number of daily hospitalizations\n",
    "\n",
    "    # calculate expected number of hospitalizations\n",
    "    expected_daily_hospit[0] = (1e-15) * newly_infected[0].clone()\n",
    "    for t in range(1, num_observations):\n",
    "        ni_temp = newly_infected[:t].view(1, 1, -1)\n",
    "        pi_temp = torch.flip(pi, (0,))[-t - 1:-1].view(1, 1, -1)\n",
    "        expected_daily_hospit[t] = torch.nn.functional.conv1d(ni_temp, pi_temp)\n",
    "    expected_daily_hospit = alpha * expected_daily_hospit\n",
    "    return expected_daily_hospit\n"
   ],
   "metadata": {
    "collapsed": false,
    "pycharm": {
     "name": "#%%\n"
    }
   }
  },
  {
   "cell_type": "code",
   "execution_count": null,
   "outputs": [],
   "source": [
    "def compare_results(expected_daily_hospit, phi, ll):\n",
    "    # compare observed hospitalizations to model results\n",
    "    # likelihood of the data wrt. to the model\n",
    "\n",
    "    for i in range(0, num_observations):\n",
    "        p = 1 / (1 + expected_daily_hospit[i] / phi)\n",
    "        if p == 1:\n",
    "            p = p.clone() - torch.tensor(2.225e-5)\n",
    "        if p < 2.225e-5:\n",
    "            p = p.clone() + torch.tensor(2.225e-5)\n",
    "        dist = torch.distributions.negative_binomial.NegativeBinomial(phi, p - torch.tensor(2.225e-5))\n",
    "        ll += dist.log_prob(observed_daily_hospit[i])\n",
    "    return ll\n"
   ],
   "metadata": {
    "collapsed": false,
    "pycharm": {
     "name": "#%%\n"
    }
   }
  },
  {
   "cell_type": "code",
   "execution_count": null,
   "outputs": [],
   "source": [
    "def forward_pass():\n",
    "    # Initialize y\n",
    "    tau = bij_transform(tau_prime, lower=0, upper=200)\n",
    "    y = torch.distributions.exponential.Exponential(1 / tau).rsample()\n",
    "    R0 = bij_transform(R0_prime, lower=2, upper=5)\n",
    "    phi = bij_transform(phi_prime, lower=1, upper=50)\n",
    "    alpha = bij_transform(alpha_prime, lower=0, upper=0.05)\n",
    "    sigma = bij_transform(sigma_prime, lower=0, upper=0.5)\n",
    "\n",
    "    # Calculate prior loss\n",
    "    ll = calc_prior_loss(tau, phi, R0, alpha, sigma)\n",
    "\n",
    "    # Seed initial infections\n",
    "    newly_infected, cumulative_infected, St = seed_init_infect(y)\n",
    "\n",
    "    # Calculate Rt & random walk loss\n",
    "    Rt, ll = calc_Rt(R0, epsilon_t, sigma, ll)\n",
    "\n",
    "    # Calculate infections\n",
    "    newly_infected = calc_infections(cumulative_infected, newly_infected, St, Rt)\n",
    "\n",
    "    # Calculate expected hospitalizations\n",
    "    expected_daily_hospit = calc_hospit(newly_infected, alpha)\n",
    "\n",
    "    # Compare observed hospitalizations to model results\n",
    "    ll = compare_results(expected_daily_hospit, phi, ll)\n",
    "\n",
    "    return expected_daily_hospit, Rt, ll, tau, R0, phi, alpha, sigma\n"
   ],
   "metadata": {
    "collapsed": false,
    "pycharm": {
     "name": "#%%\n"
    }
   }
  },
  {
   "cell_type": "markdown",
   "source": [
    "# Optimization"
   ],
   "metadata": {
    "collapsed": false
   }
  },
  {
   "cell_type": "code",
   "execution_count": null,
   "outputs": [],
   "source": [
    "learning_rate = 1e-4\n",
    "epochs = 1000\n",
    "complete_time = time.time()\n",
    "\n",
    "for k in range(epochs):\n",
    "    start_time = time.time()\n",
    "    decay = (1 - (k / (epochs * 1e5))) ** 2\n",
    "    learning_rate = learning_rate * decay\n",
    "\n",
    "    # forward pass - calculate expected_daily_hospit\n",
    "    expected_daily_hospit, Rt, ll, tau, R0, phi, alpha, sigma = forward_pass()\n",
    "\n",
    "    # backward pass\n",
    "    loss = ll\n",
    "    loss.backward()\n",
    "\n",
    "    if k % 5 == 0:\n",
    "        print(\n",
    "            f'Time Step: {k}|| Loss: {loss},  R0:{R0}, grad: {R0_prime.grad}, alpha: {alpha} grad: {alpha_prime.grad}, phi: {phi} grad: {phi_prime.grad}, sigma: {sigma} grad {sigma_prime.grad}, epsilon_t.mean: {epsilon_t.mean()} grad.mean {epsilon_t.grad.mean()}')\n",
    "        print(\"This Run:  %s seconds\" % (time.time() - start_time))\n",
    "    with torch.no_grad():  # this part is SGD. can also replace with loss.step\n",
    "        tau_prime -= learning_rate * tau_prime.grad\n",
    "        phi_prime -= learning_rate * phi_prime.grad\n",
    "        R0_prime -= learning_rate * R0_prime.grad\n",
    "        alpha_prime -= learning_rate * alpha_prime.grad\n",
    "        sigma_prime -= learning_rate * sigma_prime.grad\n",
    "        epsilon_t -= learning_rate * epsilon_t.grad\n",
    "\n",
    "        tau_prime.grad = None\n",
    "        phi_prime.grad = None\n",
    "        R0_prime.grad = None\n",
    "        alpha_prime.grad = None\n",
    "        sigma_prime.grad = None\n",
    "        epsilon_t.grad = None\n",
    "\n",
    "    if k % 10 == 0:\n",
    "        plt.plot(expected_daily_hospit.cpu().detach().numpy(), label='expected_daily_hospit')\n",
    "        plt.plot(observed_daily_hospit.cpu().detach().numpy(), label='observed_daily_hospit')\n",
    "        plt.legend()\n",
    "        plt.show()\n",
    "\n",
    "print(\"Complete Run:  %s seconds\" % (time.time() - complete_time))"
   ],
   "metadata": {
    "collapsed": false,
    "pycharm": {
     "name": "#%%\n"
    }
   }
  },
  {
   "cell_type": "code",
   "execution_count": null,
   "outputs": [],
   "source": [],
   "metadata": {
    "collapsed": false,
    "pycharm": {
     "name": "#%%"
    }
   }
  }
 ]
}