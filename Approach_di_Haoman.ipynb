{
  "nbformat": 4,
  "nbformat_minor": 0,
  "metadata": {
    "colab": {
      "name": "Copy of CovidPrediction_BaseModel_Tensors.ipynb",
      "provenance": [],
      "collapsed_sections": [],
      "include_colab_link": true
    },
    "kernelspec": {
      "name": "python3",
      "display_name": "Python 3"
    },
    "language_info": {
      "name": "python"
    }
  },
  "cells": [
    {
      "cell_type": "markdown",
      "metadata": {
        "id": "view-in-github",
        "colab_type": "text"
      },
      "source": [
        "<a href=\"https://colab.research.google.com/github/tsuehr/covid-prediction-tu/blob/Epid_Model/Approach_di_Haoman.ipynb\" target=\"_parent\"><img src=\"https://colab.research.google.com/assets/colab-badge.svg\" alt=\"Open In Colab\"/></a>"
      ]
    },
    {
      "cell_type": "markdown",
      "metadata": {
        "id": "WaSNKP69zABm"
      },
      "source": [
        "To Dos:\n",
        "- Add Loss Function\n",
        "- Add Optimization\n",
        "- Define Variables that should be optimized"
      ]
    },
    {
      "cell_type": "code",
      "metadata": {
        "id": "VTtBtBGxMjwG"
      },
      "source": [
        "import scipy.stats\n",
        "import numpy as np\n",
        "import matplotlib.pyplot as plt\n",
        "from scipy.stats import truncexpon, truncnorm, nbinom\n",
        "import pandas as pd\n",
        "import torch"
      ],
      "execution_count": null,
      "outputs": []
    },
    {
      "cell_type": "code",
      "metadata": {
        "id": "FmatRpHb3P2v"
      },
      "source": [
        "np.random.seed(seed=101)\n",
        "torch.manual_seed(101)\n",
        "torch.use_deterministic_algorithms(True)"
      ],
      "execution_count": null,
      "outputs": []
    },
    {
      "cell_type": "code",
      "metadata": {
        "colab": {
          "base_uri": "https://localhost:8080/"
        },
        "id": "3g8-GkS6NU7Y",
        "outputId": "1f413481-2467-4e68-b0e7-1f2365823cf8"
      },
      "source": [
        "from google.colab import drive\n",
        "drive.mount('/content/drive')"
      ],
      "execution_count": null,
      "outputs": [
        {
          "output_type": "stream",
          "text": [
            "Drive already mounted at /content/drive; to attempt to forcibly remount, call drive.mount(\"/content/drive\", force_remount=True).\n"
          ],
          "name": "stdout"
        }
      ]
    },
    {
      "cell_type": "code",
      "metadata": {
        "colab": {
          "base_uri": "https://localhost:8080/"
        },
        "id": "kO1UX4ZMNVXp",
        "outputId": "4218e9d3-6e50-416c-a4ef-40f2297fef59"
      },
      "source": [
        "cd /content/drive/MyDrive/CovidPrediction/"
      ],
      "execution_count": null,
      "outputs": [
        {
          "output_type": "stream",
          "text": [
            "/content/drive/.shortcut-targets-by-id/1Pg1jxQD_gHfZKfWc3NcCyo1kUhmNaccP/CovidPrediction\n"
          ],
          "name": "stdout"
        }
      ]
    },
    {
      "cell_type": "markdown",
      "metadata": {
        "id": "qfpgo2cWNLx5"
      },
      "source": [
        "# Initialization"
      ]
    },
    {
      "cell_type": "code",
      "metadata": {
        "colab": {
          "base_uri": "https://localhost:8080/",
          "height": 141
        },
        "id": "66Bh9ONJNJMR",
        "outputId": "2041d5f8-aa15-4d62-eb88-167ec552aaaf"
      },
      "source": [
        "data = pd.read_csv('data/covid19model.csv')\n",
        "data.head(3)"
      ],
      "execution_count": null,
      "outputs": [
        {
          "output_type": "execute_result",
          "data": {
            "text/html": [
              "<div>\n",
              "<style scoped>\n",
              "    .dataframe tbody tr th:only-of-type {\n",
              "        vertical-align: middle;\n",
              "    }\n",
              "\n",
              "    .dataframe tbody tr th {\n",
              "        vertical-align: top;\n",
              "    }\n",
              "\n",
              "    .dataframe thead th {\n",
              "        text-align: right;\n",
              "    }\n",
              "</style>\n",
              "<table border=\"1\" class=\"dataframe\">\n",
              "  <thead>\n",
              "    <tr style=\"text-align: right;\">\n",
              "      <th></th>\n",
              "      <th>date</th>\n",
              "      <th>hospit</th>\n",
              "      <th>serial_interval</th>\n",
              "      <th>delay_distr</th>\n",
              "    </tr>\n",
              "  </thead>\n",
              "  <tbody>\n",
              "    <tr>\n",
              "      <th>0</th>\n",
              "      <td>2020-02-17</td>\n",
              "      <td>0</td>\n",
              "      <td>0.046535</td>\n",
              "      <td>0.013006</td>\n",
              "    </tr>\n",
              "    <tr>\n",
              "      <th>1</th>\n",
              "      <td>2020-02-18</td>\n",
              "      <td>0</td>\n",
              "      <td>0.087065</td>\n",
              "      <td>0.030046</td>\n",
              "    </tr>\n",
              "    <tr>\n",
              "      <th>2</th>\n",
              "      <td>2020-02-19</td>\n",
              "      <td>0</td>\n",
              "      <td>0.112061</td>\n",
              "      <td>0.044674</td>\n",
              "    </tr>\n",
              "  </tbody>\n",
              "</table>\n",
              "</div>"
            ],
            "text/plain": [
              "         date  hospit  serial_interval  delay_distr\n",
              "0  2020-02-17       0         0.046535     0.013006\n",
              "1  2020-02-18       0         0.087065     0.030046\n",
              "2  2020-02-19       0         0.112061     0.044674"
            ]
          },
          "metadata": {
            "tags": []
          },
          "execution_count": 5
        }
      ]
    },
    {
      "cell_type": "code",
      "metadata": {
        "id": "6BWeg3zYNfD7"
      },
      "source": [
        "num_impute = 6\n",
        "observed_daily_hospit = torch.from_numpy(data.hospit.to_numpy())\n",
        "pi = torch.from_numpy(data.delay_distr.to_numpy())\n",
        "serial_interval = torch.from_numpy(data.serial_interval.to_numpy())\n",
        "population = 5793636\n",
        "num_observations = len(observed_daily_hospit)\n",
        "population_t = torch.from_numpy(np.full(shape=num_observations, fill_value=population))"
      ],
      "execution_count": null,
      "outputs": []
    },
    {
      "cell_type": "markdown",
      "metadata": {
        "id": "KnZypONcN4DZ"
      },
      "source": [
        "Initialize latent variables / parameters"
      ]
    },
    {
      "cell_type": "code",
      "metadata": {
        "id": "BVk4vgPnN3Aw"
      },
      "source": [
        "dtype = torch.float\n",
        "device = torch.device(\"cpu\")\n",
        "\n",
        "tau = np.random.exponential(1 / 0.03)\n",
        "tau_t = torch.tensor(tau, requires_grad=True, device=device, dtype=dtype)\n",
        "# b=(upper-lower)/scale, loc=lower, scale=scale\n",
        "y = torch.tensor(truncexpon.rvs(b=(1000 - 0) / tau, loc=0, scale=tau), requires_grad=False, device=device, dtype=dtype)  # number of initial newly_infected (seed)\n",
        "\n",
        "# For trunc ((lower - mu) / sigma, (upper - mu) / sigma, loc=mu, scale=sigma)\n",
        "phi = torch.tensor(truncnorm.rvs((0 - 0) / 5, (np.inf - 0) / 5, loc=0, scale=5), requires_grad=True, device=device, dtype=dtype)  # dispersion (shape) parameter for observations\n",
        "R0 = torch.tensor(truncnorm.rvs((2 - 3.6) / 0.8, (5 - 3.6) / 0.8, loc=3.6, scale=0.8), requires_grad=True, device=device, dtype=dtype)  # initial reproduction number\n",
        "alpha = torch.tensor(truncnorm.rvs((0 - 1/100) / 1/100, (5/100 - 1/100) / 1/100, loc=1/100, scale=1/100), requires_grad=True, device=device, dtype=dtype)  # probability to get hospitalized\n",
        "sigma = torch.tensor(truncnorm.rvs((0 - 0.05) / 0.03, (0.15 - 0.05) / 0.03, loc=0.05, scale=0.03), requires_grad=True, device=device, dtype=dtype)  # standart deviation of random walk step"
      ],
      "execution_count": null,
      "outputs": []
    },
    {
      "cell_type": "markdown",
      "metadata": {
        "id": "N0KpiwzBRx-P"
      },
      "source": [
        "Initialize time series variables"
      ]
    },
    {
      "cell_type": "code",
      "metadata": {
        "id": "JODvUHyiQFUP"
      },
      "source": [
        "newly_infected = torch.zeros(num_observations)  # number of newly infected\n",
        "effectively_infectious = torch.zeros(num_observations)  # effective number of infectious individuals\n",
        "expected_daily_hospit = torch.zeros(num_observations)  # expected number of daily hospitalizations\n",
        "cumulative_infected = torch.zeros(num_observations)  # cumulative number of infected\n",
        "eta_t = torch.zeros(num_observations)  # transformed reproduction number\n",
        "epsilon_t = torch.zeros(num_observations)  # random walk\n",
        "St = torch.zeros(num_observations)  # fraction of susceptible population"
      ],
      "execution_count": null,
      "outputs": []
    },
    {
      "cell_type": "markdown",
      "metadata": {
        "id": "gLh06kylR54w"
      },
      "source": [
        "seed initial infection / impute first `num_impute` days"
      ]
    },
    {
      "cell_type": "code",
      "metadata": {
        "id": "yWWzpDGiR6Ee"
      },
      "source": [
        "#newly_infected[0:num_impute] = y\n",
        "for i in range(num_impute):\n",
        "  newly_infected[i] = y\n",
        "\n",
        "cumulative_infected[0] = 0.\n",
        "cumulative_infected[1:num_impute] = np.cumsum(newly_infected[0:num_impute - 1])\n",
        "St[0:num_impute] = torch.tensor([np.maximum(population - x, 0)/population for x in cumulative_infected[0:num_impute]])"
      ],
      "execution_count": null,
      "outputs": []
    },
    {
      "cell_type": "markdown",
      "metadata": {
        "id": "kFyBW5v9Iu11"
      },
      "source": [
        "# Calculation"
      ]
    },
    {
      "cell_type": "markdown",
      "metadata": {
        "id": "pqU9Eu45e-He"
      },
      "source": [
        "Define calculation_function"
      ]
    },
    {
      "cell_type": "code",
      "metadata": {
        "id": "BQAFzvvA-zG2"
      },
      "source": [
        "def calc_Rt():\n",
        "  #calculate Rt\n",
        "  beta_0 = torch.log(R0)\n",
        "  epsilon_t[0] = torch.normal(0, sigma)\n",
        "  for t in range(1, num_observations):\n",
        "    epsilon_t[t] = torch.normal(epsilon_t[t-1], sigma)\n",
        "  eta_t = beta_0 + epsilon_t  # + RNN[X_t, t]\n",
        "  Rt = torch.exp(eta_t)\n",
        "  return Rt\n",
        "\n",
        "def calc_newly_infected(Rt, newly_infected):  \n",
        "  #calculate newly_infected\n",
        "  for t in range(num_impute, num_observations):\n",
        "    # Update cumulative newly_infected\n",
        "    cumulative_infected[t] = cumulative_infected[t - 1].clone() + newly_infected[t - 1].clone()\n",
        "    # effective number of infectous individuals\n",
        "    effectively_infectious[t] = np.sum([newly_infected[i].clone() * serial_interval[t-i].clone() for i in range(0, t-1)]) ## To Do!!! \n",
        "  # Adjusts for portion of pop that are susceptible\n",
        "  St[num_impute:] = torch.maximum(torch.tensor(population) - cumulative_infected[num_impute:].clone(), torch.tensor(0) / torch.tensor(population)) ##[num_impute:]\n",
        "  # number of new infections (unobserved)\n",
        "  newly_infected[num_impute:] = St[num_impute:].clone() * Rt[num_impute:].clone() * effectively_infectious[num_impute:].clone()\n",
        "  return newly_infected\n",
        "\n",
        "def calc_exp_hospit(newly_infected):\n",
        "  #calculate expected_daily_hospit\n",
        "  expected_daily_hospit[0] = (1e-15) * newly_infected[0]\n",
        "  for t in range(1, num_observations):\n",
        "    expected_daily_hospit[t] = alpha * np.sum([newly_infected[i] * pi[t - i] for i in range(0, t - 1)]) ## To Do!\n",
        "  return expected_daily_hospit\n",
        "\n",
        "def forward_pass():\n",
        "  Rt = calc_Rt()\n",
        "  newly_inf = calc_newly_infected(Rt, newly_infected)\n",
        "  y_pred = calc_exp_hospit(newly_inf)\n",
        "  return y_pred"
      ],
      "execution_count": null,
      "outputs": []
    },
    {
      "cell_type": "code",
      "metadata": {
        "id": "h3SH4J8HffmJ"
      },
      "source": [
        "y_pred = forward_pass()"
      ],
      "execution_count": null,
      "outputs": []
    },
    {
      "cell_type": "markdown",
      "metadata": {
        "id": "ot3EWx3k4YMm"
      },
      "source": [
        "# Optimization"
      ]
    },
    {
      "cell_type": "code",
      "metadata": {
        "id": "Sf3FQYQ4gHSy"
      },
      "source": [
        "y_true = observed_daily_hospit"
      ],
      "execution_count": null,
      "outputs": []
    },
    {
      "cell_type": "code",
      "metadata": {
        "id": "fE6uY5Sxs82U"
      },
      "source": [
        "import math\n",
        "from torch import nn\n",
        "from torch import optim"
      ],
      "execution_count": null,
      "outputs": []
    },
    {
      "cell_type": "code",
      "metadata": {
        "colab": {
          "base_uri": "https://localhost:8080/"
        },
        "id": "P-UTViSotyak",
        "outputId": "0d14aac2-ba78-452c-cf31-ee90c07b865d"
      },
      "source": [
        "difference = y_true - y_pred\n",
        "print(difference.size())"
      ],
      "execution_count": null,
      "outputs": [
        {
          "output_type": "stream",
          "text": [
            "torch.Size([407])\n"
          ],
          "name": "stdout"
        }
      ]
    },
    {
      "cell_type": "code",
      "metadata": {
        "id": "Sd6H4mdOSrz3"
      },
      "source": [
        "difference = y_true - y_pred\n",
        "difference = difference.view(1, 407)\n",
        "input = difference \n",
        "m = nn.LogSoftmax(dim=1)\n",
        "nll_loss = nn.NLLLoss()\n",
        "target = torch.tensor([0])\n",
        "output = nll_loss(m(input), target)\n",
        "output.backward()"
      ],
      "execution_count": null,
      "outputs": []
    },
    {
      "cell_type": "code",
      "metadata": {
        "id": "Mvyj3i0OrsNg"
      },
      "source": [
        "difference = y_true - y_pred\n",
        "difference = difference.view(1, 407)\n",
        "#is it possible that Andreas wants us to have a logistic ditribution of the difference? \n",
        "#then we will have to convert the difference into a vector of size t and output value of size 1, so the sum will be minimized.   \n",
        "model = nn.Sequential(nn.Linear(407, 407),nn.LogSoftmax(dim=1))\n",
        "    # Define the loss\n",
        "criterion = nn.NLLLoss()\n",
        "    # Optimizers require the parameters to optimize and a learning rate\n",
        "optimizer = optim.SGD(model.parameters(), lr=0.01)\n",
        "epochs = 10\n",
        "target = torch.tensor([0])\n",
        "for e in range(epochs):\n",
        "    running_loss = 0\n",
        "    optimizer.zero_grad() # empty the gradients, otherwise gradients are accumulated.\n",
        "    output = model(difference)\n",
        "    loss = criterion(output, target) \n",
        "    loss.backward(retain_graph=True) # auto-grad \n",
        "    optimizer.step() # update  weights \n",
        "    optimizer.zero_grad()\n",
        "    running_loss += loss.item()\n",
        "    "
      ],
      "execution_count": null,
      "outputs": []
    },
    {
      "cell_type": "code",
      "metadata": {
        "colab": {
          "base_uri": "https://localhost:8080/"
        },
        "id": "C1wF7ArPPYbA",
        "outputId": "5a0f25d4-1843-453d-9e27-e334c8c48ed8"
      },
      "source": [
        "print(model.parameters)"
      ],
      "execution_count": null,
      "outputs": [
        {
          "output_type": "stream",
          "text": [
            "<bound method Module.parameters of Sequential(\n",
            "  (0): Linear(in_features=407, out_features=407, bias=True)\n",
            "  (1): LogSoftmax(dim=1)\n",
            ")>\n"
          ],
          "name": "stdout"
        }
      ]
    },
    {
      "cell_type": "code",
      "metadata": {
        "id": "HmyO5HQzoiNA",
        "colab": {
          "base_uri": "https://localhost:8080/",
          "height": 919
        },
        "outputId": "98bd5298-aa5c-4cb4-d45e-a293a357f4b7"
      },
      "source": [
        "learning_rate = 1e-6\n",
        "torch.autograd.set_detect_anomaly(True)\n",
        "\n",
        "#for t in range (5):\n",
        "# forward pass - calculate expected_daily_hospit\n",
        "\n",
        "\n",
        "loss = (y_true - y_pred).pow(2).sum()\n",
        "#if t % 100 == 99:\n",
        "#  print(t, loss)\n",
        "\n",
        "loss.backward()\n",
        "tau_t.grad\n",
        "\n",
        "\n",
        "\"\"\"with torch.no_grad():\n",
        "  tau_t -= learning_rate * tau_t.grad\n",
        "  phi -= learning_rate * phi.grad\n",
        "  R0 -= learning_rate * R0.grad\n",
        "  alpha -= learning_rate * alpha.grad\n",
        "  sigma -= learning_rate * sigma.grad\n",
        "\n",
        "  tau_t.grad = None\n",
        "  phi.grad = None\n",
        "  R0.grad = None\n",
        "  alpha.grad = None\n",
        "  sigma.grad = None\"\"\"\n",
        "  \n",
        "#print(f'Result: tau = {tau_t.item()}, phi = {phi.item()}, R0 = {R0.item()}, alpha = {alpha.item()}, sigma = {sigma.item()},')"
      ],
      "execution_count": null,
      "outputs": [
        {
          "output_type": "stream",
          "text": [
            "/usr/local/lib/python3.7/dist-packages/torch/autograd/__init__.py:147: UserWarning: Error detected in torch::autograd::CopySlices. No forward pass information available. Enable detect anomaly during forward pass for more information. (Triggered internally at  /pytorch/torch/csrc/autograd/python_anomaly_mode.cpp:85.)\n",
            "  allow_unreachable=True, accumulate_grad=True)  # allow_unreachable flag\n",
            "ERROR:root:Internal Python error in the inspect module.\n",
            "Below is the traceback from this internal error.\n",
            "\n"
          ],
          "name": "stderr"
        },
        {
          "output_type": "stream",
          "text": [
            "Traceback (most recent call last):\n",
            "  File \"/usr/local/lib/python3.7/dist-packages/IPython/core/interactiveshell.py\", line 2882, in run_code\n",
            "    exec(code_obj, self.user_global_ns, self.user_ns)\n",
            "  File \"<ipython-input-106-e42db52dcb72>\", line 12, in <module>\n",
            "    loss.backward()\n",
            "  File \"/usr/local/lib/python3.7/dist-packages/torch/tensor.py\", line 245, in backward\n",
            "    torch.autograd.backward(self, gradient, retain_graph, create_graph, inputs=inputs)\n",
            "  File \"/usr/local/lib/python3.7/dist-packages/torch/autograd/__init__.py\", line 147, in backward\n",
            "    allow_unreachable=True, accumulate_grad=True)  # allow_unreachable flag\n",
            "RuntimeError: Trying to backward through the graph a second time, but the saved intermediate results have already been freed. Specify retain_graph=True when calling .backward() or autograd.grad() the first time.\n",
            "\n",
            "During handling of the above exception, another exception occurred:\n",
            "\n",
            "Traceback (most recent call last):\n",
            "  File \"/usr/local/lib/python3.7/dist-packages/IPython/core/interactiveshell.py\", line 1823, in showtraceback\n",
            "    stb = value._render_traceback_()\n",
            "AttributeError: 'RuntimeError' object has no attribute '_render_traceback_'\n",
            "\n",
            "During handling of the above exception, another exception occurred:\n",
            "\n",
            "Traceback (most recent call last):\n",
            "  File \"/usr/local/lib/python3.7/dist-packages/IPython/core/ultratb.py\", line 1132, in get_records\n",
            "    return _fixed_getinnerframes(etb, number_of_lines_of_context, tb_offset)\n",
            "  File \"/usr/local/lib/python3.7/dist-packages/IPython/core/ultratb.py\", line 313, in wrapped\n",
            "    return f(*args, **kwargs)\n",
            "  File \"/usr/local/lib/python3.7/dist-packages/IPython/core/ultratb.py\", line 358, in _fixed_getinnerframes\n",
            "    records = fix_frame_records_filenames(inspect.getinnerframes(etb, context))\n",
            "  File \"/usr/lib/python3.7/inspect.py\", line 1502, in getinnerframes\n",
            "    frameinfo = (tb.tb_frame,) + getframeinfo(tb, context)\n",
            "  File \"/usr/lib/python3.7/inspect.py\", line 1460, in getframeinfo\n",
            "    filename = getsourcefile(frame) or getfile(frame)\n",
            "  File \"/usr/lib/python3.7/inspect.py\", line 696, in getsourcefile\n",
            "    if getattr(getmodule(object, filename), '__loader__', None) is not None:\n",
            "  File \"/usr/lib/python3.7/inspect.py\", line 725, in getmodule\n",
            "    file = getabsfile(object, _filename)\n",
            "  File \"/usr/lib/python3.7/inspect.py\", line 709, in getabsfile\n",
            "    return os.path.normcase(os.path.abspath(_filename))\n",
            "  File \"/usr/lib/python3.7/posixpath.py\", line 383, in abspath\n",
            "    cwd = os.getcwd()\n",
            "FileNotFoundError: [Errno 2] No such file or directory\n"
          ],
          "name": "stdout"
        },
        {
          "output_type": "error",
          "ename": "RuntimeError",
          "evalue": "ignored",
          "traceback": [
            "\u001b[0;31m---------------------------------------------------------------------------\u001b[0m"
          ]
        }
      ]
    },
    {
      "cell_type": "code",
      "metadata": {
        "id": "f8pZIEpUoiS2",
        "colab": {
          "base_uri": "https://localhost:8080/",
          "height": 172
        },
        "outputId": "d19ea371-61a7-401a-aaae-98e763c3d3e6"
      },
      "source": [
        "tau_t.grad.dtype"
      ],
      "execution_count": null,
      "outputs": [
        {
          "output_type": "error",
          "ename": "AttributeError",
          "evalue": "ignored",
          "traceback": [
            "\u001b[0;31m---------------------------------------------------------------------------\u001b[0m",
            "\u001b[0;31mAttributeError\u001b[0m                            Traceback (most recent call last)",
            "\u001b[0;32m<ipython-input-19-884c9195bdb2>\u001b[0m in \u001b[0;36m<module>\u001b[0;34m()\u001b[0m\n\u001b[0;32m----> 1\u001b[0;31m \u001b[0mtau_t\u001b[0m\u001b[0;34m.\u001b[0m\u001b[0mgrad\u001b[0m\u001b[0;34m.\u001b[0m\u001b[0mdtype\u001b[0m\u001b[0;34m\u001b[0m\u001b[0;34m\u001b[0m\u001b[0m\n\u001b[0m",
            "\u001b[0;31mAttributeError\u001b[0m: 'NoneType' object has no attribute 'dtype'"
          ]
        }
      ]
    },
    {
      "cell_type": "code",
      "metadata": {
        "id": "eJrWvUw5oiV-",
        "colab": {
          "base_uri": "https://localhost:8080/"
        },
        "outputId": "4bd3a4b0-ea0e-465c-9c17-97faf5f9ded1"
      },
      "source": [
        "print(loss)"
      ],
      "execution_count": null,
      "outputs": [
        {
          "output_type": "stream",
          "text": [
            "tensor(2.1500e+11, grad_fn=<SumBackward0>)\n"
          ],
          "name": "stdout"
        }
      ]
    },
    {
      "cell_type": "code",
      "metadata": {
        "id": "FBzwId_moiYU",
        "colab": {
          "base_uri": "https://localhost:8080/"
        },
        "outputId": "3548c0ce-34ec-404a-86d5-b5d271991382"
      },
      "source": [
        "print(tau_t)"
      ],
      "execution_count": null,
      "outputs": [
        {
          "output_type": "stream",
          "text": [
            "tensor(24.2165, requires_grad=True)\n"
          ],
          "name": "stdout"
        }
      ]
    },
    {
      "cell_type": "code",
      "metadata": {
        "colab": {
          "base_uri": "https://localhost:8080/",
          "height": 164
        },
        "id": "D1jzeczTjFMY",
        "outputId": "8c938857-1d27-49ca-e600-0f11cb4f2f70"
      },
      "source": [
        ""
      ],
      "execution_count": null,
      "outputs": [
        {
          "output_type": "error",
          "ename": "TypeError",
          "evalue": "ignored",
          "traceback": [
            "\u001b[0;31m---------------------------------------------------------------------------\u001b[0m",
            "\u001b[0;31mTypeError\u001b[0m                                 Traceback (most recent call last)",
            "\u001b[0;32m<ipython-input-21-ef7cda9a1c1b>\u001b[0m in \u001b[0;36m<module>\u001b[0;34m()\u001b[0m\n\u001b[0;32m----> 1\u001b[0;31m \u001b[0mphi\u001b[0m\u001b[0;34m.\u001b[0m\u001b[0mgrad\u001b[0m\u001b[0;34m(\u001b[0m\u001b[0;34m)\u001b[0m\u001b[0;34m\u001b[0m\u001b[0;34m\u001b[0m\u001b[0m\n\u001b[0m",
            "\u001b[0;31mTypeError\u001b[0m: 'NoneType' object is not callable"
          ]
        }
      ]
    },
    {
      "cell_type": "markdown",
      "metadata": {
        "id": "9KVaHBOjSY4P"
      },
      "source": [
        "compare observed hospitalizations to model results"
      ]
    },
    {
      "cell_type": "code",
      "metadata": {
        "id": "b53p-Q7QdRgd"
      },
      "source": [
        "expected_daily_hospit_np = y_pred.detach().numpy()"
      ],
      "execution_count": null,
      "outputs": []
    },
    {
      "cell_type": "code",
      "metadata": {
        "colab": {
          "base_uri": "https://localhost:8080/",
          "height": 592
        },
        "id": "OWOxqWBXSY9i",
        "outputId": "4528772f-4456-4989-fd69-8cc250029b0c"
      },
      "source": [
        "plt.figure(figsize=(10,10))\n",
        "plt.plot(expected_daily_hospit_np, label='expected_daily_hospit')\n",
        "plt.plot(observed_daily_hospit, label='observed_daily_hospit')\n",
        "plt.legend()\n",
        "plt.show()"
      ],
      "execution_count": null,
      "outputs": [
        {
          "output_type": "display_data",
          "data": {
            "image/png": "[encoded data removed]",
            "text/plain": [
              "<Figure size 720x720 with 1 Axes>"
            ]
          },
          "metadata": {
            "tags": [],
            "needs_background": "light"
          }
        }
      ]
    },
    {
      "cell_type": "code",
      "metadata": {
        "id": "Y8mCyTNuTCCU"
      },
      "source": [
        ""
      ],
      "execution_count": null,
      "outputs": []
    }
  ]
}