{
 "nbformat": 4,
 "nbformat_minor": 0,
 "metadata": {
  "kernelspec": {
   "display_name": "Python 3",
   "language": "python",
   "name": "python3"
  },
  "language_info": {
   "codemirror_mode": {
    "name": "ipython",
    "version": 2
   },
   "file_extension": ".py",
   "mimetype": "text/x-python",
   "name": "python",
   "nbconvert_exporter": "python",
   "pygments_lexer": "ipython2",
   "version": "2.7.6"
  },
  "colab": {
   "name": "NLL_experimental.ipynb",
   "provenance": [],
   "collapsed_sections": []
  }
 },
 "cells": [
  {
   "cell_type": "code",
   "metadata": {
    "pycharm": {
     "name": "#%%\n"
    },
    "id": "d17BEQFdPTqc"
   },
   "source": [
    "import scipy.stats\n",
    "import numpy as np\n",
    "import matplotlib.pyplot as plt\n",
    "from scipy.stats import expon, truncexpon, truncnorm, nbinom, norm\n",
    "import pandas as pd\n",
    "import time\n",
    "import torch\n",
    "from torch import nn\n",
    "from torch import distributions\n",
    "from torch import rand\n",
    "from torch import autograd\n",
    "from torch import optim"
   ],
   "execution_count": 2,
   "outputs": []
  },
  {
   "cell_type": "markdown",
   "metadata": {
    "id": "CKrtniEQXKNl"
   },
   "source": [
    "Questions Andreas:\n",
    "- How is Epsilon updated?"
   ]
  },
  {
   "cell_type": "code",
   "metadata": {
    "pycharm": {
     "name": "#%%\n"
    },
    "id": "pdBc47jlPTqe"
   },
   "source": [
    "np.random.seed(seed=101)\n",
    "torch.manual_seed(101)\n",
    "torch.use_deterministic_algorithms(True)\n",
    "dtype = torch.float64\n",
    "device = torch.device(\"cpu\")"
   ],
   "execution_count": 3,
   "outputs": []
  },
  {
   "cell_type": "code",
   "metadata": {
    "colab": {
     "base_uri": "https://localhost:8080/"
    },
    "id": "EaFwH9Vm7YMg",
    "outputId": "59f5384a-56f8-4334-e3c4-340eb03939cb"
   },
   "source": [
    "data = pd.read_csv('../../data/covid19model.csv')"
   ],
   "execution_count": 4,
   "outputs": []
  },
  {
   "cell_type": "code",
   "metadata": {
    "id": "4seIKt9FY5OF"
   },
   "source": [
    "def trunc_exponential(scale, upper):\n",
    "    sample = torch.distributions.exponential.Exponential(1/scale).rsample()\n",
    "    sample = sample/torch.tensor(1-torch.exp(-upper/scale))\n",
    "    return sample\n",
    "# torch.distributions.exponential.Exponential(1/scale).sample()/torch.tensor(1-torch.exp(-upper/scale))\n",
    "\n",
    "def trunc_normal(mu, sigma, under, upper):\n",
    "    distribution = torch.distributions.normal.Normal(loc=mu, scale=sigma, validate_args=None)\n",
    "    normal_sample = distribution.rsample()\n",
    "    cumulative = distribution.cdf(torch.tensor(upper)) - distribution.cdf(torch.tensor(under))\n",
    "    return normal_sample/cumulative"
   ],
   "execution_count": 7,
   "outputs": []
  },
  {
   "cell_type": "markdown",
   "metadata": {
    "id": "d2IY_KzX7uV9"
   },
   "source": [
    "# Initialization\n"
   ]
  },
  {
   "cell_type": "code",
   "metadata": {
    "pycharm": {
     "name": "#%%\n"
    },
    "id": "7remU4ygPTqf"
   },
   "source": [
    "cero = torch.tensor(0., requires_grad=False, device=device, dtype=dtype)\n",
    "num_impute = 6\n",
    "observed_daily_hospit = torch.tensor(data.hospit, requires_grad=False, device=device, dtype=dtype)\n",
    "pi = torch.tensor(data.delay_distr, requires_grad=False, device=device, dtype=dtype)\n",
    "serial_interval = torch.tensor(data.serial_interval, requires_grad=False, device=device, dtype=dtype)\n",
    "population = torch.tensor(5793636, requires_grad=False, device=device, dtype=dtype)\n",
    "num_observations = len(observed_daily_hospit)"
   ],
   "execution_count": 9,
   "outputs": []
  },
  {
   "cell_type": "markdown",
   "metadata": {
    "id": "NG5jECpf77Xk"
   },
   "source": [
    "## Initialize latent variables/parameters"
   ]
  },
  {
   "cell_type": "code",
   "metadata": {
    "pycharm": {
     "name": "#%%\n"
    },
    "id": "9XhscamaPTqg",
    "colab": {
     "base_uri": "https://localhost:8080/"
    },
    "outputId": "486b555d-8bfb-4541-e4a1-84ca4a601834"
   },
   "source": [
    "\"\"\"tau = np.random.exponential(1 / 0.03)\n",
    "tau_t = torch.tensor(tau, requires_grad=True, device=device, dtype=dtype)\n",
    "# b=(upper-lower)/scale, loc=lower, scale=scale\n",
    "y = torch.tensor(truncexpon.rvs(b=(1000 - 0) / tau, loc=0, scale=tau), requires_grad=False, device=device, dtype=dtype)  # number of initial newly_infected (seed)\"\"\"\n",
    "\n",
    "\n",
    "tau= torch.tensor(np.random.exponential(1 / 0.03), requires_grad=True, device=device, dtype=dtype)\n",
    "# b=(upper-lower)/scale, loc=lower, scale=scale\n",
    "\n",
    "# For trunc ((lower - mu) / sigma, (upper - mu) / sigma, loc=mu, scale=sigma)\n",
    "phi = torch.tensor(truncnorm.rvs((0 - 25) / 10, (np.inf - 25) / 10, loc=25, scale=10), requires_grad=True, device=device, dtype=dtype)  # dispersion (shape) parameter for observations\n",
    "R0 = torch.tensor(truncnorm.rvs((2 - 3.6) / 0.8, (5 - 3.6) / 0.8, loc=3.6, scale=0.8), requires_grad=True, device=device, dtype=dtype)  # initial reproduction number\n",
    "alpha = torch.tensor(truncnorm.rvs((0 - 1/100) / 1/100, (5/100 - 1/100) / 1/100, loc=1/100, scale=1/100), requires_grad=True, device=device, dtype=dtype)  # probability to get hospitalized\n",
    "sigma = torch.tensor(truncnorm.rvs((0 - 0.1) / 0.3, (0.5 - 0.1) / 0.3, loc=0.1, scale=0.3), requires_grad=True, device=device, dtype=dtype)  # standart deviation of random walk step"
   ],
   "execution_count": 11,
   "outputs": []
  },
  {
   "cell_type": "markdown",
   "metadata": {
    "id": "vtO_C9CTSkM-"
   },
   "source": [
    "This is a way to generate the initial params from pytorch distribution directly without truncation.\n",
    "NOTE: Use either this code block below or above."
   ]
  },
  {
   "cell_type": "code",
   "metadata": {
    "id": "JcKQh9lISjqA"
   },
   "source": [
    "dist_tau_t = distributions.exponential.Exponential(torch.tensor([1/0.03], device=device))\n",
    "#tau_t = dist_tau_t.sample()\n",
    "\n",
    "dist_y = distributions.exponential.Exponential(tau)\n",
    "#y = dist_y.sample()\n",
    "\n",
    "dist_phi = distributions.normal.Normal(loc=torch.tensor([25], device=device), scale=torch.tensor([10], device=device))\n",
    "#phi = dist_phi.sample()\n",
    "\n",
    "dist_R0 = distributions.normal.Normal(loc=torch.tensor([3.6], device=device), scale=torch.tensor([0.8], device=device))\n",
    "#R0 = dist_R0.sample()\n",
    "\n",
    "dist_alpha = distributions.normal.Normal(loc=torch.tensor([0.01], device=device), scale=torch.tensor([0.01], device=device))\n",
    "#alpha = dist_alpha.sample()\n",
    "\n",
    "dist_sigma = distributions.normal.Normal(loc=torch.tensor([0.1], device=device), scale=torch.tensor([0.3], device=device))\n",
    "#sigma = dist_sigma.sample()"
   ],
   "execution_count": 12,
   "outputs": []
  },
  {
   "cell_type": "code",
   "metadata": {
    "id": "ZMjKp-RPTJHu"
   },
   "source": [
    "#epsilon_t = torch.randn(num_observations, requires_grad=True, device=device, dtype=dtype)\n",
    "epsilon_t = torch.zeros(num_observations, device=device)"
   ],
   "execution_count": 13,
   "outputs": []
  },
  {
   "cell_type": "code",
   "metadata": {
    "id": "KErCJ6HrK-uO"
   },
   "source": [
    "epsilon_t[0] = torch.distributions.Normal(cero, sigma).rsample()\n",
    "for t in range(1, num_observations):\n",
    "  epsilon_t[t] = torch.distributions.Normal(epsilon_t[t - 1].clone(), sigma).rsample()"
   ],
   "execution_count": 16,
   "outputs": []
  },
  {
   "cell_type": "markdown",
   "metadata": {
    "id": "0fI1Yjma8CL8"
   },
   "source": [
    "# Define Forward Pass"
   ]
  },
  {
   "cell_type": "code",
   "metadata": {
    "pycharm": {
     "name": "#%%\n"
    },
    "id": "qRpAr7FAPTqh"
   },
   "source": [
    "def forward_pass():\n",
    "  epsilon_t.retain_grad()\n",
    "  # Initialize time series variables\n",
    "  y = trunc_exponential(tau, 1000)\n",
    "  newly_infected = torch.zeros(num_observations, device=device)  # number of newly infected\n",
    "  effectively_infectious = torch.zeros(num_observations, device=device)  # effective number of infectious individuals\n",
    "  expected_daily_hospit = torch.zeros(num_observations, device=device)  # expected number of daily hospitalizations\n",
    "  cumulative_infected = torch.zeros(num_observations, device=device)  # cumulative number of infected\n",
    "  eta_t = torch.zeros(num_observations, device=device)  # transformed reproduction number\n",
    "  #epsilon_t = torch.zeros(num_observations, device=device)  # random walk\n",
    "  St = torch.zeros(num_observations, device=device)  # fraction of susceptible population\n",
    "\n",
    "  # log likelihood wrt. our prior (\"regularisation\")\n",
    "  # ll stands for log-likelihood\n",
    "  ll = torch.tensor(0.0, device=device)\n",
    "\n",
    "  #dist_tau_t = distributions.exponential.Exponential(torch.tensor([1/0.03]))\n",
    "  ll += dist_tau_t.log_prob(tau).item()\n",
    "\n",
    "  #dist_y = distributions.exponential.Exponential(tau) #the parameter in the brasket should either be float or tensor, to avoid any inconvienience,\n",
    "                                                      # I use everything as tensor. NOTE:tau_t is already a tensor.\n",
    "  #ll += dist_y.log_prob(y).item()\n",
    "\n",
    "  #dist_phi = distribution.normal.Normal(loc=torch.tensor([25]), scale=torch.tensor([10]))\n",
    "  ll += dist_phi.log_prob(phi).item()\n",
    "\n",
    "  #dist_R0 = distribution.normal.Normal(loc=torch.tensor([3.6]), scale=torch.tensor([0.8]))\n",
    "  ll += dist_R0.log_prob(R0).item()\n",
    "\n",
    "  #dist_alpha = distribution.normal.Normal(loc=torch.tensor([0.01]), scale=torch.tensor([0.01]))\n",
    "  ll += dist_alpha.log_prob(alpha).item()\n",
    "\n",
    "  #dist_sigma = distribution.normal.Normal(loc=torch.tensor([0.1]), scale=torch.tensor([0.3]))\n",
    "  #ll += dist_sigma.log_prob(sigma).item()\n",
    "\n",
    "\n",
    "  # seed initial infection / impute first num_impute days\n",
    "  newly_infected[0:num_impute] = y.clone()\n",
    "  cumulative_infected[0] = 0.\n",
    "  cumulative_infected[1:num_impute] = torch.cumsum(newly_infected[0:num_impute - 1].clone(), dim=0)\n",
    "  St[0:num_impute] = torch.tensor([torch.maximum(population.clone() - x, torch.tensor(0)) / population for x in cumulative_infected[0:num_impute].clone()])\n",
    "\n",
    "  # calculate Rt: the basic reproduction number\n",
    "  # basic reproduction number as a latent random walk\n",
    "  beta_0 = torch.log(R0)\n",
    "  eta_t[0] = beta_0\n",
    "  #epsilon_t[0] = torch.distributions.Normal(cero, sigma).rsample()\n",
    "  for t in range(1, num_observations):\n",
    "      #epsilon_t[t] = torch.distributions.Normal(epsilon_t[t - 1].clone(), sigma).rsample()\n",
    "      dist_epsilon_t = torch.distributions.Normal(epsilon_t[t - 1], sigma)\n",
    "      ll += dist_epsilon_t.log_prob(epsilon_t[t - 1]).item() #epsilon_t.log_prob(epsilon_t[t - 1]) ---> Andreas: whats the correct regularization - epsilon or eta? \n",
    "  eta_t[1:num_observations] = beta_0 + epsilon_t[0:num_observations-1].clone() # \t--> Andreas:\tηt[t] = ϵt[t-1] # + RNN[X_t, t] - add beta_0 to all values or only equals eta_t[0] \n",
    "  Rt = torch.exp(eta_t)\n",
    "\n",
    "  # calculate infections\n",
    "  for t in range(num_impute, num_observations):\n",
    "      # Update cumulative newly_infected\n",
    "      cumulative_infected[t] = cumulative_infected[t - 1].clone() + newly_infected[t - 1].clone()\n",
    "      # Adjusts for portion of pop that are susceptible\n",
    "      St[t] = torch.maximum(population.clone() - cumulative_infected[t].clone(), cero) / population.clone()\n",
    "      # effective number of infectous individuals\n",
    "\n",
    "      for i in range(0, t-1): # correct range or change to (0, t) ?\n",
    "          effectively_infectious[t] += newly_infected[i].clone() * serial_interval[t - i].clone()\n",
    "      newly_infected[t] = St[t].clone() * Rt[t].clone() * effectively_infectious[t].clone()\n",
    "\n",
    "  # calculate expected number of hospitalizations\n",
    "  expected_daily_hospit[0] = (1e-15) * newly_infected[0].clone()\n",
    "  for t in range(1, num_observations):\n",
    "      for i in range(0, t):\n",
    "          expected_daily_hospit[t] += newly_infected[i].clone() * pi[t - i].clone()\n",
    "  expected_daily_hospit = alpha * expected_daily_hospit\n",
    "\n",
    "  # compare observed hospitalizations to model results\n",
    "  # likelihood of the data wrt. to the model\n",
    "\n",
    "  for i in range(0, num_observations):\n",
    "\n",
    "      p = 1/(1+ expected_daily_hospit[i]/phi)\n",
    "      dist = torch.distributions.negative_binomial.NegativeBinomial(phi, p-torch.tensor(2.225e-5))\n",
    "      ll += dist.log_prob(observed_daily_hospit[i])\n",
    "\n",
    "\n",
    "  return expected_daily_hospit, Rt, ll"
   ],
   "execution_count": 18,
   "outputs": []
  },
  {
   "cell_type": "markdown",
   "metadata": {
    "id": "mg2pWcC384K0"
   },
   "source": [
    "# Optimization"
   ]
  },
  {
   "cell_type": "code",
   "metadata": {
    "pycharm": {
     "name": "#%%\n"
    },
    "id": "BBZ3KIq1PTqk",
    "colab": {
     "base_uri": "https://localhost:8080/",
     "height": 694
    },
    "outputId": "1d463846-7875-4ce3-8773-dccb7f0600a4"
   },
   "source": [
    "learning_rate = 1e-4\n",
    "complete_time = time.time()\n",
    "\n",
    "for k in range (400):\n",
    "    start_time = time.time()\n",
    "    # forward pass - calculate expected_daily_hospit\n",
    "    expected_daily_hospit, Rt, ll = forward_pass()\n",
    "\n",
    "    #backward pass\n",
    "    loss = -ll\n",
    "    loss.backward()\n",
    "\n",
    "    print(f'Time Step: {k}, Loss: {loss}, Observed_daily_hospit: {torch.sum(observed_daily_hospit)}, Expected_daily_hospit: {torch.sum(expected_daily_hospit)}')\n",
    "    print(f'|| Learning Rate: {learning_rate}, R0:{R0}, grad: {R0.grad}, alpha: {alpha} grad: {alpha.grad}, phi: {phi} grad: {phi.grad}, epsilon_t.mean: {epsilon_t.mean()} grad.mean {epsilon_t.grad.mean()}') # , sigma: {sigma} grad {sigma.grad}'  , \n",
    "\n",
    "    with torch.no_grad(): # this part is SGD. can also replace with loss.step\n",
    "        tau -= learning_rate * tau.grad\n",
    "        phi -= learning_rate * phi.grad * 1e-3\n",
    "        R0 -= learning_rate * R0.grad * 1e-3\n",
    "        alpha -= learning_rate * alpha.grad * 1e-6\n",
    "        #sigma -= learning_rate * sigma.grad * 1e-6\n",
    "        epsilon_t -= learning_rate * epsilon_t.grad\n",
    "\n",
    "        tau.grad = None\n",
    "        phi.grad = None\n",
    "        R0.grad = None\n",
    "        alpha.grad = None\n",
    "        #sigma.grad = None\n",
    "        epsilon_t.grad = None\n",
    "\n",
    "    epsilon_t = epsilon_t.detach()\n",
    "    epsilon_t.requires_grad_(True)\n",
    "    tau = tau.detach()\n",
    "    tau.requires_grad_(True)\n",
    "\n",
    "        \n",
    "    print(\"This Run:  %s seconds\" % (time.time() - start_time))\n",
    "    if k%10 == 0:\n",
    "        plt.plot(expected_daily_hospit.cpu().detach().numpy(), label='expected_daily_hospit')\n",
    "        plt.plot(observed_daily_hospit.cpu().detach().numpy(), label='observed_daily_hospit')\n",
    "        plt.legend()\n",
    "        plt.show()\n",
    "\n",
    "\n",
    "print(\"Complete Run:  %s seconds\" % (time.time() - complete_time))"
   ],
   "execution_count": 19,
   "outputs": [
    {
     "name": "stderr",
     "output_type": "stream",
     "text": [
      "<ipython-input-7-2bb73561946a>:3: UserWarning: To copy construct from a tensor, it is recommended to use sourceTensor.clone().detach() or sourceTensor.clone().detach().requires_grad_(True), rather than torch.tensor(sourceTensor).\n",
      "  sample = sample/torch.tensor(1-torch.exp(-upper/scale))\n",
      "<ipython-input-7-2bb73561946a>:3: UserWarning: To copy construct from a tensor, it is recommended to use sourceTensor.clone().detach() or sourceTensor.clone().detach().requires_grad_(True), rather than torch.tensor(sourceTensor).\n",
      "  sample = sample/torch.tensor(1-torch.exp(-upper/scale))\n"
     ]
    },
    {
     "name": "stdout",
     "output_type": "stream",
     "text": [
      "Time Step: 0, Loss: 91749.828125, Observed_daily_hospit: 13199.0, Expected_daily_hospit: 57286.015625\n",
      "|| Learning Rate: 0.0001, R0:3.204308148969499, grad: -3587.899115975264, alpha: 0.010003468065372795 grad: -610356.5, phi: 34.738251064716415 grad: 2954.2613562484567, epsilon_t.mean: 1.9244096279144287 grad.mean -28.24750518798828\n",
      "This Run:  30.31880283355713 seconds\n",
      "Time Step: 1, Loss: 88042.6953125, Observed_daily_hospit: 13199.0, Expected_daily_hospit: 57890.58984375\n",
      "|| Learning Rate: 0.0001, R0:3.2046669388810964, grad: -12009.782076117335, alpha: 0.010064503715372795 grad: -615005.625, phi: 34.73795563858079 grad: 2848.944067436659, epsilon_t.mean: 1.9272345304489136 grad.mean -94.56351470947266\n",
      "This Run:  32.74519729614258 seconds\n",
      "Time Step: 2, Loss: 90637.8125, Observed_daily_hospit: 13199.0, Expected_daily_hospit: 58194.546875\n",
      "|| Learning Rate: 0.0001, R0:3.205867917088708, grad: -5390.255529091669, alpha: 0.010126004277872795 grad: -610049.875, phi: 34.737670744174046 grad: 2924.1446454946213, epsilon_t.mean: 1.9366908073425293 grad.mean -42.45810317993164\n",
      "This Run:  32.256970167160034 seconds\n"
     ]
    },
    {
     "data": {
      "text/plain": "<Figure size 432x288 with 1 Axes>",
      "image/png": "[encoded data removed]"
     },
     "metadata": {
      "needs_background": "light"
     },
     "output_type": "display_data"
    },
    {
     "ename": "KeyboardInterrupt",
     "evalue": "",
     "output_type": "error",
     "traceback": [
      "\u001B[1;31m---------------------------------------------------------------------------\u001B[0m",
      "\u001B[1;31mKeyboardInterrupt\u001B[0m                         Traceback (most recent call last)",
      "\u001B[1;32m<ipython-input-19-af1819bc78d2>\u001B[0m in \u001B[0;36m<module>\u001B[1;34m\u001B[0m\n\u001B[0;32m      5\u001B[0m     \u001B[0mstart_time\u001B[0m \u001B[1;33m=\u001B[0m \u001B[0mtime\u001B[0m\u001B[1;33m.\u001B[0m\u001B[0mtime\u001B[0m\u001B[1;33m(\u001B[0m\u001B[1;33m)\u001B[0m\u001B[1;33m\u001B[0m\u001B[1;33m\u001B[0m\u001B[0m\n\u001B[0;32m      6\u001B[0m     \u001B[1;31m# forward pass - calculate expected_daily_hospit\u001B[0m\u001B[1;33m\u001B[0m\u001B[1;33m\u001B[0m\u001B[1;33m\u001B[0m\u001B[0m\n\u001B[1;32m----> 7\u001B[1;33m     \u001B[0mexpected_daily_hospit\u001B[0m\u001B[1;33m,\u001B[0m \u001B[0mRt\u001B[0m\u001B[1;33m,\u001B[0m \u001B[0mll\u001B[0m \u001B[1;33m=\u001B[0m \u001B[0mforward_pass\u001B[0m\u001B[1;33m(\u001B[0m\u001B[1;33m)\u001B[0m\u001B[1;33m\u001B[0m\u001B[1;33m\u001B[0m\u001B[0m\n\u001B[0m\u001B[0;32m      8\u001B[0m \u001B[1;33m\u001B[0m\u001B[0m\n\u001B[0;32m      9\u001B[0m     \u001B[1;31m#backward pass\u001B[0m\u001B[1;33m\u001B[0m\u001B[1;33m\u001B[0m\u001B[1;33m\u001B[0m\u001B[0m\n",
      "\u001B[1;32m<ipython-input-18-bb15dc9b0cde>\u001B[0m in \u001B[0;36mforward_pass\u001B[1;34m()\u001B[0m\n\u001B[0;32m     69\u001B[0m   \u001B[1;32mfor\u001B[0m \u001B[0mt\u001B[0m \u001B[1;32min\u001B[0m \u001B[0mrange\u001B[0m\u001B[1;33m(\u001B[0m\u001B[1;36m1\u001B[0m\u001B[1;33m,\u001B[0m \u001B[0mnum_observations\u001B[0m\u001B[1;33m)\u001B[0m\u001B[1;33m:\u001B[0m\u001B[1;33m\u001B[0m\u001B[1;33m\u001B[0m\u001B[0m\n\u001B[0;32m     70\u001B[0m       \u001B[1;32mfor\u001B[0m \u001B[0mi\u001B[0m \u001B[1;32min\u001B[0m \u001B[0mrange\u001B[0m\u001B[1;33m(\u001B[0m\u001B[1;36m0\u001B[0m\u001B[1;33m,\u001B[0m \u001B[0mt\u001B[0m\u001B[1;33m)\u001B[0m\u001B[1;33m:\u001B[0m\u001B[1;33m\u001B[0m\u001B[1;33m\u001B[0m\u001B[0m\n\u001B[1;32m---> 71\u001B[1;33m           \u001B[0mexpected_daily_hospit\u001B[0m\u001B[1;33m[\u001B[0m\u001B[0mt\u001B[0m\u001B[1;33m]\u001B[0m \u001B[1;33m+=\u001B[0m \u001B[0mnewly_infected\u001B[0m\u001B[1;33m[\u001B[0m\u001B[0mi\u001B[0m\u001B[1;33m]\u001B[0m\u001B[1;33m.\u001B[0m\u001B[0mclone\u001B[0m\u001B[1;33m(\u001B[0m\u001B[1;33m)\u001B[0m \u001B[1;33m*\u001B[0m \u001B[0mpi\u001B[0m\u001B[1;33m[\u001B[0m\u001B[0mt\u001B[0m \u001B[1;33m-\u001B[0m \u001B[0mi\u001B[0m\u001B[1;33m]\u001B[0m\u001B[1;33m.\u001B[0m\u001B[0mclone\u001B[0m\u001B[1;33m(\u001B[0m\u001B[1;33m)\u001B[0m\u001B[1;33m\u001B[0m\u001B[1;33m\u001B[0m\u001B[0m\n\u001B[0m\u001B[0;32m     72\u001B[0m   \u001B[0mexpected_daily_hospit\u001B[0m \u001B[1;33m=\u001B[0m \u001B[0malpha\u001B[0m \u001B[1;33m*\u001B[0m \u001B[0mexpected_daily_hospit\u001B[0m\u001B[1;33m\u001B[0m\u001B[1;33m\u001B[0m\u001B[0m\n\u001B[0;32m     73\u001B[0m \u001B[1;33m\u001B[0m\u001B[0m\n",
      "\u001B[1;31mKeyboardInterrupt\u001B[0m: "
     ]
    }
   ]
  },
  {
   "cell_type": "code",
   "metadata": {
    "id": "okXFxQvQ_9uV"
   },
   "source": [
    ""
   ],
   "execution_count": null,
   "outputs": []
  }
 ]
}