{
  "nbformat": 4,
  "nbformat_minor": 0,
  "metadata": {
    "colab": {
      "name": "NLL_V3.ipynb",
      "provenance": [],
      "collapsed_sections": [],
      "include_colab_link": true
    },
    "kernelspec": {
      "display_name": "Python 3",
      "language": "python",
      "name": "python3"
    },
    "language_info": {
      "codemirror_mode": {
        "name": "ipython",
        "version": 2
      },
      "file_extension": ".py",
      "mimetype": "text/x-python",
      "name": "python",
      "nbconvert_exporter": "python",
      "pygments_lexer": "ipython2",
      "version": "2.7.6"
    }
  },
  "cells": [
    {
      "cell_type": "markdown",
      "metadata": {
        "id": "view-in-github",
        "colab_type": "text"
      },
      "source": [
        "<a href=\"https://colab.research.google.com/github/tsuehr/covid-prediction-tu/blob/Epid_Model/users/Anuar/NLL_V3.ipynb\" target=\"_parent\"><img src=\"https://colab.research.google.com/assets/colab-badge.svg\" alt=\"Open In Colab\"/></a>"
      ]
    },
    {
      "cell_type": "code",
      "metadata": {
        "id": "d17BEQFdPTqc"
      },
      "source": [
        "import scipy.stats\n",
        "import numpy as np\n",
        "import matplotlib.pyplot as plt\n",
        "from scipy.stats import expon, truncexpon, truncnorm, nbinom, norm\n",
        "import pandas as pd\n",
        "import time\n",
        "import torch\n",
        "from torch import nn\n",
        "from torch import distributions\n",
        "from torch import rand\n",
        "from torch import autograd\n",
        "from torch import optim"
      ],
      "execution_count": 1,
      "outputs": []
    },
    {
      "cell_type": "code",
      "metadata": {
        "id": "pdBc47jlPTqe"
      },
      "source": [
        "np.random.seed(seed=101)\n",
        "torch.manual_seed(101)\n",
        "torch.use_deterministic_algorithms(True)\n",
        "dtype = torch.float64\n",
        "device = torch.device(\"cpu\")"
      ],
      "execution_count": 2,
      "outputs": []
    },
    {
      "cell_type": "code",
      "metadata": {
        "colab": {
          "base_uri": "https://localhost:8080/",
          "height": 424
        },
        "id": "EaFwH9Vm7YMg",
        "outputId": "8bd6ccf5-d97a-49c9-aa86-4916be9f9bd4"
      },
      "source": [
        "data = pd.read_csv('covid19model.csv')\n",
        "data"
      ],
      "execution_count": 3,
      "outputs": [
        {
          "output_type": "execute_result",
          "data": {
            "text/html": [
              "<div>\n",
              "<style scoped>\n",
              "    .dataframe tbody tr th:only-of-type {\n",
              "        vertical-align: middle;\n",
              "    }\n",
              "\n",
              "    .dataframe tbody tr th {\n",
              "        vertical-align: top;\n",
              "    }\n",
              "\n",
              "    .dataframe thead th {\n",
              "        text-align: right;\n",
              "    }\n",
              "</style>\n",
              "<table border=\"1\" class=\"dataframe\">\n",
              "  <thead>\n",
              "    <tr style=\"text-align: right;\">\n",
              "      <th></th>\n",
              "      <th>date</th>\n",
              "      <th>hospit</th>\n",
              "      <th>serial_interval</th>\n",
              "      <th>delay_distr</th>\n",
              "    </tr>\n",
              "  </thead>\n",
              "  <tbody>\n",
              "    <tr>\n",
              "      <th>0</th>\n",
              "      <td>2020-02-17</td>\n",
              "      <td>0</td>\n",
              "      <td>0.046535</td>\n",
              "      <td>1.300600e-02</td>\n",
              "    </tr>\n",
              "    <tr>\n",
              "      <th>1</th>\n",
              "      <td>2020-02-18</td>\n",
              "      <td>0</td>\n",
              "      <td>0.087065</td>\n",
              "      <td>3.004645e-02</td>\n",
              "    </tr>\n",
              "    <tr>\n",
              "      <th>2</th>\n",
              "      <td>2020-02-19</td>\n",
              "      <td>0</td>\n",
              "      <td>0.112061</td>\n",
              "      <td>4.467391e-02</td>\n",
              "    </tr>\n",
              "    <tr>\n",
              "      <th>3</th>\n",
              "      <td>2020-02-20</td>\n",
              "      <td>0</td>\n",
              "      <td>0.119346</td>\n",
              "      <td>5.547300e-02</td>\n",
              "    </tr>\n",
              "    <tr>\n",
              "      <th>4</th>\n",
              "      <td>2020-02-21</td>\n",
              "      <td>0</td>\n",
              "      <td>0.114540</td>\n",
              "      <td>6.242203e-02</td>\n",
              "    </tr>\n",
              "    <tr>\n",
              "      <th>...</th>\n",
              "      <td>...</td>\n",
              "      <td>...</td>\n",
              "      <td>...</td>\n",
              "      <td>...</td>\n",
              "    </tr>\n",
              "    <tr>\n",
              "      <th>402</th>\n",
              "      <td>2021-03-25</td>\n",
              "      <td>38</td>\n",
              "      <td>0.000000</td>\n",
              "      <td>2.817211e-32</td>\n",
              "    </tr>\n",
              "    <tr>\n",
              "      <th>403</th>\n",
              "      <td>2021-03-26</td>\n",
              "      <td>31</td>\n",
              "      <td>0.000000</td>\n",
              "      <td>2.349426e-32</td>\n",
              "    </tr>\n",
              "    <tr>\n",
              "      <th>404</th>\n",
              "      <td>2021-03-27</td>\n",
              "      <td>39</td>\n",
              "      <td>0.000000</td>\n",
              "      <td>1.959313e-32</td>\n",
              "    </tr>\n",
              "    <tr>\n",
              "      <th>405</th>\n",
              "      <td>2021-03-28</td>\n",
              "      <td>32</td>\n",
              "      <td>0.000000</td>\n",
              "      <td>1.633974e-32</td>\n",
              "    </tr>\n",
              "    <tr>\n",
              "      <th>406</th>\n",
              "      <td>2021-03-29</td>\n",
              "      <td>45</td>\n",
              "      <td>0.000000</td>\n",
              "      <td>1.362655e-32</td>\n",
              "    </tr>\n",
              "  </tbody>\n",
              "</table>\n",
              "<p>407 rows × 4 columns</p>\n",
              "</div>"
            ],
            "text/plain": [
              "           date  hospit  serial_interval   delay_distr\n",
              "0    2020-02-17       0         0.046535  1.300600e-02\n",
              "1    2020-02-18       0         0.087065  3.004645e-02\n",
              "2    2020-02-19       0         0.112061  4.467391e-02\n",
              "3    2020-02-20       0         0.119346  5.547300e-02\n",
              "4    2020-02-21       0         0.114540  6.242203e-02\n",
              "..          ...     ...              ...           ...\n",
              "402  2021-03-25      38         0.000000  2.817211e-32\n",
              "403  2021-03-26      31         0.000000  2.349426e-32\n",
              "404  2021-03-27      39         0.000000  1.959313e-32\n",
              "405  2021-03-28      32         0.000000  1.633974e-32\n",
              "406  2021-03-29      45         0.000000  1.362655e-32\n",
              "\n",
              "[407 rows x 4 columns]"
            ]
          },
          "metadata": {
            "tags": []
          },
          "execution_count": 3
        }
      ]
    },
    {
      "cell_type": "code",
      "metadata": {
        "id": "4seIKt9FY5OF"
      },
      "source": [
        "def trunc_exponential(scale, upper):\n",
        "    sample = torch.distributions.exponential.Exponential(1/scale).rsample()\n",
        "    sample = sample/torch.tensor(1-torch.exp(-upper/scale))\n",
        "    return sample\n",
        "# torch.distributions.exponential.Exponential(1/scale).sample()/torch.tensor(1-torch.exp(-upper/scale))\n",
        "\n",
        "def trunc_normal(mu, sigma, under, upper):\n",
        "    distribution = torch.distributions.normal.Normal(loc=mu, scale=sigma, validate_args=None)\n",
        "    normal_sample = distribution.rsample()\n",
        "    cumulative = distribution.cdf(torch.tensor(upper)) - distribution.cdf(torch.tensor(under))\n",
        "    return normal_sample/cumulative"
      ],
      "execution_count": 4,
      "outputs": []
    },
    {
      "cell_type": "markdown",
      "metadata": {
        "id": "d2IY_KzX7uV9"
      },
      "source": [
        "# Initialization\n"
      ]
    },
    {
      "cell_type": "code",
      "metadata": {
        "id": "7remU4ygPTqf"
      },
      "source": [
        "cero = torch.tensor(0., requires_grad=False, device=device, dtype=dtype)\n",
        "num_impute = 6\n",
        "observed_daily_hospit = torch.tensor(data.hospit, requires_grad=False, device=device, dtype=dtype)\n",
        "pi = torch.tensor(data.delay_distr, requires_grad=False, device=device, dtype=dtype)\n",
        "serial_interval = torch.tensor(data.serial_interval, requires_grad=False, device=device, dtype=dtype)\n",
        "population = torch.tensor(5793636, requires_grad=False, device=device, dtype=dtype)\n",
        "num_observations = len(observed_daily_hospit)"
      ],
      "execution_count": 5,
      "outputs": []
    },
    {
      "cell_type": "markdown",
      "metadata": {
        "id": "NG5jECpf77Xk"
      },
      "source": [
        "## Initialize latent variables/parameters"
      ]
    },
    {
      "cell_type": "code",
      "metadata": {
        "id": "X4QAEdWKMBxF"
      },
      "source": [
        "# Create domain transformation functions:\n",
        "def transform_r0(R0_prime, lower, upper):\n",
        "  # Recieves a value in [-inf, inf] and returns value in [low, upper]\n",
        "  bij = 1/(1+torch.exp(-R0_prime))\n",
        "  scale = upper - lower\n",
        "  return scale*bij + lower\n"
      ],
      "execution_count": 6,
      "outputs": []
    },
    {
      "cell_type": "code",
      "metadata": {
        "id": "9XhscamaPTqg",
        "colab": {
          "base_uri": "https://localhost:8080/"
        },
        "outputId": "8a757b7e-e73a-4c7a-df34-94d54ce4f9d0"
      },
      "source": [
        "tau= torch.tensor(np.random.exponential(1 / 0.03), requires_grad=True, device=device, dtype=dtype)\n",
        "phi = torch.tensor(truncnorm.rvs((0 - 25) / 10, (np.inf - 25) / 10, loc=25, scale=10), requires_grad=True, device=device, dtype=dtype) # has to be positive, between 0-50 --> uniform # dispersion (shape) parameter for observations\n",
        "alpha = torch.tensor(truncnorm.rvs((0 - 1/100) / 1/100, (5/100 - 1/100) / 1/100, loc=1/100, scale=1/100), requires_grad=True, device=device, dtype=dtype) # uniform distribution between (0-5%) # probability to get hospitalized\n",
        "sigma = torch.tensor(truncnorm.rvs((0 - 0.1) / 0.3, (0.5 - 0.1) / 0.3, loc=0.1, scale=0.3), requires_grad=True, device=device, dtype=dtype)  # positive, tricky, gamma or inverse gamma, log normal  --> try something out, large sigma--> prone to overfitting # standart deviation of random walk step\n",
        "\n",
        "R0_prime = torch.rand(1, dtype=dtype, device=device, requires_grad=True)\n",
        "R0 = transform_r0(R0_prime, lower=2, upper=5)\n",
        "\n",
        "\n",
        "\n",
        "epsilon_t = torch.zeros(num_observations, device=device)\n",
        "epsilon_t[0] = torch.distributions.Normal(cero, sigma.detach()).rsample()\n",
        "for t in range(1, num_observations):\n",
        "  epsilon_t[t] = torch.distributions.Normal(epsilon_t[t - 1].detach(), sigma.detach()).rsample()\n",
        "epsilon_t.requires_grad_(True)"
      ],
      "execution_count": 7,
      "outputs": [
        {
          "output_type": "execute_result",
          "data": {
            "text/plain": [
              "tensor([-8.8592e-03, -7.0310e-02, -8.3121e-02, -6.4970e-03,  3.9006e-02,\n",
              "        -5.6481e-02,  2.6919e-02,  1.0483e-01,  1.2950e-01,  1.2872e-01,\n",
              "         1.7187e-01,  2.4616e-01,  2.9850e-01,  2.6638e-01,  2.9082e-01,\n",
              "         2.6140e-01,  4.4035e-01,  5.2068e-01,  5.1382e-01,  4.2920e-01,\n",
              "         3.7923e-01,  3.4636e-01,  2.4963e-01,  3.7242e-01,  3.3134e-01,\n",
              "         3.7909e-01,  2.7869e-01,  3.9855e-01,  4.3456e-01,  4.1970e-01,\n",
              "         3.7246e-01,  3.2783e-01,  2.5934e-01,  2.1251e-01,  2.1788e-01,\n",
              "         1.0346e-01,  6.8713e-02,  9.1145e-02,  1.2755e-01,  3.0210e-01,\n",
              "         2.2850e-01,  1.4846e-01,  1.1218e-01, -6.4545e-03, -4.5229e-02,\n",
              "        -5.2489e-03, -7.8238e-02, -7.4937e-02, -8.2481e-02, -9.7743e-02,\n",
              "         1.6623e-03,  1.0845e-01,  9.8130e-02,  8.8166e-02,  5.6671e-02,\n",
              "         1.4375e-02, -1.0984e-02, -4.3088e-02,  1.0157e-01,  2.2300e-01,\n",
              "         2.1348e-01,  2.4352e-01,  2.2771e-01,  2.9474e-01,  3.5758e-01,\n",
              "         4.6845e-01,  5.0056e-01,  4.0158e-01,  4.7864e-01,  4.3932e-01,\n",
              "         3.9325e-01,  2.6936e-01,  1.5818e-01,  1.4613e-01,  8.9449e-02,\n",
              "         1.5559e-01,  6.3372e-02, -1.0124e-01,  9.1575e-03,  1.8930e-02,\n",
              "        -6.6238e-02, -5.0927e-02, -1.2807e-01, -1.7217e-01, -1.3994e-01,\n",
              "        -2.0363e-01, -1.9666e-01, -9.3536e-02, -1.0520e-01, -8.5000e-02,\n",
              "        -2.5459e-01, -3.4633e-01, -3.1109e-01, -3.0548e-01, -2.6138e-01,\n",
              "        -3.1118e-01, -2.9409e-01, -3.3597e-01, -2.5709e-01, -2.7157e-01,\n",
              "        -3.2719e-01, -2.5211e-01, -2.1490e-01, -1.9066e-01, -8.3528e-02,\n",
              "        -1.0766e-01, -4.9901e-02, -9.8162e-02, -1.0338e-01, -1.6898e-01,\n",
              "        -2.2964e-01, -3.0860e-01, -3.3654e-01, -4.5148e-01, -4.8641e-01,\n",
              "        -4.2670e-01, -3.2780e-01, -2.6625e-01, -4.0204e-01, -2.4642e-01,\n",
              "        -2.8375e-01, -2.5575e-01, -8.9267e-02, -1.0171e-01, -1.7865e-01,\n",
              "         8.6845e-03,  8.1645e-02,  1.4882e-01,  2.5570e-01,  3.8428e-01,\n",
              "         4.9280e-01,  5.8983e-01,  7.0461e-01,  7.1657e-01,  6.0182e-01,\n",
              "         6.2463e-01,  6.8082e-01,  7.2036e-01,  6.3160e-01,  5.9919e-01,\n",
              "         4.6985e-01,  4.3663e-01,  6.0877e-01,  5.6781e-01,  6.3807e-01,\n",
              "         7.0546e-01,  8.0049e-01,  8.3702e-01,  8.5203e-01,  8.9366e-01,\n",
              "         8.6547e-01,  9.0452e-01,  8.7275e-01,  8.5916e-01,  8.5711e-01,\n",
              "         8.3782e-01,  8.7305e-01,  8.0546e-01,  7.6624e-01,  7.5876e-01,\n",
              "         7.8080e-01,  8.0830e-01,  8.9147e-01,  8.9304e-01,  9.1389e-01,\n",
              "         9.7077e-01,  1.0469e+00,  1.0526e+00,  1.0551e+00,  1.1667e+00,\n",
              "         1.1136e+00,  1.2244e+00,  1.2315e+00,  1.2028e+00,  1.1851e+00,\n",
              "         1.1497e+00,  1.1333e+00,  1.0931e+00,  1.2301e+00,  1.1713e+00,\n",
              "         1.1864e+00,  1.1800e+00,  1.2378e+00,  1.2446e+00,  1.1732e+00,\n",
              "         1.2044e+00,  1.1543e+00,  1.0890e+00,  1.2727e+00,  1.2650e+00,\n",
              "         1.2609e+00,  1.2552e+00,  1.2548e+00,  1.3363e+00,  1.3475e+00,\n",
              "         1.2857e+00,  1.2983e+00,  1.3350e+00,  1.2055e+00,  1.1595e+00,\n",
              "         1.2391e+00,  1.1962e+00,  1.1350e+00,  1.1608e+00,  1.1160e+00,\n",
              "         1.2141e+00,  1.3596e+00,  1.2967e+00,  1.3003e+00,  1.3811e+00,\n",
              "         1.4187e+00,  1.5542e+00,  1.5938e+00,  1.5835e+00,  1.4731e+00,\n",
              "         1.4160e+00,  1.4746e+00,  1.5214e+00,  1.4770e+00,  1.5971e+00,\n",
              "         1.6164e+00,  1.7278e+00,  1.7432e+00,  1.6947e+00,  1.6939e+00,\n",
              "         1.6207e+00,  1.6403e+00,  1.5510e+00,  1.5613e+00,  1.5852e+00,\n",
              "         1.4623e+00,  1.3347e+00,  1.2665e+00,  1.2264e+00,  1.2028e+00,\n",
              "         1.2477e+00,  1.2579e+00,  1.1985e+00,  1.1542e+00,  1.1865e+00,\n",
              "         1.1297e+00,  1.1693e+00,  1.0916e+00,  1.0680e+00,  1.0268e+00,\n",
              "         1.1036e+00,  1.1086e+00,  1.0630e+00,  1.0246e+00,  1.0048e+00,\n",
              "         9.4493e-01,  8.4967e-01,  7.4953e-01,  7.6151e-01,  7.6823e-01,\n",
              "         8.2514e-01,  7.6496e-01,  8.0896e-01,  7.6602e-01,  7.6881e-01,\n",
              "         9.2200e-01,  9.5678e-01,  1.0081e+00,  1.0458e+00,  9.0571e-01,\n",
              "         9.4994e-01,  1.0023e+00,  1.0989e+00,  1.1061e+00,  1.0054e+00,\n",
              "         1.0372e+00,  1.0508e+00,  1.0379e+00,  9.9519e-01,  1.0291e+00,\n",
              "         1.0772e+00,  1.0576e+00,  9.7601e-01,  9.9677e-01,  9.7013e-01,\n",
              "         9.7210e-01,  1.0330e+00,  9.7186e-01,  9.7166e-01,  9.4423e-01,\n",
              "         9.8512e-01,  1.0556e+00,  1.0514e+00,  1.0030e+00,  1.1357e+00,\n",
              "         1.1774e+00,  1.1730e+00,  1.2263e+00,  1.3497e+00,  1.2652e+00,\n",
              "         1.4038e+00,  1.5273e+00,  1.6329e+00,  1.7177e+00,  1.8921e+00,\n",
              "         1.9187e+00,  1.8477e+00,  1.7999e+00,  1.8110e+00,  1.8296e+00,\n",
              "         1.7740e+00,  1.7640e+00,  1.7954e+00,  1.7420e+00,  1.8082e+00,\n",
              "         1.7471e+00,  1.7245e+00,  1.7417e+00,  1.7885e+00,  1.9123e+00,\n",
              "         1.9443e+00,  1.9696e+00,  2.0244e+00,  2.0108e+00,  1.8907e+00,\n",
              "         1.9919e+00,  2.0518e+00,  2.0847e+00,  2.1962e+00,  2.2436e+00,\n",
              "         2.1775e+00,  2.1814e+00,  2.1406e+00,  2.2316e+00,  2.1283e+00,\n",
              "         2.2520e+00,  2.2794e+00,  2.2232e+00,  2.1796e+00,  2.1478e+00,\n",
              "         2.1461e+00,  2.1134e+00,  2.2275e+00,  2.0973e+00,  2.1262e+00,\n",
              "         2.0311e+00,  2.1470e+00,  2.1344e+00,  2.1592e+00,  2.1673e+00,\n",
              "         2.1622e+00,  2.1920e+00,  2.1655e+00,  2.1578e+00,  2.0551e+00,\n",
              "         2.0513e+00,  2.0322e+00,  2.0685e+00,  2.0141e+00,  1.9069e+00,\n",
              "         1.9015e+00,  1.8771e+00,  1.7686e+00,  1.8045e+00,  1.7456e+00,\n",
              "         1.6934e+00,  1.7005e+00,  1.7238e+00,  1.7397e+00,  1.7191e+00,\n",
              "         1.7171e+00,  1.7442e+00,  1.8557e+00,  1.9005e+00,  1.9401e+00,\n",
              "         1.8585e+00,  1.8782e+00,  1.9215e+00,  1.9579e+00,  2.0195e+00,\n",
              "         1.9512e+00,  1.9159e+00,  1.9990e+00,  1.8599e+00,  1.8488e+00,\n",
              "         1.8170e+00,  1.8327e+00,  1.8587e+00,  1.8750e+00,  1.9376e+00,\n",
              "         1.9584e+00,  2.0455e+00,  2.1884e+00,  2.1687e+00,  2.1351e+00,\n",
              "         2.2405e+00,  2.4244e+00,  2.3301e+00,  2.3190e+00,  2.3511e+00,\n",
              "         2.3184e+00,  2.3205e+00,  2.5226e+00,  2.5579e+00,  2.5401e+00,\n",
              "         2.4714e+00,  2.4510e+00,  2.5936e+00,  2.6496e+00,  2.6985e+00,\n",
              "         2.6629e+00,  2.5388e+00], requires_grad=True)"
            ]
          },
          "metadata": {
            "tags": []
          },
          "execution_count": 7
        }
      ]
    },
    {
      "cell_type": "markdown",
      "metadata": {
        "id": "vtO_C9CTSkM-"
      },
      "source": [
        "This is a way to generate the initial params from pytorch distribution directly without truncation.\n",
        "NOTE: Use either this code block below or above."
      ]
    },
    {
      "cell_type": "code",
      "metadata": {
        "id": "JcKQh9lISjqA"
      },
      "source": [
        "dist_tau_t = distributions.exponential.Exponential(torch.tensor([1/0.03], device=device))\n",
        "#tau_t = dist_tau_t.sample()\n",
        "\n",
        "dist_y = distributions.exponential.Exponential(tau)\n",
        "#y = dist_y.sample()\n",
        "\n",
        "dist_phi = distributions.normal.Normal(loc=torch.tensor([25], device=device), scale=torch.tensor([10], device=device))\n",
        "#phi = dist_phi.sample()\n",
        "\n",
        "dist_R0 = distributions.normal.Normal(loc=torch.tensor([3.6], device=device), scale=torch.tensor([0.8], device=device))\n",
        "#R0 = dist_R0.sample()\n",
        "\n",
        "dist_alpha = distributions.normal.Normal(loc=torch.tensor([0.01], device=device), scale=torch.tensor([0.01], device=device))\n",
        "#alpha = dist_alpha.sample()\n",
        "\n",
        "dist_sigma = distributions.normal.Normal(loc=torch.tensor([0.1], device=device), scale=torch.tensor([0.3], device=device))\n",
        "#sigma = dist_sigma.sample()"
      ],
      "execution_count": 8,
      "outputs": []
    },
    {
      "cell_type": "markdown",
      "metadata": {
        "id": "0fI1Yjma8CL8"
      },
      "source": [
        "# Define Forward Pass"
      ]
    },
    {
      "cell_type": "code",
      "metadata": {
        "id": "1CF2bx-79_eo"
      },
      "source": [
        "def calc_prior_loss(tau, phi, R0, alpha, sigma):\n",
        "  # log likelihood wrt. our prior (\"regularisation\")\n",
        "  # ll stands for log-likelihood\n",
        "  ll = torch.tensor(0.0, device=device)\n",
        "\n",
        "  #dist_tau_t = distributions.exponential.Exponential(torch.tensor([1/0.03]))\n",
        "  #ll += dist_tau_t.log_prob(tau).item()\n",
        "\n",
        "  #dist_y = distributions.exponential.Exponential(tau) #the parameter in the brasket should either be float or tensor, to avoid any inconvienience,\n",
        "                                                      # I use everything as tensor. NOTE:tau_t is already a tensor.\n",
        "  #ll += dist_y.log_prob(y).item()\n",
        "\n",
        "  #dist_phi = distribution.normal.Normal(loc=torch.tensor([25]), scale=torch.tensor([10]))\n",
        "  ll += dist_phi.log_prob(phi).item()\n",
        "\n",
        "  #dist_R0 = distribution.normal.Normal(loc=torch.tensor([3.6]), scale=torch.tensor([0.8]))\n",
        "  ll += dist_R0.log_prob(R0).item()\n",
        "\n",
        "  #dist_alpha = distribution.normal.Normal(loc=torch.tensor([0.01]), scale=torch.tensor([0.01]))\n",
        "  ll += dist_alpha.log_prob(alpha).item()\n",
        "\n",
        "  #dist_sigma = distribution.normal.Normal(loc=torch.tensor([0.1]), scale=torch.tensor([0.3]))\n",
        "  ll += dist_sigma.log_prob(sigma).item()\n",
        "\n",
        "  return ll"
      ],
      "execution_count": 9,
      "outputs": []
    },
    {
      "cell_type": "code",
      "metadata": {
        "id": "nt27Ab2l9_hC"
      },
      "source": [
        "def seed_init_infect(y):\n",
        "  # Initialize newly_infected, cumulative_infected, St\n",
        "  newly_infected = torch.zeros(num_observations, device=device, dtype=dtype)  # number of newly infected\n",
        "  cumulative_infected = torch.zeros(num_observations, device=device)  # cumulative number of infected\n",
        "  \n",
        "  St = torch.zeros(num_observations, device=device)  # fraction of susceptible population\n",
        "  # seed initial infection / impute first num_impute days\n",
        "  newly_infected[0:num_impute] = y.clone()\n",
        "  cumulative_infected[0] = 0.\n",
        "  cumulative_infected[1:num_impute] = torch.cumsum(newly_infected[0:num_impute - 1].clone(), dim=0)\n",
        "  St[0:num_impute] = torch.tensor([torch.maximum(population.clone() - x, torch.tensor(0)) / population for x in cumulative_infected[0:num_impute].clone()])\n",
        "  return newly_infected, cumulative_infected, St"
      ],
      "execution_count": 10,
      "outputs": []
    },
    {
      "cell_type": "code",
      "metadata": {
        "id": "mf9tMHun9_j0"
      },
      "source": [
        "def calc_Rt(R0, epsilon_t, sigma, ll):\n",
        "  # Initialize eta_t\n",
        "  eta_t = torch.zeros(num_observations, device=device)  # transformed reproduction number\n",
        "\n",
        "  # calculate Rt: the basic reproduction number\n",
        "  # basic reproduction number as a latent random walk\n",
        "  beta_0 = torch.log(R0)\n",
        "  eta_t[0] = beta_0\n",
        "  for t in range(1, num_observations):\n",
        "      dist_epsilon_t = torch.distributions.Normal(epsilon_t[t - 1], sigma)\n",
        "      ll += dist_epsilon_t.log_prob(epsilon_t[t])\n",
        "  eta_t[1:num_observations] = beta_0 + epsilon_t[0:num_observations-1].clone()\n",
        "  Rt = torch.exp(eta_t)\n",
        "  return Rt, ll"
      ],
      "execution_count": 11,
      "outputs": []
    },
    {
      "cell_type": "code",
      "metadata": {
        "id": "AcM7ArwKRp60"
      },
      "source": [
        "def calc_infections(cumulative_infected, newly_infected, St, Rt):\n",
        "  # Initialize effectively_infectious\n",
        "  effectively_infectious = torch.zeros(num_observations, device=device)  # effective number of infectious individuals\n",
        "  \n",
        "  # calculate infections\n",
        "  for t in range(num_impute, num_observations):\n",
        "      # Update cumulative newly_infected\n",
        "      cumulative_infected[t] = cumulative_infected[t - 1].clone() + newly_infected[t - 1].clone()\n",
        "      # Adjusts for portion of pop that are susceptible\n",
        "      St[t] = torch.maximum(population.clone() - cumulative_infected[t].clone(), cero) / population.clone()\n",
        "      # effective number of infectous individuals\n",
        "      ni_temp = newly_infected[:t].view(1, 1, -1).clone()\n",
        "      si_temp = torch.flip(serial_interval, (0,))[-t:].view(1, 1, -1)\n",
        "      effectively_infectious[t] = torch.nn.functional.conv1d(ni_temp, si_temp)\n",
        "      \n",
        "      newly_infected[t] = St[t].clone() * Rt[t].clone() * effectively_infectious[t].clone()\n",
        "  return newly_infected"
      ],
      "execution_count": 12,
      "outputs": []
    },
    {
      "cell_type": "code",
      "metadata": {
        "id": "JrSVBFldAD-l"
      },
      "source": [
        "def calc_hospit(newly_infected, alpha):\n",
        "  # Initialize expected_daily_hospit\n",
        "  expected_daily_hospit = torch.zeros(num_observations, device=device)  # expected number of daily hospitalizations\n",
        "\n",
        "  # calculate expected number of hospitalizations\n",
        "  expected_daily_hospit[0] = (1e-15) * newly_infected[0].clone()\n",
        "  for t in range(1, num_observations):\n",
        "      ni_temp = newly_infected[:t].view(1, 1, -1)\n",
        "      pi_temp = torch.flip(pi, (0,))[-t-1:-1].view(1, 1, -1)\n",
        "      expected_daily_hospit[t] = torch.nn.functional.conv1d(ni_temp, pi_temp)\n",
        "  expected_daily_hospit = alpha * expected_daily_hospit\n",
        "  return expected_daily_hospit"
      ],
      "execution_count": 13,
      "outputs": []
    },
    {
      "cell_type": "code",
      "metadata": {
        "id": "kvgAHKIXAEBU"
      },
      "source": [
        "def compare_results(expected_daily_hospit, phi, ll):\n",
        "  # compare observed hospitalizations to model results\n",
        "  # likelihood of the data wrt. to the model\n",
        "\n",
        "  for i in range(0, num_observations):\n",
        "      p = 1/(1+ expected_daily_hospit[i]/phi)\n",
        "      dist = torch.distributions.negative_binomial.NegativeBinomial(phi, p-torch.tensor(2.225e-5))\n",
        "      ll += dist.log_prob(observed_daily_hospit[i])\n",
        "  return ll"
      ],
      "execution_count": 14,
      "outputs": []
    },
    {
      "cell_type": "code",
      "metadata": {
        "id": "zZMf1XWoAtSt"
      },
      "source": [
        "def forward_pass():\n",
        "  # Initialize y\n",
        "  y = trunc_exponential(tau, 1000)\n",
        "  R0 = transform_r0(R0_prime, lower=2, upper=5)\n",
        "\n",
        "  # Calculate prior loss\n",
        "  ll = calc_prior_loss(tau, phi, R0, alpha, sigma)\n",
        "  \n",
        "  # Seed initial infections\n",
        "  newly_infected, cumulative_infected, St = seed_init_infect(y)\n",
        "  \n",
        "  # Calculate Rt & random walk loss \n",
        "  Rt, ll = calc_Rt(R0, epsilon_t, sigma, ll)\n",
        "  \n",
        "  # Calculate infections\n",
        "  newly_infected = calc_infections(cumulative_infected, newly_infected, St, Rt)\n",
        "  \n",
        "  # Calculate expected hospitalizations\n",
        "  expected_daily_hospit = calc_hospit(newly_infected, alpha)\n",
        "  \n",
        "  # Compare observed hospitalizations to model results\n",
        "  ll = compare_results(expected_daily_hospit, phi, ll)\n",
        "  return expected_daily_hospit, Rt, ll"
      ],
      "execution_count": 15,
      "outputs": []
    },
    {
      "cell_type": "markdown",
      "metadata": {
        "id": "mg2pWcC384K0"
      },
      "source": [
        "# Optimization"
      ]
    },
    {
      "cell_type": "code",
      "metadata": {
        "colab": {
          "base_uri": "https://localhost:8080/",
          "height": 734
        },
        "id": "BBZ3KIq1PTqk",
        "outputId": "cc272172-c132-41ab-85da-9d0d045a6aa2"
      },
      "source": [
        "learning_rate = 1e-12\n",
        "epochs = 100\n",
        "complete_time = time.time()\n",
        "\n",
        "for k in range (epochs):\n",
        "    start_time = time.time()\n",
        "    decay = (1 - (k / (epochs*1e5))) ** 2\n",
        "    learning_rate = learning_rate * decay\n",
        "\n",
        "    # forward pass - calculate expected_daily_hospit\n",
        "    expected_daily_hospit, Rt, ll = forward_pass()\n",
        "\n",
        "    #backward pass\n",
        "    loss = -ll\n",
        "    loss.backward()\n",
        "\n",
        "    if k%5 == 0:\n",
        "      #print(f'Time Step: {k}|| Loss: {loss},  R0:{R0_prime}, grad: {R0_prime.grad}, alpha: {alpha} grad: {alpha.grad}, phi: {phi} grad: {phi.grad}, sigma: {sigma} grad {sigma.grad}, epsilon_t.mean: {epsilon_t.mean()} grad.mean {epsilon_t.grad.mean()}')\n",
        "      print(f'Time Step: {k}||R0\":{R0_prime}, grad: {R0_prime.grad}, R0:{R0}')\n",
        "\n",
        "    with torch.no_grad(): # this part is SGD. can also replace with loss.step\n",
        "        tau -= learning_rate * tau.grad\n",
        "        phi -= learning_rate * phi.grad \n",
        "        #R0_prime -= learning_rate * R0_prime.grad \n",
        "        R0_prime -= 1 * R0_prime.grad \n",
        "        alpha -= learning_rate * alpha.grad \n",
        "        sigma -= learning_rate * sigma.grad \n",
        "        epsilon_t -= learning_rate * epsilon_t.grad * 1e+8\n",
        "\n",
        "        tau.grad = None\n",
        "        phi.grad = None\n",
        "        R0_prime.grad = None\n",
        "        alpha.grad = None\n",
        "        sigma.grad = None\n",
        "        epsilon_t.grad = None\n",
        "\n",
        "    \n",
        "    if k%20 == 0:\n",
        "      plt.plot(expected_daily_hospit.cpu().detach().numpy(), label='expected_daily_hospit')\n",
        "      plt.plot(observed_daily_hospit.cpu().detach().numpy(), label='observed_daily_hospit')\n",
        "      plt.legend()\n",
        "      plt.show()\n",
        "\n",
        "\n",
        "print(\"Complete Run:  %s seconds\" % (time.time() - complete_time))"
      ],
      "execution_count": 16,
      "outputs": [
        {
          "output_type": "stream",
          "text": [
            "/usr/local/lib/python3.7/dist-packages/ipykernel_launcher.py:3: UserWarning: To copy construct from a tensor, it is recommended to use sourceTensor.clone().detach() or sourceTensor.clone().detach().requires_grad_(True), rather than torch.tensor(sourceTensor).\n",
            "  This is separate from the ipykernel package so we can avoid doing imports until\n"
          ],
          "name": "stderr"
        },
        {
          "output_type": "stream",
          "text": [
            "Time Step: 0||R0\":tensor([0.5844], dtype=torch.float64, requires_grad=True), grad: tensor([1116.5424], dtype=torch.float64), R0:tensor([3.9262], dtype=torch.float64, grad_fn=<AddBackward0>)\n"
          ],
          "name": "stdout"
        },
        {
          "output_type": "display_data",
          "data": {
            "image/png": "[encoded data removed]",
            "text/plain": [
              "<Figure size 432x288 with 1 Axes>"
            ]
          },
          "metadata": {
            "tags": [],
            "needs_background": "light"
          }
        },
        {
          "output_type": "stream",
          "text": [
            "/usr/local/lib/python3.7/dist-packages/ipykernel_launcher.py:3: UserWarning: To copy construct from a tensor, it is recommended to use sourceTensor.clone().detach() or sourceTensor.clone().detach().requires_grad_(True), rather than torch.tensor(sourceTensor).\n",
            "  This is separate from the ipykernel package so we can avoid doing imports until\n"
          ],
          "name": "stderr"
        },
        {
          "output_type": "error",
          "ename": "ValueError",
          "evalue": "ignored",
          "traceback": [
            "\u001b[0;31m---------------------------------------------------------------------------\u001b[0m",
            "\u001b[0;31mValueError\u001b[0m                                Traceback (most recent call last)",
            "\u001b[0;32m<ipython-input-16-1f09e7993194>\u001b[0m in \u001b[0;36m<module>\u001b[0;34m()\u001b[0m\n\u001b[1;32m      9\u001b[0m \u001b[0;34m\u001b[0m\u001b[0m\n\u001b[1;32m     10\u001b[0m     \u001b[0;31m# forward pass - calculate expected_daily_hospit\u001b[0m\u001b[0;34m\u001b[0m\u001b[0;34m\u001b[0m\u001b[0;34m\u001b[0m\u001b[0m\n\u001b[0;32m---> 11\u001b[0;31m     \u001b[0mexpected_daily_hospit\u001b[0m\u001b[0;34m,\u001b[0m \u001b[0mRt\u001b[0m\u001b[0;34m,\u001b[0m \u001b[0mll\u001b[0m \u001b[0;34m=\u001b[0m \u001b[0mforward_pass\u001b[0m\u001b[0;34m(\u001b[0m\u001b[0;34m)\u001b[0m\u001b[0;34m\u001b[0m\u001b[0;34m\u001b[0m\u001b[0m\n\u001b[0m\u001b[1;32m     12\u001b[0m \u001b[0;34m\u001b[0m\u001b[0m\n\u001b[1;32m     13\u001b[0m     \u001b[0;31m#backward pass\u001b[0m\u001b[0;34m\u001b[0m\u001b[0;34m\u001b[0m\u001b[0;34m\u001b[0m\u001b[0m\n",
            "\u001b[0;32m<ipython-input-15-d047f5d9155c>\u001b[0m in \u001b[0;36mforward_pass\u001b[0;34m()\u001b[0m\n\u001b[1;32m      5\u001b[0m \u001b[0;34m\u001b[0m\u001b[0m\n\u001b[1;32m      6\u001b[0m   \u001b[0;31m# Calculate prior loss\u001b[0m\u001b[0;34m\u001b[0m\u001b[0;34m\u001b[0m\u001b[0;34m\u001b[0m\u001b[0m\n\u001b[0;32m----> 7\u001b[0;31m   \u001b[0mll\u001b[0m \u001b[0;34m=\u001b[0m \u001b[0mcalc_prior_loss\u001b[0m\u001b[0;34m(\u001b[0m\u001b[0mtau\u001b[0m\u001b[0;34m,\u001b[0m \u001b[0mphi\u001b[0m\u001b[0;34m,\u001b[0m \u001b[0mR0\u001b[0m\u001b[0;34m,\u001b[0m \u001b[0malpha\u001b[0m\u001b[0;34m,\u001b[0m \u001b[0msigma\u001b[0m\u001b[0;34m)\u001b[0m\u001b[0;34m\u001b[0m\u001b[0;34m\u001b[0m\u001b[0m\n\u001b[0m\u001b[1;32m      8\u001b[0m \u001b[0;34m\u001b[0m\u001b[0m\n\u001b[1;32m      9\u001b[0m   \u001b[0;31m# Seed initial infections\u001b[0m\u001b[0;34m\u001b[0m\u001b[0;34m\u001b[0m\u001b[0;34m\u001b[0m\u001b[0m\n",
            "\u001b[0;32m<ipython-input-9-cf8fd36a9cfc>\u001b[0m in \u001b[0;36mcalc_prior_loss\u001b[0;34m(tau, phi, R0, alpha, sigma)\u001b[0m\n\u001b[1;32m     15\u001b[0m \u001b[0;34m\u001b[0m\u001b[0m\n\u001b[1;32m     16\u001b[0m   \u001b[0;31m#dist_R0 = distribution.normal.Normal(loc=torch.tensor([3.6]), scale=torch.tensor([0.8]))\u001b[0m\u001b[0;34m\u001b[0m\u001b[0;34m\u001b[0m\u001b[0;34m\u001b[0m\u001b[0m\n\u001b[0;32m---> 17\u001b[0;31m   \u001b[0mll\u001b[0m \u001b[0;34m+=\u001b[0m \u001b[0mdist_R0\u001b[0m\u001b[0;34m.\u001b[0m\u001b[0mlog_prob\u001b[0m\u001b[0;34m(\u001b[0m\u001b[0mR0\u001b[0m\u001b[0;34m)\u001b[0m\u001b[0;34m.\u001b[0m\u001b[0mitem\u001b[0m\u001b[0;34m(\u001b[0m\u001b[0;34m)\u001b[0m\u001b[0;34m\u001b[0m\u001b[0;34m\u001b[0m\u001b[0m\n\u001b[0m\u001b[1;32m     18\u001b[0m \u001b[0;34m\u001b[0m\u001b[0m\n\u001b[1;32m     19\u001b[0m   \u001b[0;31m#dist_alpha = distribution.normal.Normal(loc=torch.tensor([0.01]), scale=torch.tensor([0.01]))\u001b[0m\u001b[0;34m\u001b[0m\u001b[0;34m\u001b[0m\u001b[0;34m\u001b[0m\u001b[0m\n",
            "\u001b[0;32m/usr/local/lib/python3.7/dist-packages/torch/distributions/normal.py\u001b[0m in \u001b[0;36mlog_prob\u001b[0;34m(self, value)\u001b[0m\n\u001b[1;32m     71\u001b[0m     \u001b[0;32mdef\u001b[0m \u001b[0mlog_prob\u001b[0m\u001b[0;34m(\u001b[0m\u001b[0mself\u001b[0m\u001b[0;34m,\u001b[0m \u001b[0mvalue\u001b[0m\u001b[0;34m)\u001b[0m\u001b[0;34m:\u001b[0m\u001b[0;34m\u001b[0m\u001b[0;34m\u001b[0m\u001b[0m\n\u001b[1;32m     72\u001b[0m         \u001b[0;32mif\u001b[0m \u001b[0mself\u001b[0m\u001b[0;34m.\u001b[0m\u001b[0m_validate_args\u001b[0m\u001b[0;34m:\u001b[0m\u001b[0;34m\u001b[0m\u001b[0;34m\u001b[0m\u001b[0m\n\u001b[0;32m---> 73\u001b[0;31m             \u001b[0mself\u001b[0m\u001b[0;34m.\u001b[0m\u001b[0m_validate_sample\u001b[0m\u001b[0;34m(\u001b[0m\u001b[0mvalue\u001b[0m\u001b[0;34m)\u001b[0m\u001b[0;34m\u001b[0m\u001b[0;34m\u001b[0m\u001b[0m\n\u001b[0m\u001b[1;32m     74\u001b[0m         \u001b[0;31m# compute the variance\u001b[0m\u001b[0;34m\u001b[0m\u001b[0;34m\u001b[0m\u001b[0;34m\u001b[0m\u001b[0m\n\u001b[1;32m     75\u001b[0m         \u001b[0mvar\u001b[0m \u001b[0;34m=\u001b[0m \u001b[0;34m(\u001b[0m\u001b[0mself\u001b[0m\u001b[0;34m.\u001b[0m\u001b[0mscale\u001b[0m \u001b[0;34m**\u001b[0m \u001b[0;36m2\u001b[0m\u001b[0;34m)\u001b[0m\u001b[0;34m\u001b[0m\u001b[0;34m\u001b[0m\u001b[0m\n",
            "\u001b[0;32m/usr/local/lib/python3.7/dist-packages/torch/distributions/distribution.py\u001b[0m in \u001b[0;36m_validate_sample\u001b[0;34m(self, value)\u001b[0m\n\u001b[1;32m    275\u001b[0m         \u001b[0;32massert\u001b[0m \u001b[0msupport\u001b[0m \u001b[0;32mis\u001b[0m \u001b[0;32mnot\u001b[0m \u001b[0;32mNone\u001b[0m\u001b[0;34m\u001b[0m\u001b[0;34m\u001b[0m\u001b[0m\n\u001b[1;32m    276\u001b[0m         \u001b[0;32mif\u001b[0m \u001b[0;32mnot\u001b[0m \u001b[0msupport\u001b[0m\u001b[0;34m.\u001b[0m\u001b[0mcheck\u001b[0m\u001b[0;34m(\u001b[0m\u001b[0mvalue\u001b[0m\u001b[0;34m)\u001b[0m\u001b[0;34m.\u001b[0m\u001b[0mall\u001b[0m\u001b[0;34m(\u001b[0m\u001b[0;34m)\u001b[0m\u001b[0;34m:\u001b[0m\u001b[0;34m\u001b[0m\u001b[0;34m\u001b[0m\u001b[0m\n\u001b[0;32m--> 277\u001b[0;31m             \u001b[0;32mraise\u001b[0m \u001b[0mValueError\u001b[0m\u001b[0;34m(\u001b[0m\u001b[0;34m'The value argument must be within the support'\u001b[0m\u001b[0;34m)\u001b[0m\u001b[0;34m\u001b[0m\u001b[0;34m\u001b[0m\u001b[0m\n\u001b[0m\u001b[1;32m    278\u001b[0m \u001b[0;34m\u001b[0m\u001b[0m\n\u001b[1;32m    279\u001b[0m     \u001b[0;32mdef\u001b[0m \u001b[0m_get_checked_instance\u001b[0m\u001b[0;34m(\u001b[0m\u001b[0mself\u001b[0m\u001b[0;34m,\u001b[0m \u001b[0mcls\u001b[0m\u001b[0;34m,\u001b[0m \u001b[0m_instance\u001b[0m\u001b[0;34m=\u001b[0m\u001b[0;32mNone\u001b[0m\u001b[0;34m)\u001b[0m\u001b[0;34m:\u001b[0m\u001b[0;34m\u001b[0m\u001b[0;34m\u001b[0m\u001b[0m\n",
            "\u001b[0;31mValueError\u001b[0m: The value argument must be within the support"
          ]
        }
      ]
    }
  ]
}