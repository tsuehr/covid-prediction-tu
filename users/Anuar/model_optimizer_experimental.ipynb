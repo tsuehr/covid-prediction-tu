{
 "cells": [
  {
   "cell_type": "code",
   "execution_count": 1,
   "outputs": [],
   "source": [
    "import torch\n",
    "import math\n",
    "import pandas as pd\n",
    "import numpy as np\n",
    "from scipy.stats import truncexpon, truncnorm, nbinom\n",
    "import matplotlib.pyplot as plt"
   ],
   "metadata": {
    "collapsed": false,
    "pycharm": {
     "name": "#%%\n"
    }
   }
  },
  {
   "cell_type": "code",
   "execution_count": 2,
   "outputs": [],
   "source": [
    "dtype = torch.float\n",
    "device = torch.device(\"cpu\")\n",
    "learning_rate = 1e-20"
   ],
   "metadata": {
    "collapsed": false,
    "pycharm": {
     "name": "#%%\n"
    }
   }
  },
  {
   "cell_type": "code",
   "execution_count": 3,
   "outputs": [],
   "source": [
    "#---------------Model---------------\n",
    "data = pd.read_csv('../../data/covid19model.csv')\n",
    "data_fake = pd.read_csv('expected_daily_hosp.csv')\n"
   ],
   "metadata": {
    "collapsed": false,
    "pycharm": {
     "name": "#%%\n"
    }
   }
  },
  {
   "cell_type": "code",
   "execution_count": 6,
   "outputs": [
    {
     "name": "stdout",
     "output_type": "stream",
     "text": [
      "k: 0|| R0:2.248142957687378, grad: -83167856.0, alpha: 0.010000108741223812 grad: 8326226432.0, sigma: 0.022572949528694153 grad 0.0\n",
      "k: 1|| R0:2.248142957687378, grad: -52419952.0, alpha: 0.010000108741223812 grad: 8771860480.0, sigma: 0.022572949528694153 grad 0.0\n"
     ]
    },
    {
     "data": {
      "text/plain": "<Figure size 432x288 with 1 Axes>",
      "image/png": "[encoded data removed]"
     },
     "metadata": {
      "needs_background": "light"
     },
     "output_type": "display_data"
    },
    {
     "data": {
      "text/plain": "<Figure size 432x288 with 1 Axes>",
      "image/png": "[encoded data removed]"
     },
     "metadata": {
      "needs_background": "light"
     },
     "output_type": "display_data"
    },
    {
     "ename": "KeyboardInterrupt",
     "evalue": "",
     "output_type": "error",
     "traceback": [
      "\u001B[1;31m---------------------------------------------------------------------------\u001B[0m",
      "\u001B[1;31mKeyboardInterrupt\u001B[0m                         Traceback (most recent call last)",
      "\u001B[1;32m<ipython-input-6-910d9c9c44ec>\u001B[0m in \u001B[0;36m<module>\u001B[1;34m\u001B[0m\n\u001B[0;32m     63\u001B[0m     \u001B[1;32mfor\u001B[0m \u001B[0mt\u001B[0m \u001B[1;32min\u001B[0m \u001B[0mrange\u001B[0m\u001B[1;33m(\u001B[0m\u001B[1;36m1\u001B[0m\u001B[1;33m,\u001B[0m \u001B[0mnum_observations\u001B[0m\u001B[1;33m)\u001B[0m\u001B[1;33m:\u001B[0m\u001B[1;33m\u001B[0m\u001B[1;33m\u001B[0m\u001B[0m\n\u001B[0;32m     64\u001B[0m         \u001B[1;32mfor\u001B[0m \u001B[0mi\u001B[0m \u001B[1;32min\u001B[0m \u001B[0mrange\u001B[0m\u001B[1;33m(\u001B[0m\u001B[1;36m0\u001B[0m\u001B[1;33m,\u001B[0m \u001B[0mt\u001B[0m \u001B[1;33m-\u001B[0m \u001B[1;36m1\u001B[0m\u001B[1;33m)\u001B[0m\u001B[1;33m:\u001B[0m\u001B[1;33m\u001B[0m\u001B[1;33m\u001B[0m\u001B[0m\n\u001B[1;32m---> 65\u001B[1;33m             \u001B[0mexpected_daily_hospit\u001B[0m\u001B[1;33m[\u001B[0m\u001B[0mt\u001B[0m\u001B[1;33m]\u001B[0m \u001B[1;33m+=\u001B[0m \u001B[0mnewly_infected\u001B[0m\u001B[1;33m[\u001B[0m\u001B[0mi\u001B[0m\u001B[1;33m]\u001B[0m\u001B[1;33m.\u001B[0m\u001B[0mclone\u001B[0m\u001B[1;33m(\u001B[0m\u001B[1;33m)\u001B[0m \u001B[1;33m*\u001B[0m \u001B[0mpi\u001B[0m\u001B[1;33m[\u001B[0m\u001B[0mt\u001B[0m \u001B[1;33m-\u001B[0m \u001B[0mi\u001B[0m\u001B[1;33m]\u001B[0m\u001B[1;33m.\u001B[0m\u001B[0mclone\u001B[0m\u001B[1;33m(\u001B[0m\u001B[1;33m)\u001B[0m\u001B[1;33m\u001B[0m\u001B[1;33m\u001B[0m\u001B[0m\n\u001B[0m\u001B[0;32m     66\u001B[0m         \u001B[0mexpected_daily_hospit\u001B[0m\u001B[1;33m[\u001B[0m\u001B[0mt\u001B[0m\u001B[1;33m]\u001B[0m \u001B[1;33m=\u001B[0m \u001B[0malpha\u001B[0m\u001B[1;33m.\u001B[0m\u001B[0mclone\u001B[0m\u001B[1;33m(\u001B[0m\u001B[1;33m)\u001B[0m \u001B[1;33m*\u001B[0m \u001B[0mexpected_daily_hospit\u001B[0m\u001B[1;33m[\u001B[0m\u001B[0mt\u001B[0m\u001B[1;33m]\u001B[0m\u001B[1;33m.\u001B[0m\u001B[0mclone\u001B[0m\u001B[1;33m(\u001B[0m\u001B[1;33m)\u001B[0m\u001B[1;33m\u001B[0m\u001B[1;33m\u001B[0m\u001B[0m\n\u001B[0;32m     67\u001B[0m \u001B[1;33m\u001B[0m\u001B[0m\n",
      "\u001B[1;31mKeyboardInterrupt\u001B[0m: "
     ]
    }
   ],
   "source": [
    "cero = torch.tensor(0, requires_grad=False, device=device, dtype=dtype)\n",
    "num_impute = 6\n",
    "observed_daily_hospit = torch.tensor(data_fake['0'], requires_grad=False, device=device, dtype=dtype)\n",
    "pi = torch.tensor(data.delay_distr, requires_grad=False, device=device, dtype=dtype)\n",
    "serial_interval = torch.tensor(data.serial_interval, requires_grad=False, device=device, dtype=dtype)\n",
    "population = torch.tensor(5793636, requires_grad=False, device=device, dtype=dtype)\n",
    "\n",
    "\n",
    "num_observations = len(observed_daily_hospit)\n",
    "tau = np.random.exponential(1 / 0.03)\n",
    "#tau_t = torch.tensor(np.random.exponential(1 / 0.03), requires_grad=True, device=device, dtype=dtype)\n",
    "# b=(upper-lower)/scale, loc=lower, scale=scale\n",
    "y = torch.tensor(truncexpon.rvs(b=(1000 - 0) / tau, loc=0, scale=tau), requires_grad=False, device=device, dtype=dtype)  # number of initial newly_infected (seed)\n",
    "# For trunc ((lower - mu) / sigma, (upper - mu) / sigma, loc=mu, scale=sigma)\n",
    "#phi = torch.tensor(truncnorm.rvs((0 - 0) / 5, (np.inf - 0) / 5, loc=0, scale=5), requires_grad=True, device=device, dtype=dtype)  # dispersion (shape) parameter for observations\n",
    "R0 = torch.tensor(truncnorm.rvs((2 - 3.6) / 0.8, (5 - 3.6) / 0.8, loc=3.6, scale=0.8), requires_grad=True, device=device, dtype=dtype)  # initial reproduction number\n",
    "alpha = torch.tensor(truncnorm.rvs((0 - 1/100) / 1/100, (5/100 - 1/100) / 1/100, loc=1/100, scale=1/100), requires_grad=True, device=device, dtype=dtype)  # probability to get hospitalized\n",
    "sigma = torch.tensor(truncnorm.rvs((0 - 0.05) / 0.03, (0.15 - 0.05) / 0.03, loc=0.05, scale=0.03), requires_grad=True, device=device, dtype=dtype)  # standart deviation of random walk step\n",
    "\n",
    "\n",
    "for k in range(10):\n",
    "\n",
    "    # Initizalize tensors\n",
    "    newly_infected = torch.zeros(num_observations)  # number of newly infected\n",
    "    effectively_infectious = torch.zeros(num_observations)  # effective number of infectious individuals\n",
    "    expected_daily_hospit = torch.zeros(num_observations)  # expected number of daily hospitalizations\n",
    "    cumulative_infected = torch.zeros(num_observations)  # cumulative number of infected\n",
    "    eta_t = torch.zeros(num_observations)  # transformed reproduction number\n",
    "    epsilon_t = torch.zeros(num_observations)  # random walk\n",
    "    St = torch.zeros(num_observations)  # fraction of susceptible population\n",
    "    newly_infected[0:num_impute] = y.clone()\n",
    "    cumulative_infected[0] = 0.\n",
    "    cumulative_infected[1:num_impute] = torch.cumsum(newly_infected[0:num_impute - 1].clone(), dim=0)\n",
    "    St[0:num_impute] = torch.tensor([torch.maximum(population.clone() - x, cero) / population for x in cumulative_infected[0:num_impute].clone()])\n",
    "\n",
    "    # calculate Rt: the basic reproduction number\n",
    "    beta_0 = torch.log(R0)\n",
    "    epsilon_t[0] = torch.normal(cero, sigma)\n",
    "\n",
    "    for t in range(1, num_observations):\n",
    "        epsilon_t[t] = torch.normal(epsilon_t[t - 1].clone(), sigma)\n",
    "    eta_t = beta_0 + epsilon_t  # + RNN[X_t, t]\n",
    "\n",
    "    Rt = torch.exp(eta_t)\n",
    "\n",
    "    # calculate infections\n",
    "    for t in range(num_impute, num_observations):\n",
    "        # Update cumulative newly_infected\n",
    "        cumulative_infected[t] = cumulative_infected[t - 1].clone() + newly_infected[t - 1].clone()\n",
    "        # Adjusts for portion of pop that are susceptible\n",
    "        St[t] = torch.maximum(population.clone() - cumulative_infected[t].clone(), cero) / population.clone()\n",
    "        # effective number of infectous individuals\n",
    "        for i in range(0, t - 1):\n",
    "            effectively_infectious[t] += newly_infected[i].clone() * serial_interval[t - i].clone()\n",
    "\n",
    "       # [newly_infected[i] * serial_interval[t - i] for i in range(0, t - 1)]\n",
    "       # effectively_infectious[t] = torch.sum([newly_infected[i] * serial_interval[t - i] for i in range(0, t - 1)])\n",
    "\n",
    "        # number of new infections (unobserved)\n",
    "        newly_infected[t] = St[t].clone() * Rt[t].clone() * effectively_infectious[t].clone()\n",
    "    # calculate expected number of hospitalizations\n",
    "    expected_daily_hospit[0] = (1e-15) * newly_infected[0].clone()\n",
    "    for t in range(1, num_observations):\n",
    "        for i in range(0, t - 1):\n",
    "            expected_daily_hospit[t] += newly_infected[i].clone() * pi[t - i].clone()\n",
    "        expected_daily_hospit[t] = alpha.clone() * expected_daily_hospit[t].clone()\n",
    "\n",
    "    loss = (expected_daily_hospit - observed_daily_hospit).pow(2).sum()\n",
    "    loss.backward()\n",
    "\n",
    "\n",
    "    with torch.no_grad():\n",
    "        #tau_t -= learning_rate * tau_t.grad\n",
    "        #phi -= learning_rate * phi.grad\n",
    "\n",
    "        R0 -= learning_rate * R0.grad\n",
    "        alpha -= learning_rate * alpha.grad\n",
    "        sigma -= learning_rate * sigma.grad\n",
    "        print(f'k: {k}|| R0:{R0}, grad: {R0.grad}, alpha: {alpha} grad: {alpha.grad}, sigma: {sigma} grad {sigma.grad}' )\n",
    "        # Manually zero the gradients after updating weights\n",
    "        #tau_t.grad = None\n",
    "        #phi.grad = None\n",
    "        R0.grad = None\n",
    "        alpha.grad = None\n",
    "        sigma.grad = None\n",
    "\n",
    "    plt.plot(expected_daily_hospit.detach().numpy())\n",
    "    plt.plot(observed_daily_hospit.detach().numpy())\n",
    "    plt.show()"
   ],
   "metadata": {
    "collapsed": false,
    "pycharm": {
     "name": "#%%\n"
    }
   }
  }
 ],
 "metadata": {
  "kernelspec": {
   "display_name": "Python 3",
   "language": "python",
   "name": "python3"
  },
  "language_info": {
   "codemirror_mode": {
    "name": "ipython",
    "version": 2
   },
   "file_extension": ".py",
   "mimetype": "text/x-python",
   "name": "python",
   "nbconvert_exporter": "python",
   "pygments_lexer": "ipython2",
   "version": "2.7.6"
  }
 },
 "nbformat": 4,
 "nbformat_minor": 0
}