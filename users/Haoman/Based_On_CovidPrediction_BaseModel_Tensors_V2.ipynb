{
 "nbformat": 4,
 "nbformat_minor": 0,
 "metadata": {
  "colab": {
   "name": "CovidPrediction_BaseModel_Tensors_V2.ipynb",
   "provenance": [],
   "collapsed_sections": []
  },
  "kernelspec": {
   "name": "python3",
   "display_name": "Python 3"
  },
  "language_info": {
   "name": "python"
  }
 },
 "cells": [
  {
   "cell_type": "markdown",
   "metadata": {
    "id": "WaSNKP69zABm"
   },
   "source": [
    "To Dos:\n",
    "- Add sigma, phi and tau to optimization\n",
    "  - How to draw from negative binomial with negative phi?\n",
    "  - Tau as value to initialize y\n",
    "  - why does sigma have a gradient of 0?\n",
    "- Change loss function to negative log likelihood\n",
    "- Toy Data\n",
    "- Add prior knowledge to loss function\n",
    "- Optimize for loops\n",
    "- Check .clone() - Where do we need it and where is it redundant?\n",
    "\n",
    "\n",
    "\n",
    "Haomann: Neg. Log Likelihood & Phi Variable\n",
    "Anuar: Toy Data & Tau Variable\n",
    "Timo: Sigma Variable"
   ]
  },
  {
   "cell_type": "markdown",
   "source": [
    "__This notebook is an approach proposed by Haoman to add NLL et Neg. Binomial distribution up on yt__\n"
   ],
   "metadata": {
    "collapsed": false,
    "pycharm": {
     "name": "#%% md\n"
    }
   }
  },
  {
   "cell_type": "code",
   "metadata": {
    "id": "VTtBtBGxMjwG"
   },
   "source": [
    "import scipy.stats\n",
    "import numpy as np\n",
    "import matplotlib.pyplot as plt\n",
    "from scipy.stats import truncexpon, truncnorm, nbinom\n",
    "import pandas as pd\n",
    "import torch\n",
    "from torch import nn"
   ],
   "execution_count": 1,
   "outputs": []
  },
  {
   "cell_type": "code",
   "metadata": {
    "id": "FmatRpHb3P2v"
   },
   "source": [
    "np.random.seed(seed=101)\n",
    "torch.manual_seed(101)\n",
    "torch.use_deterministic_algorithms(True)\n",
    "dtype = torch.float\n",
    "device = torch.device(\"cpu\")"
   ],
   "execution_count": 2,
   "outputs": []
  },
  {
   "cell_type": "code",
   "metadata": {
    "colab": {
     "base_uri": "https://localhost:8080/"
    },
    "id": "3g8-GkS6NU7Y",
    "outputId": "6771240a-6c16-4e1e-90d2-661ce273f16a"
   },
   "source": [
    "from google.colab import drive\n",
    "drive.mount('/content/drive')"
   ],
   "execution_count": 3,
   "outputs": [
    {
     "output_type": "stream",
     "text": [
      "Drive already mounted at /content/drive; to attempt to forcibly remount, call drive.mount(\"/content/drive\", force_remount=True).\n"
     ],
     "name": "stdout"
    }
   ]
  },
  {
   "cell_type": "code",
   "metadata": {
    "colab": {
     "base_uri": "https://localhost:8080/"
    },
    "id": "kO1UX4ZMNVXp",
    "outputId": "d829fb2e-7fa5-4040-de4f-a2dd449c4530"
   },
   "source": [
    "cd /content/drive/MyDrive/CovidPrediction/"
   ],
   "execution_count": 4,
   "outputs": [
    {
     "output_type": "stream",
     "text": [
      "/content/drive/MyDrive/CovidPrediction\n"
     ],
     "name": "stdout"
    }
   ]
  },
  {
   "cell_type": "markdown",
   "metadata": {
    "id": "qfpgo2cWNLx5"
   },
   "source": [
    "# Initialization"
   ]
  },
  {
   "cell_type": "code",
   "metadata": {
    "colab": {
     "base_uri": "https://localhost:8080/",
     "height": 142
    },
    "id": "66Bh9ONJNJMR",
    "outputId": "26282f8d-9427-44cf-bc36-0bf3d6ca726e"
   },
   "source": [
    "data = pd.read_csv('data/covid19model.csv')\n",
    "data.head(3)"
   ],
   "execution_count": 5,
   "outputs": [
    {
     "output_type": "execute_result",
     "data": {
      "text/html": [
       "<div>\n",
       "<style scoped>\n",
       "    .dataframe tbody tr th:only-of-type {\n",
       "        vertical-align: middle;\n",
       "    }\n",
       "\n",
       "    .dataframe tbody tr th {\n",
       "        vertical-align: top;\n",
       "    }\n",
       "\n",
       "    .dataframe thead th {\n",
       "        text-align: right;\n",
       "    }\n",
       "</style>\n",
       "<table border=\"1\" class=\"dataframe\">\n",
       "  <thead>\n",
       "    <tr style=\"text-align: right;\">\n",
       "      <th></th>\n",
       "      <th>date</th>\n",
       "      <th>hospit</th>\n",
       "      <th>serial_interval</th>\n",
       "      <th>delay_distr</th>\n",
       "    </tr>\n",
       "  </thead>\n",
       "  <tbody>\n",
       "    <tr>\n",
       "      <th>0</th>\n",
       "      <td>2020-02-17</td>\n",
       "      <td>0</td>\n",
       "      <td>0.046535</td>\n",
       "      <td>0.013006</td>\n",
       "    </tr>\n",
       "    <tr>\n",
       "      <th>1</th>\n",
       "      <td>2020-02-18</td>\n",
       "      <td>0</td>\n",
       "      <td>0.087065</td>\n",
       "      <td>0.030046</td>\n",
       "    </tr>\n",
       "    <tr>\n",
       "      <th>2</th>\n",
       "      <td>2020-02-19</td>\n",
       "      <td>0</td>\n",
       "      <td>0.112061</td>\n",
       "      <td>0.044674</td>\n",
       "    </tr>\n",
       "  </tbody>\n",
       "</table>\n",
       "</div>"
      ],
      "text/plain": [
       "         date  hospit  serial_interval  delay_distr\n",
       "0  2020-02-17       0         0.046535     0.013006\n",
       "1  2020-02-18       0         0.087065     0.030046\n",
       "2  2020-02-19       0         0.112061     0.044674"
      ]
     },
     "metadata": {
      "tags": []
     },
     "execution_count": 5
    }
   ]
  },
  {
   "cell_type": "code",
   "metadata": {
    "id": "6BWeg3zYNfD7"
   },
   "source": [
    "cero = torch.tensor(0, requires_grad=False, device=device, dtype=dtype)\n",
    "num_impute = 6\n",
    "observed_daily_hospit = torch.tensor(data.hospit, requires_grad=False, device=device, dtype=dtype)\n",
    "pi = torch.tensor(data.delay_distr, requires_grad=False, device=device, dtype=dtype)\n",
    "serial_interval = torch.tensor(data.serial_interval, requires_grad=False, device=device, dtype=dtype)\n",
    "population = torch.tensor(5793636, requires_grad=False, device=device, dtype=dtype)\n",
    "num_observations = len(observed_daily_hospit)"
   ],
   "execution_count": 6,
   "outputs": []
  },
  {
   "cell_type": "markdown",
   "metadata": {
    "id": "KnZypONcN4DZ"
   },
   "source": [
    "Initialize latent variables / parameters"
   ]
  },
  {
   "cell_type": "code",
   "metadata": {
    "id": "BVk4vgPnN3Aw"
   },
   "source": [
    "tau = np.random.exponential(1 / 0.03)\n",
    "#tau_t = torch.tensor(tau, requires_grad=True, device=device, dtype=dtype)\n",
    "# b=(upper-lower)/scale, loc=lower, scale=scale\n",
    "y = torch.tensor(truncexpon.rvs(b=(1000 - 0) / tau, loc=0, scale=tau), requires_grad=False, device=device, dtype=dtype)  # number of initial newly_infected (seed)\n",
    "\n",
    "# For trunc ((lower - mu) / sigma, (upper - mu) / sigma, loc=mu, scale=sigma)\n",
    "#phi = torch.tensor(truncnorm.rvs((0 - 0) / 5, (np.inf - 0) / 5, loc=0, scale=5), requires_grad=True, device=device, dtype=dtype)  # dispersion (shape) parameter for observations\n",
    "R0 = torch.tensor(truncnorm.rvs((2 - 3.6) / 0.8, (5 - 3.6) / 0.8, loc=3.6, scale=0.8), requires_grad=True, device=device, dtype=dtype)  # initial reproduction number\n",
    "alpha = torch.tensor(truncnorm.rvs((0 - 1/100) / 1/100, (5/100 - 1/100) / 1/100, loc=1/100, scale=1/100), requires_grad=True, device=device, dtype=dtype)  # probability to get hospitalized\n",
    "sigma = torch.tensor(truncnorm.rvs((0 - 0.05) / 0.03, (0.15 - 0.05) / 0.03, loc=0.05, scale=0.03), requires_grad=True, device=device, dtype=dtype)  # standart deviation of random walk step"
   ],
   "execution_count": 7,
   "outputs": []
  },
  {
   "cell_type": "markdown",
   "source": [
    "__From Andreas' model__\n",
    "\n",
    "\"\"\"\n",
    "(model::Covid19Model)(θ) returns the log loglikelihood of our model with\n",
    "respect to the parameters θ together with inferred values of 'Rt' and\n",
    "'expected_daily_hospit'.\n",
    "\n",
    "In a 'standard' machine learning model the loss function is something like\n",
    "loss(y,ŷ,θ) = sum( (y-ŷ)^2 ) + α*θ,\n",
    "where 'y' is the observed outcome, 'ŷ' is the model estimate and α is some\n",
    "regularisation parameter.\n",
    "\n",
    "In a Bayesian framework the first term is called the log loglikelihood of the\n",
    "data wrt. the model and the regularisation term is the log likelihood of our\n",
    "parameters θ wrt. the prior.\n",
    "\n",
    "The 'standard' loss function is a special case of the Bayesian approach which\n",
    "assumes Gaussian distribtions.\n",
    "\"\"\"\n",
    "\n",
    "function evaluate(model::Covid19Model, θ)\n",
    "\t@unpack τ, y, ϕ, R0, α, σ, ϵt = θ\n",
    "\t@unpack num_obs, num_impute, observed_hospit, i2h, pop, si = model\n",
    "    ℓ = 0. #likelihood\n",
    "\n",
    "\t# log likelihood wrt. our prior (\"regularisation\")\n",
    "\tℓ += logpdf( Exponential(1 / 0.03), τ)\n",
    "\tT = typeof(τ)\n",
    "\tℓ += logpdf( truncated(Exponential(τ), T(0), T(1000)), y) # number of initial newly_infected (seed)\n",
    "\tℓ += logpdf( truncated(Normal(25, 5), 0, Inf), ϕ) # dispersion (shape) parameter for observations\n",
    "\tℓ += logpdf( truncated(Normal(3.6, 0.8), 2, 5), R0) # initial reproduction number\n",
    "\tℓ += logpdf( truncated(Normal(1/100,1/100), 0,5/100), α) # probability to get hospitalized\n",
    "\tℓ += logpdf( truncated(Normal(0.05, 0.03), 0, 0.15), σ) # standart deviation of random walk step"
   ],
   "metadata": {
    "collapsed": false,
    "pycharm": {
     "name": "#%% md\n"
    }
   }
  },
  {
   "cell_type": "markdown",
   "metadata": {
    "id": "kFyBW5v9Iu11"
   },
   "source": [
    "# Define Forward Pass"
   ]
  },
  {
   "cell_type": "code",
   "metadata": {
    "id": "v8i41EQqtlfI"
   },
   "source": [
    "def forward_pass():\n",
    "\n",
    "  # Initialize time series variables\n",
    "  newly_infected = torch.zeros(num_observations)  # number of newly infected\n",
    "  effectively_infectious = torch.zeros(num_observations)  # effective number of infectious individuals\n",
    "  expected_daily_hospit = torch.zeros(num_observations)  # expected number of daily hospitalizations\n",
    "  cumulative_infected = torch.zeros(num_observations)  # cumulative number of infected\n",
    "  eta_t = torch.zeros(num_observations)  # transformed reproduction number\n",
    "  epsilon_t = torch.zeros(num_observations)  # random walk\n",
    "  St = torch.zeros(num_observations)  # fraction of susceptible population\n",
    "\n",
    "  # seed initial infection / impute first num_impute days\n",
    "  newly_infected[0:num_impute] = y.clone()\n",
    "  cumulative_infected[0] = 0.\n",
    "  cumulative_infected[1:num_impute] = torch.cumsum(newly_infected[0:num_impute - 1].clone(), dim=0)\n",
    "  St[0:num_impute] = torch.tensor([torch.maximum(population.clone() - x, torch.tensor(0)) / population for x in cumulative_infected[0:num_impute].clone()])\n",
    "\n",
    "  # calculate Rt: the basic reproduction number\n",
    "  beta_0 = torch.log(R0)\n",
    "  epsilon_t[0] = torch.distributions.Normal(cero, sigma).rsample()\n",
    "  for t in range(1, num_observations):\n",
    "      epsilon_t[t] = torch.distributions.Normal(epsilon_t[t - 1].clone(), sigma).rsample()\n",
    "  eta_t = beta_0 + epsilon_t  # + RNN[X_t, t]  # .clone() necessary?\n",
    "  Rt = torch.exp(eta_t)\n",
    "\n",
    "  # calculate infections\n",
    "  for t in range(num_impute, num_observations):\n",
    "      # Update cumulative newly_infected\n",
    "      cumulative_infected[t] = cumulative_infected[t - 1].clone() + newly_infected[t - 1].clone()\n",
    "      # Adjusts for portion of pop that are susceptible\n",
    "      St[t] = torch.maximum(population.clone() - cumulative_infected[t].clone(), cero) / population.clone()\n",
    "      # effective number of infectous individuals\n",
    "      for i in range(0, t - 1):\n",
    "          effectively_infectious[t] += newly_infected[i].clone() * serial_interval[t - i].clone()\n",
    "      newly_infected[t] = St[t].clone() * Rt[t].clone() * effectively_infectious[t].clone()\n",
    "\n",
    "  # calculate expected number of hospitalizations\n",
    "  expected_daily_hospit[0] = (1e-15) * newly_infected[0].clone()\n",
    "  for t in range(1, num_observations):\n",
    "      for i in range(0, t - 1):\n",
    "          expected_daily_hospit[t] += newly_infected[i].clone() * pi[t - i].clone()\n",
    "  expected_daily_hospit = alpha * expected_daily_hospit\n",
    "  return expected_daily_hospit"
   ],
   "execution_count": 8,
   "outputs": []
  },
  {
   "cell_type": "markdown",
   "metadata": {
    "id": "ot3EWx3k4YMm"
   },
   "source": [
    "# Optimization"
   ]
  },
  {
   "cell_type": "code",
   "metadata": {
    "id": "HmyO5HQzoiNA",
    "colab": {
     "base_uri": "https://localhost:8080/",
     "height": 1000
    },
    "outputId": "2ac8af7d-e36b-4c78-9da4-6ccc686f231f"
   },
   "source": [
    "learning_rate = 1e-12\n",
    "for t2 in range(10):\n",
    "\n",
    "  for t in range (40):\n",
    "    # forward pass - calculate expected_daily_hospit\n",
    "    expected_daily_hospit = forward_pass()\n",
    "\n",
    "    loss = (observed_daily_hospit - expected_daily_hospit).pow(2).sum()\n",
    "      # for i in 1:num_obs\n",
    "      #   ℓ += logpdf( NegativeBinomial2(expected_daily_hospit[i], ϕ), observed_hospit[i])\n",
    "    loss -= truncnorm.logpdf(x=R0.detach().numpy() ,a=2, b=5, loc=0, scale=0.8)\n",
    "    loss += truncnorm.logpdf(x=alpha.detach().numpy(),a=0 , b=5/100, loc=0, scale=1)\n",
    "    loss += truncnorm.logpdf(x=sigma.detach().numpy(),a=0 , b=0.15, loc=0, scale=1)\n",
    "    loss.backward()\n",
    "\n",
    "    print(f'Time Step: {t}, Loss: {loss}, Observed_daily_hospit: {torch.sum(observed_daily_hospit)}, Expected_daily_hospit: {torch.sum(expected_daily_hospit)}')\n",
    "    \n",
    "\n",
    "    with torch.no_grad():\n",
    "      #tau_t -= learning_rate * tau_t.grad\n",
    "      #phi -= learning_rate * phi.grad\n",
    "      R0 -= learning_rate * R0.grad\n",
    "      alpha -= learning_rate * alpha.grad\n",
    "      sigma -= learning_rate * sigma.grad\n",
    "      print(f' R0:{R0}, grad: {R0.grad}, alpha: {alpha} grad: {alpha.grad}, sigma: {sigma} grad {sigma.grad}' )\n",
    "\n",
    "      #tau_t.grad = None\n",
    "      #phi.grad = None\n",
    "      R0.grad = None\n",
    "      alpha.grad = None\n",
    "      sigma.grad = None\n",
    "  \n",
    "  \n",
    "  plt.plot(expected_daily_hospit.detach().numpy(), label='expected_daily_hospit')\n",
    "  plt.plot(observed_daily_hospit.detach().numpy(), label='observed_daily_hospit')\n",
    "  plt.legend()\n",
    "  plt.show()"
   ],
   "execution_count": 9,
   "outputs": [
    {
     "output_type": "stream",
     "text": [
      "Time Step: 0, Loss: 9678165.0, Observed_daily_hospit: 13199.0, Expected_daily_hospit: 46265.0234375\n",
      " R0:2.279672145843506, grad: 49630956.0, alpha: 0.007919954136013985 grad: 2079902976.0, sigma: 0.06633935868740082 grad -605297920.0\n",
      "Time Step: 1, Loss: 47646884.0, Observed_daily_hospit: 13199.0, Expected_daily_hospit: 40388.18359375\n",
      " R0:2.279621124267578, grad: 50986972.0, alpha: -0.004136447794735432 grad: 12056401920.0, sigma: 0.06562210619449615 grad 717252160.0\n",
      "Time Step: 2, Loss: -inf, Observed_daily_hospit: 13199.0, Expected_daily_hospit: -21183.041015625\n",
      " R0:2.2796239852905273, grad: -2871753.75, alpha: 0.0008316189050674438 grad: -4968066560.0, sigma: 0.06549075990915298 grad 131347288.0\n",
      "Time Step: 3, Loss: 1008317.25, Observed_daily_hospit: 13199.0, Expected_daily_hospit: 1.7178809642791748\n",
      " R0:2.2796239852905273, grad: -253.41990661621094, alpha: 0.0008317555766552687 grad: -136644.8125, sigma: 0.06549075245857239 grad 4515.41064453125\n",
      "Time Step: 4, Loss: 1331909.125, Observed_daily_hospit: 13199.0, Expected_daily_hospit: 3939.194091796875\n",
      " R0:2.279623508453369, grad: 457772.3125, alpha: -3.513053525239229e-05 grad: 866886144.0, sigma: 0.06548797339200974 grad 2780383.5\n",
      "Time Step: 5, Loss: -inf, Observed_daily_hospit: 13199.0, Expected_daily_hospit: -174.7107391357422\n",
      " R0:2.279623508453369, grad: 8572.2060546875, alpha: 0.00014062289847061038 grad: -175753440.0, sigma: 0.06548792123794556 grad 52448.8984375\n",
      "Time Step: 6, Loss: 1005637.8125, Observed_daily_hospit: 13199.0, Expected_daily_hospit: 710.570068359375\n",
      " R0:2.279623508453369, grad: -18757.5234375, alpha: 8.09167540865019e-05 grad: 59706148.0, sigma: 0.06548792868852615 grad -7355.8125\n",
      "Time Step: 7, Loss: 996862.8125, Observed_daily_hospit: 13199.0, Expected_daily_hospit: 416.13720703125\n",
      " R0:2.279623508453369, grad: -20577.9453125, alpha: 0.00017996947281062603 grad: -99052720.0, sigma: 0.06548811495304108 grad -185360.84375\n",
      "Time Step: 8, Loss: 1006309.0, Observed_daily_hospit: 13199.0, Expected_daily_hospit: 534.82763671875\n",
      " R0:2.279623508453369, grad: -1219.68701171875, alpha: 0.0001753926044330001 grad: 4576871.5, sigma: 0.06548814475536346 grad -29903.994140625\n",
      "Time Step: 9, Loss: 939200.4375, Observed_daily_hospit: 13199.0, Expected_daily_hospit: 905.7772827148438\n",
      " R0:2.279623508453369, grad: 116621.2578125, alpha: 0.0004908061819151044 grad: -315413536.0, sigma: 0.0654895156621933 grad -1367904.0\n",
      "Time Step: 10, Loss: 1065773.125, Observed_daily_hospit: 13199.0, Expected_daily_hospit: 2221.327880859375\n",
      " R0:2.279623508453369, grad: 13671.0009765625, alpha: 0.00018024464952759445 grad: 310561536.0, sigma: 0.06548947840929031 grad 34812.25\n",
      "Time Step: 11, Loss: 1006230.8125, Observed_daily_hospit: 13199.0, Expected_daily_hospit: 160.2420654296875\n",
      " R0:2.279623508453369, grad: -9421.04296875, alpha: 0.00019154924666509032 grad: -11304594.0, sigma: 0.06548935174942017 grad 127386.34375\n",
      "Time Step: 12, Loss: 1007068.25, Observed_daily_hospit: 13199.0, Expected_daily_hospit: 26.90854835510254\n",
      " R0:2.279623508453369, grad: -5427.20556640625, alpha: 0.00019860212341882288 grad: -7052875.0, sigma: 0.06548933684825897 grad 15754.2958984375\n",
      "Time Step: 13, Loss: 1030650.0, Observed_daily_hospit: 13199.0, Expected_daily_hospit: 1043.23876953125\n",
      " R0:2.279623508453369, grad: -4788.28662109375, alpha: -5.616407725028694e-05 grad: 254766208.0, sigma: 0.0654890239238739 grad 315633.46875\n",
      "Time Step: 14, Loss: -inf, Observed_daily_hospit: 13199.0, Expected_daily_hospit: -297.5962829589844\n",
      " R0:2.279623508453369, grad: 12213.208984375, alpha: 0.00019225358846597373 grad: -248417680.0, sigma: 0.06548892706632614 grad 96141.6328125\n",
      "Time Step: 15, Loss: 1013281.875, Observed_daily_hospit: 13199.0, Expected_daily_hospit: 1007.73486328125\n",
      " R0:2.279623508453369, grad: -32515.82421875, alpha: 3.824337909463793e-05 grad: 154010208.0, sigma: 0.06548888236284256 grad 42719.8046875\n",
      "Time Step: 16, Loss: 997298.75, Observed_daily_hospit: 13199.0, Expected_daily_hospit: 209.29574584960938\n",
      " R0:2.279623508453369, grad: -7280.97216796875, alpha: 0.00029383256332948804 grad: -255589184.0, sigma: 0.06548900157213211 grad -119246.390625\n",
      "Time Step: 17, Loss: 1007101.125, Observed_daily_hospit: 13199.0, Expected_daily_hospit: 224.4876251220703\n",
      " R0:2.279623508453369, grad: -3627.1572265625, alpha: 0.0002965510939247906 grad: -2718531.25, sigma: 0.06548894196748734 grad 62816.92578125\n",
      "Time Step: 18, Loss: 1007224.125, Observed_daily_hospit: 13199.0, Expected_daily_hospit: 1641.5302734375\n",
      " R0:2.279623508453369, grad: -29758.515625, alpha: -4.1959050577133894e-05 grad: 338510144.0, sigma: 0.06548920273780823 grad -259524.0\n",
      "Time Step: 19, Loss: -inf, Observed_daily_hospit: 13199.0, Expected_daily_hospit: -226.49594116210938\n",
      " R0:2.279623508453369, grad: 5083.3203125, alpha: 0.00014734588330611587 grad: -189304928.0, sigma: 0.06548917293548584 grad 29954.5703125\n",
      "Time Step: 20, Loss: 1004890.75, Observed_daily_hospit: 13199.0, Expected_daily_hospit: 532.236328125\n",
      " R0:2.279623508453369, grad: -7183.62939453125, alpha: 0.00014119336265139282 grad: 6152518.0, sigma: 0.06548918783664703 grad -12255.17578125\n",
      "Time Step: 21, Loss: 996887.375, Observed_daily_hospit: 13199.0, Expected_daily_hospit: 636.8012084960938\n",
      " R0:2.279623508453369, grad: -27098.748046875, alpha: 0.00017001767992042005 grad: -28824314.0, sigma: 0.06548937410116196 grad -186149.703125\n",
      "Time Step: 22, Loss: 1017618.75, Observed_daily_hospit: 13199.0, Expected_daily_hospit: 911.9642333984375\n",
      " R0:2.279623508453369, grad: -13614.814453125, alpha: -2.656692231539637e-05 grad: 196584608.0, sigma: 0.06548923999071121 grad 137155.109375\n",
      "Time Step: 23, Loss: -inf, Observed_daily_hospit: 13199.0, Expected_daily_hospit: -140.19894409179688\n",
      " R0:2.279623508453369, grad: 3002.58740234375, alpha: 0.00010559054499026388 grad: -132157472.0, sigma: 0.06548923254013062 grad 9688.0517578125\n",
      "Time Step: 24, Loss: 1002521.1875, Observed_daily_hospit: 13199.0, Expected_daily_hospit: 517.57568359375\n",
      " R0:2.279623508453369, grad: -10567.7705078125, alpha: 9.760829561855644e-05 grad: 7982250.5, sigma: 0.065489262342453 grad -30542.962890625\n",
      "Time Step: 25, Loss: 1006127.0625, Observed_daily_hospit: 13199.0, Expected_daily_hospit: 254.47470092773438\n",
      " R0:2.279623508453369, grad: -6958.35009765625, alpha: 0.00011434117914177477 grad: -16732883.0, sigma: 0.06548923999071121 grad 25549.6796875\n",
      "Time Step: 26, Loss: 1007389.9375, Observed_daily_hospit: 13199.0, Expected_daily_hospit: 122.35111236572266\n",
      " R0:2.279623508453369, grad: -4033.255859375, alpha: 0.0001219114928971976 grad: -7570316.0, sigma: 0.06548917293548584 grad 66411.1484375\n",
      "Time Step: 27, Loss: 995196.75, Observed_daily_hospit: 13199.0, Expected_daily_hospit: 671.3914794921875\n",
      " R0:2.279623508453369, grad: -25680.001953125, alpha: 0.00010988472786266357 grad: 12026768.0, sigma: 0.06548939645290375 grad -222081.5\n",
      "Time Step: 28, Loss: 1004003.6875, Observed_daily_hospit: 13199.0, Expected_daily_hospit: 505.38916015625\n",
      " R0:2.279623508453369, grad: -6178.78466796875, alpha: 9.007072367239743e-05 grad: 19814004.0, sigma: 0.06548939645290375 grad -2404.94580078125\n",
      "Time Step: 29, Loss: 1007867.625, Observed_daily_hospit: 13199.0, Expected_daily_hospit: 396.9361572265625\n",
      " R0:2.279623508453369, grad: -7466.25634765625, alpha: 7.118771463865414e-05 grad: 18883010.0, sigma: 0.06548932939767838 grad 66220.3671875\n",
      "Time Step: 30, Loss: 1008672.1875, Observed_daily_hospit: 13199.0, Expected_daily_hospit: 367.76055908203125\n",
      " R0:2.279623508453369, grad: -5417.39111328125, alpha: 2.5334327801829204e-05 grad: 45853388.0, sigma: 0.0654892697930336 grad 58262.6796875\n",
      "Time Step: 31, Loss: 1007769.875, Observed_daily_hospit: 13199.0, Expected_daily_hospit: 115.01342010498047\n",
      " R0:2.279623508453369, grad: -1210.337158203125, alpha: 3.955837746616453e-05 grad: -14224048.0, sigma: 0.065489262342453 grad 7798.2958984375\n",
      "Time Step: 32, Loss: 1007782.4375, Observed_daily_hospit: 13199.0, Expected_daily_hospit: 145.8957061767578\n",
      " R0:2.279623508453369, grad: 408.42828369140625, alpha: 4.656672535929829e-05 grad: -7008349.0, sigma: 0.065489262342453 grad -2522.1611328125\n",
      "Time Step: 33, Loss: 1001273.875, Observed_daily_hospit: 13199.0, Expected_daily_hospit: 170.9840087890625\n",
      " R0:2.279623508453369, grad: 16753.7421875, alpha: 0.0001916455221362412 grad: -145078800.0, sigma: 0.06548953801393509 grad -272376.53125\n",
      "Time Step: 34, Loss: 1005705.5625, Observed_daily_hospit: 13199.0, Expected_daily_hospit: 640.0603637695312\n",
      " R0:2.279623508453369, grad: -3645.426513671875, alpha: 0.00017262037727050483 grad: 19025142.0, sigma: 0.06548957526683807 grad -35185.5703125\n",
      "Time Step: 35, Loss: 1010696.75, Observed_daily_hospit: 13199.0, Expected_daily_hospit: 690.145263671875\n",
      " R0:2.279623508453369, grad: 7806.966796875, alpha: 0.00011944691505050287 grad: 53173464.0, sigma: 0.06548959761857986 grad -24493.240234375\n",
      "Time Step: 36, Loss: 994549.5, Observed_daily_hospit: 13199.0, Expected_daily_hospit: 439.4927673339844\n",
      " R0:2.27962327003479, grad: 209274.75, alpha: 0.00020996015518903732 grad: -90513248.0, sigma: 0.06548970192670822 grad -102888.9375\n",
      "Time Step: 37, Loss: 1020167.0625, Observed_daily_hospit: 13199.0, Expected_daily_hospit: 1074.28662109375\n",
      " R0:2.27962327003479, grad: -18009.05859375, alpha: 3.640328941401094e-05 grad: 173556864.0, sigma: 0.0654895231127739 grad 177276.828125\n",
      "Time Step: 38, Loss: 1007799.5625, Observed_daily_hospit: 13199.0, Expected_daily_hospit: 195.76385498046875\n",
      " R0:2.27962327003479, grad: -2367.944580078125, alpha: 2.4642715288791806e-05 grad: 11760575.0, sigma: 0.0654895082116127 grad 18352.845703125\n",
      "Time Step: 39, Loss: 1007786.75, Observed_daily_hospit: 13199.0, Expected_daily_hospit: 102.89706420898438\n",
      " R0:2.27962327003479, grad: -1312.038818359375, alpha: 4.442664430825971e-05 grad: -19783930.0, sigma: 0.0654895007610321 grad 7846.74951171875\n"
     ],
     "name": "stdout"
    },
    {
     "output_type": "display_data",
     "data": {
      "image/png": "[encoded data removed]",
      "text/plain": [
       "<Figure size 432x288 with 1 Axes>"
      ]
     },
     "metadata": {
      "tags": [],
      "needs_background": "light"
     }
    },
    {
     "output_type": "stream",
     "text": [
      "Time Step: 0, Loss: 997514.5, Observed_daily_hospit: 13199.0, Expected_daily_hospit: 231.1869659423828\n",
      " R0:2.27962327003479, grad: -10295.4150390625, alpha: 0.0002561927249189466 grad: -211766080.0, sigma: 0.06548964232206345 grad -141983.390625\n",
      "Time Step: 1, Loss: 1020566.625, Observed_daily_hospit: 13199.0, Expected_daily_hospit: 1307.717041015625\n",
      " R0:2.27962327003479, grad: -10290.6630859375, alpha: 4.864684888161719e-05 grad: 207545872.0, sigma: 0.06548957526683807 grad 64212.4296875\n",
      "Time Step: 2, Loss: 1006549.0, Observed_daily_hospit: 13199.0, Expected_daily_hospit: 237.10763549804688\n",
      " R0:2.27962327003479, grad: 11716.095703125, alpha: 6.452013622038066e-05 grad: -15873284.0, sigma: 0.06548967957496643 grad -108017.453125\n",
      "Time Step: 3, Loss: 1007566.625, Observed_daily_hospit: 13199.0, Expected_daily_hospit: 82.56053924560547\n",
      " R0:2.27962327003479, grad: -3742.7548828125, alpha: 7.689769699936733e-05 grad: -12377562.0, sigma: 0.06548964977264404 grad 32985.33203125\n",
      "Time Step: 4, Loss: 986197.3125, Observed_daily_hospit: 13199.0, Expected_daily_hospit: 416.8457336425781\n",
      " R0:2.27962327003479, grad: -14155.1728515625, alpha: 0.0002915756485890597 grad: -214677952.0, sigma: 0.06548991799354553 grad -267988.0\n",
      "Time Step: 5, Loss: 1035343.75, Observed_daily_hospit: 13199.0, Expected_daily_hospit: 1609.220458984375\n",
      " R0:2.279623031616211, grad: 129313.25, alpha: -0.0001307741622440517 grad: 422349824.0, sigma: 0.0654904767870903 grad -555245.5625\n",
      "Time Step: 6, Loss: -inf, Observed_daily_hospit: 13199.0, Expected_daily_hospit: -719.5546875\n",
      " R0:2.279623031616211, grad: 23024.37890625, alpha: 0.0004818027373403311 grad: -612576896.0, sigma: 0.06549003720283508 grad 442256.78125\n",
      "Time Step: 7, Loss: 1058415.375, Observed_daily_hospit: 13199.0, Expected_daily_hospit: 2475.175048828125\n",
      " R0:2.279623031616211, grad: -19185.37109375, alpha: 4.4598185922950506e-05 grad: 437204544.0, sigma: 0.0654902458190918 grad -208688.09375\n",
      "Time Step: 8, Loss: 1001307.75, Observed_daily_hospit: 13199.0, Expected_daily_hospit: 214.9063720703125\n",
      " R0:2.279623031616211, grad: -11331.8515625, alpha: 0.00017955618386622518 grad: -134958000.0, sigma: 0.06549034267663956 grad -97825.2421875\n",
      "Time Step: 9, Loss: 1001467.5, Observed_daily_hospit: 13199.0, Expected_daily_hospit: 713.7166137695312\n",
      " R0:2.279623031616211, grad: -16059.3408203125, alpha: 0.00016456130833830684 grad: 14994880.0, sigma: 0.06549042463302612 grad -83677.3125\n",
      "Time Step: 10, Loss: 985142.125, Observed_daily_hospit: 13199.0, Expected_daily_hospit: 882.6207885742188\n",
      " R0:2.279623031616211, grad: -20685.9375, alpha: 0.00015603280917275697 grad: 8528496.0, sigma: 0.06548979133367538 grad 632188.9375\n",
      "Time Step: 11, Loss: 1007021.625, Observed_daily_hospit: 13199.0, Expected_daily_hospit: 54.84754943847656\n",
      " R0:2.279623031616211, grad: -6591.3955078125, alpha: 0.00016483453509863466 grad: -8801726.0, sigma: 0.0654897540807724 grad 37308.53515625\n",
      "Time Step: 12, Loss: 1004783.625, Observed_daily_hospit: 13199.0, Expected_daily_hospit: 583.0218505859375\n",
      " R0:2.279623031616211, grad: -5663.66796875, alpha: 0.00014744502550456673 grad: 17389510.0, sigma: 0.06548977643251419 grad -23372.53515625\n"
     ],
     "name": "stdout"
    },
    {
     "output_type": "error",
     "ename": "KeyboardInterrupt",
     "evalue": "ignored",
     "traceback": [
      "\u001B[0;31m---------------------------------------------------------------------------\u001B[0m",
      "\u001B[0;31mKeyboardInterrupt\u001B[0m                         Traceback (most recent call last)",
      "\u001B[0;32m<ipython-input-9-2491fdaff74b>\u001B[0m in \u001B[0;36m<module>\u001B[0;34m()\u001B[0m\n\u001B[1;32m     12\u001B[0m     \u001B[0mloss\u001B[0m \u001B[0;34m+=\u001B[0m \u001B[0mtruncnorm\u001B[0m\u001B[0;34m.\u001B[0m\u001B[0mlogpdf\u001B[0m\u001B[0;34m(\u001B[0m\u001B[0mx\u001B[0m\u001B[0;34m=\u001B[0m\u001B[0malpha\u001B[0m\u001B[0;34m.\u001B[0m\u001B[0mdetach\u001B[0m\u001B[0;34m(\u001B[0m\u001B[0;34m)\u001B[0m\u001B[0;34m.\u001B[0m\u001B[0mnumpy\u001B[0m\u001B[0;34m(\u001B[0m\u001B[0;34m)\u001B[0m\u001B[0;34m,\u001B[0m\u001B[0ma\u001B[0m\u001B[0;34m=\u001B[0m\u001B[0;36m0\u001B[0m \u001B[0;34m,\u001B[0m \u001B[0mb\u001B[0m\u001B[0;34m=\u001B[0m\u001B[0;36m5\u001B[0m\u001B[0;34m/\u001B[0m\u001B[0;36m100\u001B[0m\u001B[0;34m,\u001B[0m \u001B[0mloc\u001B[0m\u001B[0;34m=\u001B[0m\u001B[0;36m0\u001B[0m\u001B[0;34m,\u001B[0m \u001B[0mscale\u001B[0m\u001B[0;34m=\u001B[0m\u001B[0;36m1\u001B[0m\u001B[0;34m)\u001B[0m\u001B[0;34m\u001B[0m\u001B[0;34m\u001B[0m\u001B[0m\n\u001B[1;32m     13\u001B[0m     \u001B[0mloss\u001B[0m \u001B[0;34m+=\u001B[0m \u001B[0mtruncnorm\u001B[0m\u001B[0;34m.\u001B[0m\u001B[0mlogpdf\u001B[0m\u001B[0;34m(\u001B[0m\u001B[0mx\u001B[0m\u001B[0;34m=\u001B[0m\u001B[0msigma\u001B[0m\u001B[0;34m.\u001B[0m\u001B[0mdetach\u001B[0m\u001B[0;34m(\u001B[0m\u001B[0;34m)\u001B[0m\u001B[0;34m.\u001B[0m\u001B[0mnumpy\u001B[0m\u001B[0;34m(\u001B[0m\u001B[0;34m)\u001B[0m\u001B[0;34m,\u001B[0m\u001B[0ma\u001B[0m\u001B[0;34m=\u001B[0m\u001B[0;36m0\u001B[0m \u001B[0;34m,\u001B[0m \u001B[0mb\u001B[0m\u001B[0;34m=\u001B[0m\u001B[0;36m0.15\u001B[0m\u001B[0;34m,\u001B[0m \u001B[0mloc\u001B[0m\u001B[0;34m=\u001B[0m\u001B[0;36m0\u001B[0m\u001B[0;34m,\u001B[0m \u001B[0mscale\u001B[0m\u001B[0;34m=\u001B[0m\u001B[0;36m1\u001B[0m\u001B[0;34m)\u001B[0m\u001B[0;34m\u001B[0m\u001B[0;34m\u001B[0m\u001B[0m\n\u001B[0;32m---> 14\u001B[0;31m     \u001B[0mloss\u001B[0m\u001B[0;34m.\u001B[0m\u001B[0mbackward\u001B[0m\u001B[0;34m(\u001B[0m\u001B[0;34m)\u001B[0m\u001B[0;34m\u001B[0m\u001B[0;34m\u001B[0m\u001B[0m\n\u001B[0m\u001B[1;32m     15\u001B[0m \u001B[0;34m\u001B[0m\u001B[0m\n\u001B[1;32m     16\u001B[0m     \u001B[0mprint\u001B[0m\u001B[0;34m(\u001B[0m\u001B[0;34mf'Time Step: {t}, Loss: {loss}, Observed_daily_hospit: {torch.sum(observed_daily_hospit)}, Expected_daily_hospit: {torch.sum(expected_daily_hospit)}'\u001B[0m\u001B[0;34m)\u001B[0m\u001B[0;34m\u001B[0m\u001B[0;34m\u001B[0m\u001B[0m\n",
      "\u001B[0;32m/usr/local/lib/python3.7/dist-packages/torch/tensor.py\u001B[0m in \u001B[0;36mbackward\u001B[0;34m(self, gradient, retain_graph, create_graph, inputs)\u001B[0m\n\u001B[1;32m    243\u001B[0m                 \u001B[0mcreate_graph\u001B[0m\u001B[0;34m=\u001B[0m\u001B[0mcreate_graph\u001B[0m\u001B[0;34m,\u001B[0m\u001B[0;34m\u001B[0m\u001B[0;34m\u001B[0m\u001B[0m\n\u001B[1;32m    244\u001B[0m                 inputs=inputs)\n\u001B[0;32m--> 245\u001B[0;31m         \u001B[0mtorch\u001B[0m\u001B[0;34m.\u001B[0m\u001B[0mautograd\u001B[0m\u001B[0;34m.\u001B[0m\u001B[0mbackward\u001B[0m\u001B[0;34m(\u001B[0m\u001B[0mself\u001B[0m\u001B[0;34m,\u001B[0m \u001B[0mgradient\u001B[0m\u001B[0;34m,\u001B[0m \u001B[0mretain_graph\u001B[0m\u001B[0;34m,\u001B[0m \u001B[0mcreate_graph\u001B[0m\u001B[0;34m,\u001B[0m \u001B[0minputs\u001B[0m\u001B[0;34m=\u001B[0m\u001B[0minputs\u001B[0m\u001B[0;34m)\u001B[0m\u001B[0;34m\u001B[0m\u001B[0;34m\u001B[0m\u001B[0m\n\u001B[0m\u001B[1;32m    246\u001B[0m \u001B[0;34m\u001B[0m\u001B[0m\n\u001B[1;32m    247\u001B[0m     \u001B[0;32mdef\u001B[0m \u001B[0mregister_hook\u001B[0m\u001B[0;34m(\u001B[0m\u001B[0mself\u001B[0m\u001B[0;34m,\u001B[0m \u001B[0mhook\u001B[0m\u001B[0;34m)\u001B[0m\u001B[0;34m:\u001B[0m\u001B[0;34m\u001B[0m\u001B[0;34m\u001B[0m\u001B[0m\n",
      "\u001B[0;32m/usr/local/lib/python3.7/dist-packages/torch/autograd/__init__.py\u001B[0m in \u001B[0;36mbackward\u001B[0;34m(tensors, grad_tensors, retain_graph, create_graph, grad_variables, inputs)\u001B[0m\n\u001B[1;32m    145\u001B[0m     Variable._execution_engine.run_backward(\n\u001B[1;32m    146\u001B[0m         \u001B[0mtensors\u001B[0m\u001B[0;34m,\u001B[0m \u001B[0mgrad_tensors_\u001B[0m\u001B[0;34m,\u001B[0m \u001B[0mretain_graph\u001B[0m\u001B[0;34m,\u001B[0m \u001B[0mcreate_graph\u001B[0m\u001B[0;34m,\u001B[0m \u001B[0minputs\u001B[0m\u001B[0;34m,\u001B[0m\u001B[0;34m\u001B[0m\u001B[0;34m\u001B[0m\u001B[0m\n\u001B[0;32m--> 147\u001B[0;31m         allow_unreachable=True, accumulate_grad=True)  # allow_unreachable flag\n\u001B[0m\u001B[1;32m    148\u001B[0m \u001B[0;34m\u001B[0m\u001B[0m\n\u001B[1;32m    149\u001B[0m \u001B[0;34m\u001B[0m\u001B[0m\n",
      "\u001B[0;31mKeyboardInterrupt\u001B[0m: "
     ]
    }
   ]
  },
  {
   "cell_type": "markdown",
   "metadata": {
    "id": "9KVaHBOjSY4P"
   },
   "source": [
    "compare observed hospitalizations to model results"
   ]
  },
  {
   "cell_type": "code",
   "metadata": {
    "id": "OWOxqWBXSY9i"
   },
   "source": [
    "plt.figure(figsize=(10,10))\n",
    "plt.plot(expected_daily_hospit.detach().numpy(), label='expected_daily_hospit')\n",
    "plt.plot(observed_daily_hospit.detach().numpy(), label='observed_daily_hospit')\n",
    "plt.legend()\n",
    "plt.show()"
   ],
   "execution_count": null,
   "outputs": []
  }
 ]
}