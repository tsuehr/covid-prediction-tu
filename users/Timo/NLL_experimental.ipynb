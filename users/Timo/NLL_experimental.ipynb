{
  "nbformat": 4,
  "nbformat_minor": 0,
  "metadata": {
    "colab": {
      "name": "NLL.ipynb",
      "provenance": [],
      "collapsed_sections": []
    },
    "kernelspec": {
      "display_name": "Python 3",
      "language": "python",
      "name": "python3"
    },
    "language_info": {
      "codemirror_mode": {
        "name": "ipython",
        "version": 2
      },
      "file_extension": ".py",
      "mimetype": "text/x-python",
      "name": "python",
      "nbconvert_exporter": "python",
      "pygments_lexer": "ipython2",
      "version": "2.7.6"
    }
  },
  "cells": [
    {
      "cell_type": "code",
      "metadata": {
        "id": "lii1pE-fkhZ5"
      },
      "source": [
        "import scipy.stats\n",
        "import numpy as np\n",
        "import matplotlib.pyplot as plt\n",
        "from scipy.stats import expon, truncexpon, truncnorm, nbinom, norm\n",
        "import pandas as pd\n",
        "import time\n",
        "import torch\n",
        "from torch import nn\n",
        "from torch import distributions\n",
        "from torch import rand\n",
        "from torch import autograd\n",
        "from torch import optim"
      ],
      "execution_count": 1,
      "outputs": []
    },
    {
      "cell_type": "code",
      "metadata": {
        "id": "TvEa6cf9khZ8"
      },
      "source": [
        "np.random.seed(seed=101)\n",
        "torch.manual_seed(101)\n",
        "torch.use_deterministic_algorithms(True)\n",
        "dtype = torch.float64\n",
        "device = torch.device(\"cpu\")"
      ],
      "execution_count": 2,
      "outputs": []
    },
    {
      "cell_type": "code",
      "metadata": {
        "id": "1P0NumBhkhZ8"
      },
      "source": [
        "data = pd.read_csv('covid19model.csv')"
      ],
      "execution_count": 3,
      "outputs": []
    },
    {
      "cell_type": "code",
      "metadata": {
        "colab": {
          "base_uri": "https://localhost:8080/",
          "height": 419
        },
        "id": "VPuejrY_3BDO",
        "outputId": "ed3291a8-8efd-4a3a-eaa8-e5d9f8838e55"
      },
      "source": [
        "toy_data = pd.read_csv('exp_daily_hospit.csv')\n",
        "toy_data"
      ],
      "execution_count": 4,
      "outputs": [
        {
          "output_type": "execute_result",
          "data": {
            "text/html": [
              "<div>\n",
              "<style scoped>\n",
              "    .dataframe tbody tr th:only-of-type {\n",
              "        vertical-align: middle;\n",
              "    }\n",
              "\n",
              "    .dataframe tbody tr th {\n",
              "        vertical-align: top;\n",
              "    }\n",
              "\n",
              "    .dataframe thead th {\n",
              "        text-align: right;\n",
              "    }\n",
              "</style>\n",
              "<table border=\"1\" class=\"dataframe\">\n",
              "  <thead>\n",
              "    <tr style=\"text-align: right;\">\n",
              "      <th></th>\n",
              "      <th>Unnamed: 0</th>\n",
              "      <th>0</th>\n",
              "    </tr>\n",
              "  </thead>\n",
              "  <tbody>\n",
              "    <tr>\n",
              "      <th>0</th>\n",
              "      <td>0</td>\n",
              "      <td>9.319691e-16</td>\n",
              "    </tr>\n",
              "    <tr>\n",
              "      <th>1</th>\n",
              "      <td>1</td>\n",
              "      <td>2.800236e-02</td>\n",
              "    </tr>\n",
              "    <tr>\n",
              "      <th>2</th>\n",
              "      <td>2</td>\n",
              "      <td>6.963707e-02</td>\n",
              "    </tr>\n",
              "    <tr>\n",
              "      <th>3</th>\n",
              "      <td>3</td>\n",
              "      <td>1.213362e-01</td>\n",
              "    </tr>\n",
              "    <tr>\n",
              "      <th>4</th>\n",
              "      <td>4</td>\n",
              "      <td>1.795116e-01</td>\n",
              "    </tr>\n",
              "    <tr>\n",
              "      <th>...</th>\n",
              "      <td>...</td>\n",
              "      <td>...</td>\n",
              "    </tr>\n",
              "    <tr>\n",
              "      <th>402</th>\n",
              "      <td>402</td>\n",
              "      <td>4.089112e-03</td>\n",
              "    </tr>\n",
              "    <tr>\n",
              "      <th>403</th>\n",
              "      <td>403</td>\n",
              "      <td>3.417061e-03</td>\n",
              "    </tr>\n",
              "    <tr>\n",
              "      <th>404</th>\n",
              "      <td>404</td>\n",
              "      <td>2.855353e-03</td>\n",
              "    </tr>\n",
              "    <tr>\n",
              "      <th>405</th>\n",
              "      <td>405</td>\n",
              "      <td>2.385894e-03</td>\n",
              "    </tr>\n",
              "    <tr>\n",
              "      <th>406</th>\n",
              "      <td>406</td>\n",
              "      <td>1.993550e-03</td>\n",
              "    </tr>\n",
              "  </tbody>\n",
              "</table>\n",
              "<p>407 rows × 2 columns</p>\n",
              "</div>"
            ],
            "text/plain": [
              "     Unnamed: 0             0\n",
              "0             0  9.319691e-16\n",
              "1             1  2.800236e-02\n",
              "2             2  6.963707e-02\n",
              "3             3  1.213362e-01\n",
              "4             4  1.795116e-01\n",
              "..          ...           ...\n",
              "402         402  4.089112e-03\n",
              "403         403  3.417061e-03\n",
              "404         404  2.855353e-03\n",
              "405         405  2.385894e-03\n",
              "406         406  1.993550e-03\n",
              "\n",
              "[407 rows x 2 columns]"
            ]
          },
          "metadata": {
            "tags": []
          },
          "execution_count": 4
        }
      ]
    },
    {
      "cell_type": "markdown",
      "metadata": {
        "id": "asm1K_bf6W-x"
      },
      "source": [
        "    # Toy Data\n",
        "    tau = torch.tensor(33) # bij_transform(tau_prime, lower=0, upper=200)\n",
        "    y = torch.distributions.exponential.Exponential(1 / tau).rsample()\n",
        "    R0 = torch.tensor(3.6) # bij_transform(R0_prime, lower=2, upper=5)\n",
        "    phi = torch.tensor(25) # bij_transform(phi_prime, lower=1, upper=50)\n",
        "    alpha = torch.tensor(0.01) # bij_transform(alpha_prime, lower=0, upper=0.05)\n",
        "    sigma = torch.tensor(0.1) #bij_transform(sigma_prime, lower=0.0001, upper=0.5)"
      ]
    },
    {
      "cell_type": "markdown",
      "metadata": {
        "collapsed": false,
        "id": "biYjdVPAkhZ8"
      },
      "source": [
        "# Initialization"
      ]
    },
    {
      "cell_type": "code",
      "metadata": {
        "id": "TzR2o12FkhZ9"
      },
      "source": [
        "cero = torch.tensor(0., requires_grad=False, device=device, dtype=dtype)\n",
        "num_impute = 6\n",
        "#observed_daily_hospit = torch.tensor(toy_data['0'].round(), requires_grad=False, device=device, dtype=dtype)\n",
        "observed_daily_hospit = torch.tensor(data.hospit, requires_grad=False, device=device, dtype=dtype)\n",
        "pi = torch.tensor(data.delay_distr, requires_grad=False, device=device, dtype=dtype)\n",
        "serial_interval = torch.tensor(data.serial_interval, requires_grad=False, device=device, dtype=dtype)\n",
        "population = torch.tensor(5793636, requires_grad=False, device=device, dtype=dtype)\n",
        "num_observations = len(observed_daily_hospit)"
      ],
      "execution_count": 5,
      "outputs": []
    },
    {
      "cell_type": "markdown",
      "metadata": {
        "collapsed": false,
        "id": "TRbxTRP4khZ9"
      },
      "source": [
        "## Initialize latent variables/parameters"
      ]
    },
    {
      "cell_type": "code",
      "metadata": {
        "colab": {
          "base_uri": "https://localhost:8080/"
        },
        "id": "97yLuEgQkhZ9",
        "outputId": "14646d85-26c7-4ed6-da3d-f021fb7a86bd"
      },
      "source": [
        "tau_prime = torch.tensor(np.random.exponential(1 / 0.03), requires_grad=True, device=device, dtype=dtype)\n",
        "phi_prime = torch.tensor(truncnorm.rvs((0 - 25) / 10, (np.inf - 25) / 10, loc=25, scale=10), requires_grad=True,\n",
        "                         device=device,\n",
        "                         dtype=dtype)  # has to be positive, between 0-50 --> uniform # dispersion (shape) parameter for observations\n",
        "R0_prime = torch.tensor(truncnorm.rvs((2 - 3.6) / 0.8, (5 - 3.6) / 0.8, loc=3.6, scale=0.8), requires_grad=True,\n",
        "                        device=device,\n",
        "                        dtype=dtype)  # probably gamma or inverse gamma distribution (compare to truncated normal) # initial reproduction number\n",
        "alpha_prime = torch.tensor(\n",
        "    truncnorm.rvs((0 - 1 / 100) / 1 / 100, (5 / 100 - 1 / 100) / 1 / 100, loc=1 / 100, scale=1 / 100),\n",
        "    requires_grad=True, device=device,\n",
        "    dtype=dtype)  # uniform distribution between (0-5%) # probability to get hospitalized\n",
        "sigma_prime = torch.tensor(truncnorm.rvs((0 - 0.1) / 0.3, (0.5 - 0.1) / 0.3, loc=0.1, scale=0.3), requires_grad=True,\n",
        "                           device=device,\n",
        "                           dtype=dtype)  # positive, tricky, gamma or inverse gamma, log normal  --> try something out, large sigma--> prone to overfitting # standart deviation of random walk step\n",
        "\n",
        "epsilon_t = torch.zeros(num_observations, device=device)\n",
        "epsilon_t[0] = torch.distributions.Normal(cero, sigma_prime.detach()).rsample()\n",
        "for t in range(1, num_observations):\n",
        "    epsilon_t[t] = torch.distributions.Normal(epsilon_t[t - 1].detach(), sigma_prime.detach()).rsample()\n",
        "epsilon_t.requires_grad_(True)\n"
      ],
      "execution_count": 6,
      "outputs": [
        {
          "output_type": "execute_result",
          "data": {
            "text/plain": [
              "tensor([-0.4062, -0.6443, -0.7379, -0.5224, -1.0346, -0.8584, -0.9320, -1.0597,\n",
              "        -1.2271, -2.1625, -1.9980, -1.9351, -2.5766, -2.6399, -2.8520, -2.3127,\n",
              "        -2.2400, -2.1588, -1.6862, -1.7545, -2.1455, -2.1636, -2.2423, -1.9797,\n",
              "        -1.7461, -1.8958, -2.0178, -1.7697, -1.1899, -1.5608, -1.2986, -0.9878,\n",
              "        -1.1975, -0.8651, -1.3561, -1.3298, -1.3777, -1.6734, -1.5581, -1.3892,\n",
              "        -0.9920, -1.1048, -1.2804, -1.7002, -1.6482, -1.9254, -1.9525, -1.6132,\n",
              "        -1.9811, -1.7413, -1.5891, -1.5620, -1.2712, -1.5568, -1.1379, -1.0850,\n",
              "        -1.0561, -0.6375, -0.5553, -0.4397, -0.1980, -0.2442, -0.0438,  0.0886,\n",
              "        -0.0346,  0.0927,  0.2458, -0.2554, -0.6296, -1.1790, -1.6244, -1.6822,\n",
              "        -1.5316, -1.8503, -1.9239, -2.1913, -2.6200, -2.6891, -2.6408, -2.6501,\n",
              "        -2.7506, -3.0649, -3.4478, -3.4980, -4.0263, -4.1605, -4.3302, -4.1965,\n",
              "        -4.3513, -4.5640, -4.2001, -4.0767, -4.0118, -4.0224, -3.5900, -3.1960,\n",
              "        -3.5165, -3.0897, -2.7679, -2.0599, -2.3264, -2.2728, -2.3868, -2.4457,\n",
              "        -2.1072, -1.4317, -1.6422, -2.2177, -2.6457, -2.4337, -2.6734, -2.3276,\n",
              "        -2.6588, -2.9793, -2.9843, -3.2477, -3.3368, -3.2478, -3.2717, -3.5486,\n",
              "        -3.2559, -3.2838, -2.9769, -2.1630, -1.9310, -2.0309, -1.8851, -1.9015,\n",
              "        -2.0187, -2.1279, -1.9944, -2.0514, -2.0136, -2.0512, -2.0931, -2.4190,\n",
              "        -2.4278, -2.5599, -2.8164, -2.5468, -2.8613, -3.0447, -2.6980, -3.3626,\n",
              "        -3.2200, -3.2626, -3.3423, -3.4049, -3.5286, -3.6759, -3.5529, -3.3115,\n",
              "        -3.2037, -2.8429, -2.4783, -2.1741, -1.6415, -1.5179, -1.8472, -1.7043,\n",
              "        -1.6049, -1.4770, -1.4599, -1.4449, -1.6367, -1.6285, -1.6432, -1.6003,\n",
              "        -1.8026, -1.7167, -1.7861, -2.0337, -1.9578, -2.4670, -2.0855, -1.8689,\n",
              "        -1.5897, -1.2418, -0.9088, -0.3114,  0.2085, -0.2372, -0.1814, -0.1722,\n",
              "        -0.2372,  0.0678, -0.3317, -0.1988, -1.1196, -1.0384, -0.6253, -0.7208,\n",
              "        -0.4989, -0.4922, -0.9951, -0.9284, -1.0117, -0.8368, -0.5952, -0.3131,\n",
              "         0.0519, -0.4966, -0.7928, -0.8935, -1.0461, -0.8409, -1.1285, -1.7481,\n",
              "        -1.5604, -1.6710, -1.8672, -1.8347, -1.3745, -1.9537, -1.7314, -1.4200,\n",
              "        -1.3934, -1.5300, -1.7519, -1.6372, -1.5728, -1.7700, -1.8836, -2.3945,\n",
              "        -2.3191, -1.8398, -2.2704, -1.9938, -2.1676, -2.2368, -1.8591, -1.6974,\n",
              "        -1.3262, -1.4363, -1.6878, -1.6224, -1.5387, -1.0397, -1.1296, -0.8485,\n",
              "        -0.8601, -0.5636, -0.8249, -0.5664, -0.8242, -0.7860, -1.2785, -1.3583,\n",
              "        -1.2094, -0.8570, -0.6449, -0.2714, -0.3515, -0.6763, -0.8196, -0.9757,\n",
              "        -1.0231, -0.7319, -1.0296, -0.8677, -0.8283, -0.7603, -0.6460, -0.7171,\n",
              "        -0.8685, -0.5866, -0.4563, -0.5788, -0.7472, -1.2121, -1.2842, -1.3632,\n",
              "        -1.0133, -0.7221, -0.6481, -0.4974, -0.6079, -0.1602, -0.7346, -0.7321,\n",
              "        -0.5599, -0.4247, -0.5425, -0.2190, -0.3136, -0.0626,  0.1494,  1.0166,\n",
              "         0.8274,  0.9900,  1.5195,  0.8736,  0.9748,  1.1319,  1.2602,  1.0284,\n",
              "         1.1556,  1.0908,  1.2538,  1.1709,  1.6944,  1.6119,  1.3155,  1.4514,\n",
              "         1.5784,  2.0880,  2.0321,  2.2719,  2.4926,  2.6567,  2.2848,  2.2638,\n",
              "         2.1597,  2.3206,  2.3380,  2.4200,  2.4763,  2.3003,  2.1518,  2.6020,\n",
              "         2.6113,  2.4885,  2.4798,  2.2825,  2.2287,  1.6632,  1.1708,  1.2397,\n",
              "         1.5780,  2.0547,  2.0981,  2.0337,  2.1404,  1.7567,  1.4868,  1.7066,\n",
              "         1.9083,  2.0455,  2.0434,  1.7166,  1.8430,  1.5980,  1.7975,  1.6326,\n",
              "         2.2069,  2.4912,  3.0972,  3.1313,  3.4253,  3.8023,  3.5228,  3.1510,\n",
              "         3.6991,  3.8266,  3.6347,  3.9249,  3.7223,  3.3062,  3.1448,  2.6121,\n",
              "         2.3787,  2.6168,  2.6262,  2.7565,  3.0695,  3.2299,  3.4249,  3.4766,\n",
              "         3.4546,  3.3117,  3.2180,  3.5295,  3.3876,  3.3875,  3.3163,  3.8985,\n",
              "         3.6657,  3.5652,  3.2327,  3.1224,  3.3068,  3.0599,  3.1539,  3.2379,\n",
              "         3.3183,  3.3682,  3.2676,  3.4098,  3.8077,  3.6387,  3.7528,  3.8877,\n",
              "         4.2399,  4.2130,  3.7059,  3.3967,  3.4823,  3.6857,  4.3476,  4.2720,\n",
              "         4.5019,  4.7881,  4.7068,  4.7690,  5.2762,  4.9082,  4.7801],\n",
              "       requires_grad=True)"
            ]
          },
          "metadata": {
            "tags": []
          },
          "execution_count": 6
        }
      ]
    },
    {
      "cell_type": "markdown",
      "metadata": {
        "collapsed": false,
        "id": "JNPGiru1khZ-"
      },
      "source": [
        "# Define Forward Pass"
      ]
    },
    {
      "cell_type": "code",
      "metadata": {
        "id": "Fa9bVXiQkhZ-"
      },
      "source": [
        "def bij_transform(prime, lower, upper):\n",
        "    # Recieves a value in [-inf, inf] and returns value in [low, upper]\n",
        "    bij = 1 / (1 + torch.exp(-prime))\n",
        "    scale = upper - lower\n",
        "    return scale * bij + lower\n",
        "\n",
        "def bij_transform_inf(prime):\n",
        "    return torch.exp(prime)"
      ],
      "execution_count": 7,
      "outputs": []
    },
    {
      "cell_type": "code",
      "metadata": {
        "id": "ijPSXmXTkhZ_"
      },
      "source": [
        "def calc_prior_loss(tau, phi, R0, alpha, sigma):\n",
        "    # log likelihood wrt. our prior (\"regularisation\")\n",
        "    # ll stands for log-likelihood\n",
        "\n",
        "    ll = torch.tensor(0.0, device=device)\n",
        "\n",
        "    ll += (tau - (1 / 0.03)) ** 2 * 1e-1\n",
        "\n",
        "    ll += (phi - 25) ** 2 * 1e0\n",
        "\n",
        "    ll += (R0 - 3.6) ** 2 * 1e3\n",
        "\n",
        "    ll += (alpha - 0.01) ** 2 * 1e6\n",
        "\n",
        "    ll += (sigma - 0.1) ** 2 * 1e4\n",
        "\n",
        "\n",
        "    return ll"
      ],
      "execution_count": 8,
      "outputs": []
    },
    {
      "cell_type": "code",
      "metadata": {
        "id": "eNELPwlXkhZ_"
      },
      "source": [
        "def seed_init_infect(y):\n",
        "    # Initialize newly_infected, cumulative_infected, St\n",
        "    newly_infected = torch.zeros(num_observations, device=device, dtype=dtype)  # number of newly infected\n",
        "    cumulative_infected = torch.zeros(num_observations, device=device)  # cumulative number of infected\n",
        "\n",
        "    St = torch.zeros(num_observations, device=device)  # fraction of susceptible population\n",
        "    # seed initial infection / impute first num_impute days\n",
        "    newly_infected[0:num_impute] = y.clone()\n",
        "    cumulative_infected[0] = 0.\n",
        "    cumulative_infected[1:num_impute] = torch.cumsum(newly_infected[0:num_impute - 1].clone(), dim=0)\n",
        "    St[0:num_impute] = torch.tensor([torch.maximum(population.clone() - x, torch.tensor(0)) / population for x in\n",
        "                                     cumulative_infected[0:num_impute].clone()])\n",
        "    return newly_infected, cumulative_infected, St\n"
      ],
      "execution_count": 9,
      "outputs": []
    },
    {
      "cell_type": "code",
      "metadata": {
        "id": "ilsLygQKkhZ_"
      },
      "source": [
        "def calc_Rt(R0, epsilon_t, sigma, ll):\n",
        "    # Initialize eta_t\n",
        "    eta_t = torch.zeros(num_observations, device=device)  # transformed reproduction number\n",
        "    # calculate Rt: the basic reproduction number\n",
        "    # basic reproduction number as a latent random walk\n",
        "    beta_0 = torch.log(R0)\n",
        "    eta_t[0] = beta_0\n",
        "\n",
        "    for t in range(1, num_observations):\n",
        "        dist_epsilon_t = torch.distributions.Normal(epsilon_t[t - 1], sigma)\n",
        "        ll += dist_epsilon_t.log_prob(epsilon_t[t])\n",
        "\n",
        "    #loc = epsilon_t[:-1].clone()\n",
        "    #scale = sigma * torch.ones(num_observations-1)\n",
        "    #mvn = distributions.multivariate_normal.MultivariateNormal(loc, scale_tril=torch.diag(scale))\n",
        "    #ll += mvn.log_prob(epsilon_t[1:].clone())\n",
        "\n",
        "    eta_t[1:num_observations] = beta_0 + epsilon_t[0:num_observations - 1].clone()\n",
        "    Rt = torch.exp(eta_t)\n",
        "    ll = ll * (-1)\n",
        "    return Rt, ll\n"
      ],
      "execution_count": 10,
      "outputs": []
    },
    {
      "cell_type": "code",
      "metadata": {
        "id": "uS2IAUvUkhaA"
      },
      "source": [
        "def calc_infections(cumulative_infected, newly_infected, St, Rt):\n",
        "    # Initialize effectively_infectious\n",
        "    effectively_infectious = torch.zeros(num_observations, device=device)  # effective number of infectious individuals\n",
        "\n",
        "    # calculate infections\n",
        "    for t in range(num_impute, num_observations):\n",
        "        # Update cumulative newly_infected\n",
        "        cumulative_infected[t] = cumulative_infected[t - 1].clone() + newly_infected[t - 1].clone()\n",
        "        # Adjusts for portion of pop that are susceptible\n",
        "        St[t] = torch.maximum(population.clone() - cumulative_infected[t].clone(), cero) / population.clone()\n",
        "        # effective number of infectous individuals\n",
        "        ni_temp = newly_infected[:t].view(1, 1, -1).clone()\n",
        "        si_temp = torch.flip(serial_interval, (0,))[-t:].view(1, 1, -1)\n",
        "        effectively_infectious[t] = torch.nn.functional.conv1d(ni_temp, si_temp)\n",
        "\n",
        "        newly_infected[t] = St[t].clone() * Rt[t].clone() * effectively_infectious[t].clone()\n",
        "    return newly_infected\n"
      ],
      "execution_count": 11,
      "outputs": []
    },
    {
      "cell_type": "code",
      "metadata": {
        "id": "JvWUktjHkhaA"
      },
      "source": [
        "def calc_hospit(newly_infected, alpha):\n",
        "    # Initialize expected_daily_hospit\n",
        "    expected_daily_hospit = torch.zeros(num_observations, device=device)  # expected number of daily hospitalizations\n",
        "\n",
        "    # calculate expected number of hospitalizations\n",
        "    expected_daily_hospit[0] = (1e-15) * newly_infected[0].clone()\n",
        "    for t in range(1, num_observations):\n",
        "        ni_temp = newly_infected[:t].view(1, 1, -1)\n",
        "        pi_temp = torch.flip(pi, (0,))[-t - 1:-1].view(1, 1, -1)\n",
        "        expected_daily_hospit[t] = torch.nn.functional.conv1d(ni_temp, pi_temp)\n",
        "    expected_daily_hospit = alpha * expected_daily_hospit\n",
        "    return expected_daily_hospit\n"
      ],
      "execution_count": 12,
      "outputs": []
    },
    {
      "cell_type": "code",
      "metadata": {
        "id": "um0mBysekhaA"
      },
      "source": [
        "def compare_results(expected_daily_hospit, phi, ll):\n",
        "    # compare observed hospitalizations to model results\n",
        "    # likelihood of the data wrt. to the model\n",
        "\n",
        "    for i in range(0, num_observations):\n",
        "        p = 1 / (1 + expected_daily_hospit[i] / phi)\n",
        "        if p == 1:\n",
        "            p = p.clone() - torch.tensor(2.225e-5)\n",
        "        if p < 2.225e-5:\n",
        "            p = p.clone() + torch.tensor(2.225e-5)\n",
        "        dist = torch.distributions.negative_binomial.NegativeBinomial(phi, p - torch.tensor(2.225e-5))\n",
        "        ll += dist.log_prob(observed_daily_hospit[i])\n",
        "\n",
        "    return ll * (-1)\n"
      ],
      "execution_count": 13,
      "outputs": []
    },
    {
      "cell_type": "code",
      "metadata": {
        "id": "GN2_Z0cPkhaB"
      },
      "source": [
        "def forward_pass():\n",
        "    # Initialize y\n",
        "    tau = bij_transform(tau_prime, lower=0, upper=200)\n",
        "    y = torch.distributions.exponential.Exponential(1 / tau).rsample()\n",
        "    R0 = bij_transform(R0_prime, lower=2, upper=5)\n",
        "    phi = bij_transform(phi_prime, lower=1, upper=50)\n",
        "    #phi = bij_transform_inf(phi_prime)\n",
        "    alpha = bij_transform(alpha_prime, lower=0, upper=0.05)\n",
        "    sigma = bij_transform(sigma_prime, lower=0.0001, upper=0.5)\n",
        "\n",
        "\n",
        "    # Calculate prior loss\n",
        "    ll_prior = calc_prior_loss(tau, phi, R0, alpha, sigma)\n",
        "\n",
        "    # Seed initial infections\n",
        "    newly_infected, cumulative_infected, St = seed_init_infect(y)\n",
        "\n",
        "    # Calculate Rt & random walk loss\n",
        "    Rt, ll_rw = calc_Rt(R0, epsilon_t, sigma, torch.tensor(0.0, device=device)) ##ll\n",
        "\n",
        "    # Calculate infections\n",
        "    newly_infected = calc_infections(cumulative_infected, newly_infected, St, Rt)\n",
        "\n",
        "    # Calculate expected hospitalizations\n",
        "    expected_daily_hospit = calc_hospit(newly_infected, alpha)\n",
        "\n",
        "    # Compare observed hospitalizations to model results\n",
        "    ll_comp = compare_results(expected_daily_hospit, phi, torch.tensor(0.0, device=device)) ##ll\n",
        "\n",
        "    return expected_daily_hospit, Rt, ll_prior, ll_rw, ll_comp, tau, R0, phi, alpha, sigma\n"
      ],
      "execution_count": 14,
      "outputs": []
    },
    {
      "cell_type": "markdown",
      "metadata": {
        "collapsed": false,
        "id": "zbxD-Gh_khaB"
      },
      "source": [
        "# Optimization"
      ]
    },
    {
      "cell_type": "code",
      "metadata": {
        "colab": {
          "base_uri": "https://localhost:8080/",
          "height": 1000
        },
        "id": "v5sw6nZxkhaB",
        "outputId": "cf2e66b3-b845-433e-cb2c-cd40f0cd8f9b"
      },
      "source": [
        "# Visualization initialization\n",
        "alpha_vis = []\n",
        "sigma_vis = []\n",
        "R0_vis = []\n",
        "tau_vis = []\n",
        "phi_vis = []\n",
        "epsilon_mean_vis = []\n",
        "loss_vis = []\n",
        "prior_loss_vis = []\n",
        "rw_loss_vis = []\n",
        "comp_loss_vis = []\n",
        "learning_rate_vis = []\n",
        "\n",
        "learning_rate = 1e-4\n",
        "epochs = 100\n",
        "complete_time = time.time()\n",
        "\n",
        "\n",
        "for k in range(epochs):\n",
        "    start_time = time.time()\n",
        "    decay = (1 - (k / (epochs * 100))) ** 2\n",
        "    learning_rate = learning_rate * decay\n",
        "\n",
        "    # forward pass - calculate expected_daily_hospit\n",
        "    expected_daily_hospit, Rt, ll_prior, ll_rw, ll_comp, tau, R0, phi, alpha, sigma = forward_pass()\n",
        "\n",
        "    # backward pass\n",
        "    loss = ll_prior + ll_rw + ll_comp\n",
        "    loss.backward()\n",
        "\n",
        "    if k % 10 == 0:\n",
        "        print(\n",
        "            f'\\nPrior Loss:{ll_prior}  Random Walk Loss:{ll_rw} Comparison Loss:{ll_comp} \\n'\n",
        "            f'\\n\\nTime Step: {k} || Loss: {loss} || Learning Rate: {learning_rate}\\n\\nR0:{R0}  grad:{R0_prime.grad}\\nalpha:{alpha}  grad:{alpha_prime.grad}\\n'\n",
        "            f'phi:{phi}  grad:{phi_prime.grad}\\nsigma:{sigma}  grad:{sigma_prime.grad}'\n",
        "            f'\\nepsilon_t.mean:{epsilon_t.mean()}  grad.mean:{epsilon_t.grad.mean()}\\ntau:{tau}  grad:{tau_prime.grad}\\n')\n",
        "        print(\"This Run:  %s seconds\" % (time.time() - start_time))\n",
        "    \n",
        "\n",
        "    \n",
        "    with torch.no_grad():  # this part is SGD. can also replace with loss.step\n",
        "        tau_prime -= learning_rate * tau_prime.grad\n",
        "        phi_prime -= learning_rate * phi_prime.grad\n",
        "        R0_prime -= learning_rate * R0_prime.grad\n",
        "        alpha_prime -= learning_rate * alpha_prime.grad\n",
        "        sigma_prime -= learning_rate * sigma_prime.grad\n",
        "        epsilon_t -= learning_rate * epsilon_t.grad * 0.001\n",
        "\n",
        "        tau_prime.grad = None\n",
        "        phi_prime.grad = None\n",
        "        R0_prime.grad = None\n",
        "        alpha_prime.grad = None\n",
        "        sigma_prime.grad = None\n",
        "        epsilon_t.grad = None\n",
        "\n",
        "\n",
        "    # Visualization\n",
        "    alpha_vis.append(alpha)\n",
        "    sigma_vis.append(sigma)\n",
        "    R0_vis.append(R0)\n",
        "    tau_vis.append(tau)\n",
        "    phi_vis.append(phi)\n",
        "    epsilon_mean_vis.append(epsilon_t.abs().mean())\n",
        "    loss_vis.append(loss)\n",
        "    prior_loss_vis.append(ll_prior)\n",
        "    rw_loss_vis.append(ll_rw)\n",
        "    comp_loss_vis.append(ll_comp)\n",
        "    learning_rate_vis.append(learning_rate)\n",
        "\n",
        "    if k % 10 == 0:\n",
        "        plt.plot(expected_daily_hospit.cpu().detach().numpy(), label='expected_daily_hospit')\n",
        "        plt.plot(observed_daily_hospit.cpu().detach().numpy(), label='observed_daily_hospit')\n",
        "        plt.legend()\n",
        "        plt.show()\n",
        "\n",
        "    if k % 200 == 0:\n",
        "        fig, axs = plt.subplots(5)\n",
        "        fig.suptitle(f'Time step {k}')\n",
        "        axs[0].plot(alpha_vis)\n",
        "        axs[0].title.set_text('Alpha')\n",
        "        axs[1].plot(sigma_vis)\n",
        "        axs[1].title.set_text('Sigma')\n",
        "        axs[2].plot(R0_vis)\n",
        "        axs[2].title.set_text('R0')\n",
        "        axs[3].plot(tau_vis)\n",
        "        axs[3].title.set_text('Tau')\n",
        "        axs[4].plot(loss_vis)\n",
        "        axs[4].title.set_text('Loss')\n",
        "        fig.tight_layout()\n",
        "        plt.show()\n",
        "\n",
        "\n",
        "print(\"Complete Run:  %s seconds\" % (time.time() - complete_time))"
      ],
      "execution_count": 15,
      "outputs": [
        {
          "output_type": "stream",
          "text": [
            "\n",
            "Prior Loss:2.0915321953298502e+23  Random Walk Loss:64.9903793334961 Comparison Loss:1993766902693888.0 \n",
            "\n",
            "\n",
            "Time Step: 0 || Loss: 2.0915321953298502e+24 || Learning Rate: 0.0001\n",
            "\n",
            "R0:4.721550867919079  grad:402698430.62367284\n",
            "alpha:0.02512499717849155  grad:-3245711224.8047276\n",
            "phi:457332718034.5183  grad:4.183064301461911e+24\n",
            "sigma:0.2863002827801241  grad:4561.458251333244\n",
            "epsilon_t.mean:-0.37735244631767273  grad.mean:18493666.0\n",
            "tau:199.9999999939194  grad:0.0010813909846828127\n",
            "\n",
            "This Run:  0.5611951351165771 seconds\n"
          ],
          "name": "stdout"
        },
        {
          "output_type": "display_data",
          "data": {
            "image/png": "[encoded data removed]",
            "text/plain": [
              "<Figure size 432x288 with 1 Axes>"
            ]
          },
          "metadata": {
            "tags": [],
            "needs_background": "light"
          }
        },
        {
          "output_type": "display_data",
          "data": {
            "image/png": "[encoded data removed]",
            "text/plain": [
              "<Figure size 432x288 with 5 Axes>"
            ]
          },
          "metadata": {
            "tags": [],
            "needs_background": "light"
          }
        },
        {
          "output_type": "error",
          "ename": "ValueError",
          "evalue": "ignored",
          "traceback": [
            "\u001b[0;31m---------------------------------------------------------------------------\u001b[0m",
            "\u001b[0;31mValueError\u001b[0m                                Traceback (most recent call last)",
            "\u001b[0;32m<ipython-input-15-fa995d47a01b>\u001b[0m in \u001b[0;36m<module>\u001b[0;34m()\u001b[0m\n\u001b[1;32m     23\u001b[0m \u001b[0;34m\u001b[0m\u001b[0m\n\u001b[1;32m     24\u001b[0m     \u001b[0;31m# forward pass - calculate expected_daily_hospit\u001b[0m\u001b[0;34m\u001b[0m\u001b[0;34m\u001b[0m\u001b[0;34m\u001b[0m\u001b[0m\n\u001b[0;32m---> 25\u001b[0;31m     \u001b[0mexpected_daily_hospit\u001b[0m\u001b[0;34m,\u001b[0m \u001b[0mRt\u001b[0m\u001b[0;34m,\u001b[0m \u001b[0mll_prior\u001b[0m\u001b[0;34m,\u001b[0m \u001b[0mll_rw\u001b[0m\u001b[0;34m,\u001b[0m \u001b[0mll_comp\u001b[0m\u001b[0;34m,\u001b[0m \u001b[0mtau\u001b[0m\u001b[0;34m,\u001b[0m \u001b[0mR0\u001b[0m\u001b[0;34m,\u001b[0m \u001b[0mphi\u001b[0m\u001b[0;34m,\u001b[0m \u001b[0malpha\u001b[0m\u001b[0;34m,\u001b[0m \u001b[0msigma\u001b[0m \u001b[0;34m=\u001b[0m \u001b[0mforward_pass\u001b[0m\u001b[0;34m(\u001b[0m\u001b[0;34m)\u001b[0m\u001b[0;34m\u001b[0m\u001b[0;34m\u001b[0m\u001b[0m\n\u001b[0m\u001b[1;32m     26\u001b[0m \u001b[0;34m\u001b[0m\u001b[0m\n\u001b[1;32m     27\u001b[0m     \u001b[0;31m# backward pass\u001b[0m\u001b[0;34m\u001b[0m\u001b[0;34m\u001b[0m\u001b[0;34m\u001b[0m\u001b[0m\n",
            "\u001b[0;32m<ipython-input-14-56b78b0c2e2a>\u001b[0m in \u001b[0;36mforward_pass\u001b[0;34m()\u001b[0m\n\u001b[1;32m      2\u001b[0m     \u001b[0;31m# Initialize y\u001b[0m\u001b[0;34m\u001b[0m\u001b[0;34m\u001b[0m\u001b[0;34m\u001b[0m\u001b[0m\n\u001b[1;32m      3\u001b[0m     \u001b[0mtau\u001b[0m \u001b[0;34m=\u001b[0m \u001b[0mbij_transform\u001b[0m\u001b[0;34m(\u001b[0m\u001b[0mtau_prime\u001b[0m\u001b[0;34m,\u001b[0m \u001b[0mlower\u001b[0m\u001b[0;34m=\u001b[0m\u001b[0;36m0\u001b[0m\u001b[0;34m,\u001b[0m \u001b[0mupper\u001b[0m\u001b[0;34m=\u001b[0m\u001b[0;36m200\u001b[0m\u001b[0;34m)\u001b[0m\u001b[0;34m\u001b[0m\u001b[0;34m\u001b[0m\u001b[0m\n\u001b[0;32m----> 4\u001b[0;31m     \u001b[0my\u001b[0m \u001b[0;34m=\u001b[0m \u001b[0mtorch\u001b[0m\u001b[0;34m.\u001b[0m\u001b[0mdistributions\u001b[0m\u001b[0;34m.\u001b[0m\u001b[0mexponential\u001b[0m\u001b[0;34m.\u001b[0m\u001b[0mExponential\u001b[0m\u001b[0;34m(\u001b[0m\u001b[0;36m1\u001b[0m \u001b[0;34m/\u001b[0m \u001b[0mtau\u001b[0m\u001b[0;34m)\u001b[0m\u001b[0;34m.\u001b[0m\u001b[0mrsample\u001b[0m\u001b[0;34m(\u001b[0m\u001b[0;34m)\u001b[0m\u001b[0;34m\u001b[0m\u001b[0;34m\u001b[0m\u001b[0m\n\u001b[0m\u001b[1;32m      5\u001b[0m     \u001b[0mR0\u001b[0m \u001b[0;34m=\u001b[0m \u001b[0mbij_transform\u001b[0m\u001b[0;34m(\u001b[0m\u001b[0mR0_prime\u001b[0m\u001b[0;34m,\u001b[0m \u001b[0mlower\u001b[0m\u001b[0;34m=\u001b[0m\u001b[0;36m2\u001b[0m\u001b[0;34m,\u001b[0m \u001b[0mupper\u001b[0m\u001b[0;34m=\u001b[0m\u001b[0;36m5\u001b[0m\u001b[0;34m)\u001b[0m\u001b[0;34m\u001b[0m\u001b[0;34m\u001b[0m\u001b[0m\n\u001b[1;32m      6\u001b[0m     \u001b[0;31m#phi = bij_transform(phi_prime, lower=1, upper=50)\u001b[0m\u001b[0;34m\u001b[0m\u001b[0;34m\u001b[0m\u001b[0;34m\u001b[0m\u001b[0m\n",
            "\u001b[0;32m/usr/local/lib/python3.7/dist-packages/torch/distributions/exponential.py\u001b[0m in \u001b[0;36m__init__\u001b[0;34m(self, rate, validate_args)\u001b[0m\n\u001b[1;32m     40\u001b[0m         \u001b[0mself\u001b[0m\u001b[0;34m.\u001b[0m\u001b[0mrate\u001b[0m\u001b[0;34m,\u001b[0m \u001b[0;34m=\u001b[0m \u001b[0mbroadcast_all\u001b[0m\u001b[0;34m(\u001b[0m\u001b[0mrate\u001b[0m\u001b[0;34m)\u001b[0m\u001b[0;34m\u001b[0m\u001b[0;34m\u001b[0m\u001b[0m\n\u001b[1;32m     41\u001b[0m         \u001b[0mbatch_shape\u001b[0m \u001b[0;34m=\u001b[0m \u001b[0mtorch\u001b[0m\u001b[0;34m.\u001b[0m\u001b[0mSize\u001b[0m\u001b[0;34m(\u001b[0m\u001b[0;34m)\u001b[0m \u001b[0;32mif\u001b[0m \u001b[0misinstance\u001b[0m\u001b[0;34m(\u001b[0m\u001b[0mrate\u001b[0m\u001b[0;34m,\u001b[0m \u001b[0mNumber\u001b[0m\u001b[0;34m)\u001b[0m \u001b[0;32melse\u001b[0m \u001b[0mself\u001b[0m\u001b[0;34m.\u001b[0m\u001b[0mrate\u001b[0m\u001b[0;34m.\u001b[0m\u001b[0msize\u001b[0m\u001b[0;34m(\u001b[0m\u001b[0;34m)\u001b[0m\u001b[0;34m\u001b[0m\u001b[0;34m\u001b[0m\u001b[0m\n\u001b[0;32m---> 42\u001b[0;31m         \u001b[0msuper\u001b[0m\u001b[0;34m(\u001b[0m\u001b[0mExponential\u001b[0m\u001b[0;34m,\u001b[0m \u001b[0mself\u001b[0m\u001b[0;34m)\u001b[0m\u001b[0;34m.\u001b[0m\u001b[0m__init__\u001b[0m\u001b[0;34m(\u001b[0m\u001b[0mbatch_shape\u001b[0m\u001b[0;34m,\u001b[0m \u001b[0mvalidate_args\u001b[0m\u001b[0;34m=\u001b[0m\u001b[0mvalidate_args\u001b[0m\u001b[0;34m)\u001b[0m\u001b[0;34m\u001b[0m\u001b[0;34m\u001b[0m\u001b[0m\n\u001b[0m\u001b[1;32m     43\u001b[0m \u001b[0;34m\u001b[0m\u001b[0m\n\u001b[1;32m     44\u001b[0m     \u001b[0;32mdef\u001b[0m \u001b[0mexpand\u001b[0m\u001b[0;34m(\u001b[0m\u001b[0mself\u001b[0m\u001b[0;34m,\u001b[0m \u001b[0mbatch_shape\u001b[0m\u001b[0;34m,\u001b[0m \u001b[0m_instance\u001b[0m\u001b[0;34m=\u001b[0m\u001b[0;32mNone\u001b[0m\u001b[0;34m)\u001b[0m\u001b[0;34m:\u001b[0m\u001b[0;34m\u001b[0m\u001b[0;34m\u001b[0m\u001b[0m\n",
            "\u001b[0;32m/usr/local/lib/python3.7/dist-packages/torch/distributions/distribution.py\u001b[0m in \u001b[0;36m__init__\u001b[0;34m(self, batch_shape, event_shape, validate_args)\u001b[0m\n\u001b[1;32m     51\u001b[0m                     \u001b[0;32mcontinue\u001b[0m  \u001b[0;31m# skip checking lazily-constructed args\u001b[0m\u001b[0;34m\u001b[0m\u001b[0;34m\u001b[0m\u001b[0m\n\u001b[1;32m     52\u001b[0m                 \u001b[0;32mif\u001b[0m \u001b[0;32mnot\u001b[0m \u001b[0mconstraint\u001b[0m\u001b[0;34m.\u001b[0m\u001b[0mcheck\u001b[0m\u001b[0;34m(\u001b[0m\u001b[0mgetattr\u001b[0m\u001b[0;34m(\u001b[0m\u001b[0mself\u001b[0m\u001b[0;34m,\u001b[0m \u001b[0mparam\u001b[0m\u001b[0;34m)\u001b[0m\u001b[0;34m)\u001b[0m\u001b[0;34m.\u001b[0m\u001b[0mall\u001b[0m\u001b[0;34m(\u001b[0m\u001b[0;34m)\u001b[0m\u001b[0;34m:\u001b[0m\u001b[0;34m\u001b[0m\u001b[0;34m\u001b[0m\u001b[0m\n\u001b[0;32m---> 53\u001b[0;31m                     \u001b[0;32mraise\u001b[0m \u001b[0mValueError\u001b[0m\u001b[0;34m(\u001b[0m\u001b[0;34m\"The parameter {} has invalid values\"\u001b[0m\u001b[0;34m.\u001b[0m\u001b[0mformat\u001b[0m\u001b[0;34m(\u001b[0m\u001b[0mparam\u001b[0m\u001b[0;34m)\u001b[0m\u001b[0;34m)\u001b[0m\u001b[0;34m\u001b[0m\u001b[0;34m\u001b[0m\u001b[0m\n\u001b[0m\u001b[1;32m     54\u001b[0m         \u001b[0msuper\u001b[0m\u001b[0;34m(\u001b[0m\u001b[0mDistribution\u001b[0m\u001b[0;34m,\u001b[0m \u001b[0mself\u001b[0m\u001b[0;34m)\u001b[0m\u001b[0;34m.\u001b[0m\u001b[0m__init__\u001b[0m\u001b[0;34m(\u001b[0m\u001b[0;34m)\u001b[0m\u001b[0;34m\u001b[0m\u001b[0;34m\u001b[0m\u001b[0m\n\u001b[1;32m     55\u001b[0m \u001b[0;34m\u001b[0m\u001b[0m\n",
            "\u001b[0;31mValueError\u001b[0m: The parameter rate has invalid values"
          ]
        }
      ]
    },
    {
      "cell_type": "markdown",
      "metadata": {
        "id": "hS1A0x0DFqgH"
      },
      "source": [
        "# Evaluate Model"
      ]
    },
    {
      "cell_type": "code",
      "metadata": {
        "id": "ZhlLxu6r3oNL"
      },
      "source": [
        "plt.plot(expected_daily_hospit.cpu().detach().numpy(), label='expected_daily_hospit')\n",
        "plt.plot(observed_daily_hospit.cpu().detach().numpy(), label='observed_daily_hospit')\n",
        "plt.legend()\n",
        "plt.show()"
      ],
      "execution_count": null,
      "outputs": []
    },
    {
      "cell_type": "code",
      "metadata": {
        "id": "UhYo_Q5itPVA"
      },
      "source": [
        "fig, axs = plt.subplots(6)\n",
        "fig.suptitle(f'Evaluate Values')\n",
        "fig.set_figheight(10)\n",
        "axs[0].plot(alpha_vis)\n",
        "axs[0].title.set_text('Alpha')\n",
        "axs[1].plot(sigma_vis)\n",
        "axs[1].title.set_text('Sigma')\n",
        "axs[2].plot(R0_vis)\n",
        "axs[2].title.set_text('R0')\n",
        "axs[3].plot(tau_vis)\n",
        "axs[3].title.set_text('Tau')\n",
        "axs[4].plot(phi_vis)\n",
        "axs[4].title.set_text('Phi')\n",
        "axs[5].plot(epsilon_mean_vis)\n",
        "axs[5].title.set_text('Epsilon_Abs_Mean')\n",
        "plt.show()"
      ],
      "execution_count": null,
      "outputs": []
    },
    {
      "cell_type": "code",
      "metadata": {
        "id": "LvNEL-gGzFdY"
      },
      "source": [
        "fig, axs = plt.subplots(5)\n",
        "fig.suptitle(f'Loss Evaluation')\n",
        "fig.set_figheight(10)\n",
        "axs[0].plot(loss_vis)\n",
        "axs[0].title.set_text('Total Loss')\n",
        "axs[1].plot(prior_loss_vis)\n",
        "axs[1].title.set_text('Prior Loss')\n",
        "axs[2].plot(rw_loss_vis)\n",
        "axs[2].title.set_text('Random Walk Loss')\n",
        "axs[3].plot(comp_loss_vis)\n",
        "axs[3].title.set_text('Comparison Loss')\n",
        "axs[4].plot(learning_rate_vis)\n",
        "axs[4].title.set_text('Learning Rate')\n",
        "plt.show()"
      ],
      "execution_count": null,
      "outputs": []
    },
    {
      "cell_type": "code",
      "metadata": {
        "colab": {
          "base_uri": "https://localhost:8080/"
        },
        "id": "0MgHeOT4dg8x",
        "outputId": "8592b68f-0fc3-4a1c-e142-a5b71f383728"
      },
      "source": [
        "phi_prime = torch.tensor(25)\n",
        "phi = bij_transform(phi_prime, lower=1, upper=50)\n",
        "exp_daily = torch.tensor(5)\n",
        "obs_daily = torch.tensor(5)\n",
        "p = 1 / (1 + exp_daily / phi)\n",
        "dist = torch.distributions.negative_binomial.NegativeBinomial(phi, p)\n",
        "ll = dist.log_prob(obs_daily)\n",
        "print(f'phi: {phi}, p: {p}, ll: {ll}')"
      ],
      "execution_count": 26,
      "outputs": [
        {
          "output_type": "stream",
          "text": [
            "phi: 50.0, p: 0.9090908765792847, ll: -105.4044189453125\n"
          ],
          "name": "stdout"
        }
      ]
    },
    {
      "cell_type": "code",
      "metadata": {
        "id": "3yjFNxG-EJkt"
      },
      "source": [
        ""
      ],
      "execution_count": null,
      "outputs": []
    },
    {
      "cell_type": "code",
      "metadata": {
        "id": "mWhS10-MEJnK"
      },
      "source": [
        ""
      ],
      "execution_count": null,
      "outputs": []
    },
    {
      "cell_type": "code",
      "metadata": {
        "id": "QcLpMOu_EJqB"
      },
      "source": [
        ""
      ],
      "execution_count": null,
      "outputs": []
    }
  ]
}