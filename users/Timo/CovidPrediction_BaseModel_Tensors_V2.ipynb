{
  "nbformat": 4,
  "nbformat_minor": 0,
  "metadata": {
    "colab": {
      "name": "CovidPrediction_BaseModel_Tensors_V2.ipynb",
      "provenance": [],
      "collapsed_sections": []
    },
    "kernelspec": {
      "name": "python3",
      "display_name": "Python 3"
    },
    "language_info": {
      "name": "python"
    }
  },
  "cells": [
    {
      "cell_type": "markdown",
      "metadata": {
        "id": "WaSNKP69zABm"
      },
      "source": [
        "To Dos:\n",
        "- Add sigma, phi and tau to optimization\n",
        "  - How to draw from negative binomial with negative phi?\n",
        "  - Tau as value to initialize y\n",
        "  - why does sigma have a gradient of 0?\n",
        "- Change loss function to negative log likelihood\n",
        "- Toy Data\n",
        "- Add prior knowledge to loss function\n",
        "- Optimize for loops\n",
        "- Check .clone() - Where do we need it and where is it redundant?\n",
        "\n",
        "\n",
        "\n",
        "Haomann: Neg. Log Likelihood & Phi Variable\n",
        "Anuar: Toy Data & Tau Variable\n",
        "Timo: Sigma Variable"
      ]
    },
    {
      "cell_type": "code",
      "metadata": {
        "id": "VTtBtBGxMjwG"
      },
      "source": [
        "import scipy.stats\n",
        "import numpy as np\n",
        "import matplotlib.pyplot as plt\n",
        "from scipy.stats import truncexpon, truncnorm, nbinom\n",
        "import pandas as pd\n",
        "import torch\n",
        "from torch import nn"
      ],
      "execution_count": 1,
      "outputs": []
    },
    {
      "cell_type": "code",
      "metadata": {
        "id": "FmatRpHb3P2v"
      },
      "source": [
        "np.random.seed(seed=101)\n",
        "torch.manual_seed(101)\n",
        "torch.use_deterministic_algorithms(True)\n",
        "dtype = torch.float\n",
        "device = torch.device(\"cpu\")"
      ],
      "execution_count": 2,
      "outputs": []
    },
    {
      "cell_type": "code",
      "metadata": {
        "colab": {
          "base_uri": "https://localhost:8080/"
        },
        "id": "3g8-GkS6NU7Y",
        "outputId": "35c855c7-81d5-42cd-9ad4-a67c58b24df4"
      },
      "source": [
        "from google.colab import drive\n",
        "drive.mount('/content/drive')"
      ],
      "execution_count": 3,
      "outputs": [
        {
          "output_type": "stream",
          "text": [
            "Drive already mounted at /content/drive; to attempt to forcibly remount, call drive.mount(\"/content/drive\", force_remount=True).\n"
          ],
          "name": "stdout"
        }
      ]
    },
    {
      "cell_type": "code",
      "metadata": {
        "colab": {
          "base_uri": "https://localhost:8080/"
        },
        "id": "kO1UX4ZMNVXp",
        "outputId": "7a151cee-5c5d-483f-9b45-cc0e12300c6e"
      },
      "source": [
        "cd /content/drive/MyDrive/CovidPrediction/"
      ],
      "execution_count": 4,
      "outputs": [
        {
          "output_type": "stream",
          "text": [
            "/content/drive/MyDrive/CovidPrediction\n"
          ],
          "name": "stdout"
        }
      ]
    },
    {
      "cell_type": "markdown",
      "metadata": {
        "id": "qfpgo2cWNLx5"
      },
      "source": [
        "# Initialization"
      ]
    },
    {
      "cell_type": "code",
      "metadata": {
        "colab": {
          "base_uri": "https://localhost:8080/",
          "height": 142
        },
        "id": "66Bh9ONJNJMR",
        "outputId": "ee29d1f2-7860-4148-f4ce-022d7bc8a1a8"
      },
      "source": [
        "data = pd.read_csv('data/covid19model.csv')\n",
        "data.head(3)"
      ],
      "execution_count": 5,
      "outputs": [
        {
          "output_type": "execute_result",
          "data": {
            "text/html": [
              "<div>\n",
              "<style scoped>\n",
              "    .dataframe tbody tr th:only-of-type {\n",
              "        vertical-align: middle;\n",
              "    }\n",
              "\n",
              "    .dataframe tbody tr th {\n",
              "        vertical-align: top;\n",
              "    }\n",
              "\n",
              "    .dataframe thead th {\n",
              "        text-align: right;\n",
              "    }\n",
              "</style>\n",
              "<table border=\"1\" class=\"dataframe\">\n",
              "  <thead>\n",
              "    <tr style=\"text-align: right;\">\n",
              "      <th></th>\n",
              "      <th>date</th>\n",
              "      <th>hospit</th>\n",
              "      <th>serial_interval</th>\n",
              "      <th>delay_distr</th>\n",
              "    </tr>\n",
              "  </thead>\n",
              "  <tbody>\n",
              "    <tr>\n",
              "      <th>0</th>\n",
              "      <td>2020-02-17</td>\n",
              "      <td>0</td>\n",
              "      <td>0.046535</td>\n",
              "      <td>0.013006</td>\n",
              "    </tr>\n",
              "    <tr>\n",
              "      <th>1</th>\n",
              "      <td>2020-02-18</td>\n",
              "      <td>0</td>\n",
              "      <td>0.087065</td>\n",
              "      <td>0.030046</td>\n",
              "    </tr>\n",
              "    <tr>\n",
              "      <th>2</th>\n",
              "      <td>2020-02-19</td>\n",
              "      <td>0</td>\n",
              "      <td>0.112061</td>\n",
              "      <td>0.044674</td>\n",
              "    </tr>\n",
              "  </tbody>\n",
              "</table>\n",
              "</div>"
            ],
            "text/plain": [
              "         date  hospit  serial_interval  delay_distr\n",
              "0  2020-02-17       0         0.046535     0.013006\n",
              "1  2020-02-18       0         0.087065     0.030046\n",
              "2  2020-02-19       0         0.112061     0.044674"
            ]
          },
          "metadata": {
            "tags": []
          },
          "execution_count": 5
        }
      ]
    },
    {
      "cell_type": "code",
      "metadata": {
        "id": "6BWeg3zYNfD7"
      },
      "source": [
        "cero = torch.tensor(0, requires_grad=False, device=device, dtype=dtype)\n",
        "num_impute = 6\n",
        "observed_daily_hospit = torch.tensor(data.hospit, requires_grad=False, device=device, dtype=dtype)\n",
        "pi = torch.tensor(data.delay_distr, requires_grad=False, device=device, dtype=dtype)\n",
        "serial_interval = torch.tensor(data.serial_interval, requires_grad=False, device=device, dtype=dtype)\n",
        "population = torch.tensor(5793636, requires_grad=False, device=device, dtype=dtype)\n",
        "num_observations = len(observed_daily_hospit)"
      ],
      "execution_count": 6,
      "outputs": []
    },
    {
      "cell_type": "markdown",
      "metadata": {
        "id": "KnZypONcN4DZ"
      },
      "source": [
        "Initialize latent variables / parameters"
      ]
    },
    {
      "cell_type": "code",
      "metadata": {
        "id": "BVk4vgPnN3Aw"
      },
      "source": [
        "tau = np.random.exponential(1 / 0.03)\n",
        "#tau_t = torch.tensor(tau, requires_grad=True, device=device, dtype=dtype)\n",
        "# b=(upper-lower)/scale, loc=lower, scale=scale\n",
        "y = torch.tensor(truncexpon.rvs(b=(1000 - 0) / tau, loc=0, scale=tau), requires_grad=False, device=device, dtype=dtype)  # number of initial newly_infected (seed)\n",
        "\n",
        "# For trunc ((lower - mu) / sigma, (upper - mu) / sigma, loc=mu, scale=sigma)\n",
        "#phi = torch.tensor(truncnorm.rvs((0 - 0) / 5, (np.inf - 0) / 5, loc=0, scale=5), requires_grad=True, device=device, dtype=dtype)  # dispersion (shape) parameter for observations\n",
        "R0 = torch.tensor(truncnorm.rvs((2 - 3.6) / 0.8, (5 - 3.6) / 0.8, loc=3.6, scale=0.8), requires_grad=True, device=device, dtype=dtype)  # initial reproduction number\n",
        "alpha = torch.tensor(truncnorm.rvs((0 - 1/100) / 1/100, (5/100 - 1/100) / 1/100, loc=1/100, scale=1/100), requires_grad=True, device=device, dtype=dtype)  # probability to get hospitalized\n",
        "sigma = torch.tensor(truncnorm.rvs((0 - 0.05) / 0.03, (0.15 - 0.05) / 0.03, loc=0.05, scale=0.03), requires_grad=True, device=device, dtype=dtype)  # standart deviation of random walk step"
      ],
      "execution_count": 7,
      "outputs": []
    },
    {
      "cell_type": "markdown",
      "metadata": {
        "id": "N0KpiwzBRx-P"
      },
      "source": [
        "Initialize time series variables"
      ]
    },
    {
      "cell_type": "code",
      "metadata": {
        "id": "JODvUHyiQFUP",
        "colab": {
          "base_uri": "https://localhost:8080/",
          "height": 86
        },
        "outputId": "97dcc463-1d01-4b94-9a62-bccfaa42e2f0"
      },
      "source": [
        "\"\"\"newly_infected = torch.zeros(num_observations)  # number of newly infected\n",
        "effectively_infectious = torch.zeros(num_observations)  # effective number of infectious individuals\n",
        "expected_daily_hospit = torch.zeros(num_observations)  # expected number of daily hospitalizations\n",
        "cumulative_infected = torch.zeros(num_observations)  # cumulative number of infected\n",
        "eta_t = torch.zeros(num_observations)  # transformed reproduction number\n",
        "epsilon_t = torch.zeros(num_observations)  # random walk\n",
        "St = torch.zeros(num_observations)  # fraction of susceptible population\"\"\""
      ],
      "execution_count": 8,
      "outputs": [
        {
          "output_type": "execute_result",
          "data": {
            "application/vnd.google.colaboratory.intrinsic+json": {
              "type": "string"
            },
            "text/plain": [
              "'newly_infected = torch.zeros(num_observations)  # number of newly infected\\neffectively_infectious = torch.zeros(num_observations)  # effective number of infectious individuals\\nexpected_daily_hospit = torch.zeros(num_observations)  # expected number of daily hospitalizations\\ncumulative_infected = torch.zeros(num_observations)  # cumulative number of infected\\neta_t = torch.zeros(num_observations)  # transformed reproduction number\\nepsilon_t = torch.zeros(num_observations)  # random walk\\nSt = torch.zeros(num_observations)  # fraction of susceptible population'"
            ]
          },
          "metadata": {
            "tags": []
          },
          "execution_count": 8
        }
      ]
    },
    {
      "cell_type": "markdown",
      "metadata": {
        "id": "gLh06kylR54w"
      },
      "source": [
        "seed initial infection / impute first `num_impute` days"
      ]
    },
    {
      "cell_type": "code",
      "metadata": {
        "id": "yWWzpDGiR6Ee",
        "colab": {
          "base_uri": "https://localhost:8080/",
          "height": 69
        },
        "outputId": "72089ec0-9731-4131-e549-ec28491b303e"
      },
      "source": [
        "\"\"\"newly_infected[0:num_impute] = y.clone()\n",
        "cumulative_infected[0] = 0.\n",
        "cumulative_infected[1:num_impute] = torch.cumsum(newly_infected[0:num_impute - 1].clone(), dim=0)\n",
        "St[0:num_impute] = torch.tensor([torch.maximum(population.clone() - x, torch.tensor(0)) / population for x in cumulative_infected[0:num_impute].clone()])\"\"\""
      ],
      "execution_count": 9,
      "outputs": [
        {
          "output_type": "execute_result",
          "data": {
            "application/vnd.google.colaboratory.intrinsic+json": {
              "type": "string"
            },
            "text/plain": [
              "'newly_infected[0:num_impute] = y.clone()\\ncumulative_infected[0] = 0.\\ncumulative_infected[1:num_impute] = torch.cumsum(newly_infected[0:num_impute - 1].clone(), dim=0)\\nSt[0:num_impute] = torch.tensor([torch.maximum(population.clone() - x, torch.tensor(0)) / population for x in cumulative_infected[0:num_impute].clone()])'"
            ]
          },
          "metadata": {
            "tags": []
          },
          "execution_count": 9
        }
      ]
    },
    {
      "cell_type": "markdown",
      "metadata": {
        "id": "kFyBW5v9Iu11"
      },
      "source": [
        "# Define Forward Pass"
      ]
    },
    {
      "cell_type": "code",
      "metadata": {
        "id": "v8i41EQqtlfI"
      },
      "source": [
        "def forward_pass():\n",
        "  # Initialize time series variables\n",
        "  newly_infected = torch.zeros(num_observations)  # number of newly infected\n",
        "  effectively_infectious = torch.zeros(num_observations)  # effective number of infectious individuals\n",
        "  expected_daily_hospit = torch.zeros(num_observations)  # expected number of daily hospitalizations\n",
        "  cumulative_infected = torch.zeros(num_observations)  # cumulative number of infected\n",
        "  eta_t = torch.zeros(num_observations)  # transformed reproduction number\n",
        "  epsilon_t = torch.zeros(num_observations)  # random walk\n",
        "  St = torch.zeros(num_observations)  # fraction of susceptible population\n",
        "\n",
        "  # seed initial infection / impute first num_impute days\n",
        "  newly_infected[0:num_impute] = y.clone()\n",
        "  cumulative_infected[0] = 0.\n",
        "  cumulative_infected[1:num_impute] = torch.cumsum(newly_infected[0:num_impute - 1].clone(), dim=0)\n",
        "  St[0:num_impute] = torch.tensor([torch.maximum(population.clone() - x, torch.tensor(0)) / population for x in cumulative_infected[0:num_impute].clone()])\n",
        "\n",
        "  # calculate Rt: the basic reproduction number\n",
        "  beta_0 = torch.log(R0)\n",
        "  epsilon_t[0] = torch.normal(cero, sigma)\n",
        "  for t in range(1, num_observations):\n",
        "      epsilon_t[t] = torch.normal(epsilon_t[t - 1].clone(), sigma)\n",
        "  eta_t = beta_0 + epsilon_t  # + RNN[X_t, t]  # .clone() necessary?\n",
        "  Rt = torch.exp(eta_t)\n",
        "\n",
        "  # calculate infections\n",
        "  for t in range(num_impute, num_observations):\n",
        "      # Update cumulative newly_infected\n",
        "      cumulative_infected[t] = cumulative_infected[t - 1].clone() + newly_infected[t - 1].clone()\n",
        "      # Adjusts for portion of pop that are susceptible\n",
        "      St[t] = torch.maximum(population.clone() - cumulative_infected[t].clone(), cero) / population.clone()\n",
        "      # effective number of infectous individuals\n",
        "      for i in range(0, t - 1):\n",
        "          effectively_infectious[t] += newly_infected[i].clone() * serial_interval[t - i].clone()\n",
        "\n",
        "      # number of new infections (unobserved)\n",
        "  newly_infected[num_impute:num_observations] = St[num_impute:num_observations].clone() * Rt[num_impute:num_observations].clone() * effectively_infectious[num_impute:num_observations].clone() # .clone() necessary?\n",
        "\n",
        "  # calculate expected number of hospitalizations\n",
        "  expected_daily_hospit[0] = (1e-15) * newly_infected[0].clone()\n",
        "  for t in range(1, num_observations):\n",
        "      for i in range(0, t - 1):\n",
        "          expected_daily_hospit[t] += newly_infected[i].clone() * pi[t - i].clone()\n",
        "  expected_daily_hospit = alpha * expected_daily_hospit # .clone() necessary?\n",
        "\n",
        "  return expected_daily_hospit"
      ],
      "execution_count": 16,
      "outputs": []
    },
    {
      "cell_type": "markdown",
      "metadata": {
        "id": "ot3EWx3k4YMm"
      },
      "source": [
        "# Optimization"
      ]
    },
    {
      "cell_type": "code",
      "metadata": {
        "id": "HmyO5HQzoiNA",
        "colab": {
          "base_uri": "https://localhost:8080/",
          "height": 605
        },
        "outputId": "24070842-db2e-42ea-c601-076fcc5798f9"
      },
      "source": [
        "learning_rate = 1e-6\n",
        "\n",
        "for t in range (10):\n",
        "  # forward pass - calculate expected_daily_hospit\n",
        "  expected_daily_hospit = forward_pass()\n",
        "\n",
        "  loss = (observed_daily_hospit - expected_daily_hospit).pow(2).sum()\n",
        "    # for i in 1:num_obs\n",
        "    #   ℓ += logpdf( NegativeBinomial2(expected_daily_hospit[i], ϕ), observed_hospit[i])\n",
        "  loss += truncnorm.logpdf(x=R0.detach().numpy() ,a=2, b=5, loc=0, scale=0.8)\n",
        "  loss += truncnorm.logpdf(x=alpha.detach().numpy() ,a=0, b=5/100, loc=0, scale=1/100)\n",
        "  loss.backward()\n",
        "\n",
        "  print(f'Time Step: {t}, Loss: {loss}, Observed_daily_hospit: {torch.sum(observed_daily_hospit)}, Expected_daily_hospit: {torch.sum(expected_daily_hospit)}')\n",
        "  \n",
        "\n",
        "  with torch.no_grad():\n",
        "    #tau_t -= learning_rate * tau_t.grad\n",
        "    #phi -= learning_rate * phi.grad\n",
        "    R0 -= learning_rate * R0.grad\n",
        "    alpha -= learning_rate * alpha.grad\n",
        "    sigma -= learning_rate * sigma.grad\n",
        "    print(f' R0:{R0}, grad: {R0.grad}, alpha: {alpha} grad: {alpha.grad}, sigma: {sigma} grad {sigma.grad}' )\n",
        "\n",
        "    #tau_t.grad = None\n",
        "    #phi.grad = None\n",
        "    R0.grad = None\n",
        "    alpha.grad = None\n",
        "    sigma.grad = None\n",
        "  \n",
        "plt.plot(expected_daily_hospit.detach().numpy(), label='expected_daily_hospit')\n",
        "plt.plot(observed_daily_hospit.detach().numpy(), label='observed_daily_hospit')\n",
        "plt.legend()\n",
        "plt.show()"
      ],
      "execution_count": 18,
      "outputs": [
        {
          "output_type": "stream",
          "text": [
            "Time Step: 0, Loss: -inf, Observed_daily_hospit: 13199.0, Expected_daily_hospit: 22.100324630737305\n",
            " R0:2.280816078186035, grad: -174.17593383789062, alpha: 0.08087945729494095 grad: -6331.16845703125, sigma: 0.06573405861854553 grad 0.0\n",
            "Time Step: 1, Loss: -inf, Observed_daily_hospit: 13199.0, Expected_daily_hospit: 24.21578598022461\n",
            " R0:2.281006336212158, grad: -190.3629608154297, alpha: 0.08723276108503342 grad: -6353.3017578125, sigma: 0.06573405861854553 grad 0.0\n",
            "Time Step: 2, Loss: -inf, Observed_daily_hospit: 13199.0, Expected_daily_hospit: 30.21767807006836\n",
            " R0:2.2812578678131104, grad: -251.5118865966797, alpha: 0.0947500467300415 grad: -7517.2841796875, sigma: 0.06573405861854553 grad 0.0\n",
            "Time Step: 3, Loss: -inf, Observed_daily_hospit: 13199.0, Expected_daily_hospit: 27.823978424072266\n",
            " R0:2.2814693450927734, grad: -211.49375915527344, alpha: 0.10079552233219147 grad: -6045.4755859375, sigma: 0.06573405861854553 grad 0.0\n",
            "Time Step: 4, Loss: -inf, Observed_daily_hospit: 13199.0, Expected_daily_hospit: 27.201461791992188\n",
            " R0:2.2816789150238037, grad: -209.68841552734375, alpha: 0.10650090873241425 grad: -5705.38623046875, sigma: 0.06573405861854553 grad 0.0\n",
            "Time Step: 5, Loss: -inf, Observed_daily_hospit: 13199.0, Expected_daily_hospit: 34.073944091796875\n",
            " R0:2.2819464206695557, grad: -267.5310974121094, alpha: 0.1131371408700943 grad: -6636.2314453125, sigma: 0.06573405861854553 grad 0.0\n",
            "Time Step: 6, Loss: -inf, Observed_daily_hospit: 13199.0, Expected_daily_hospit: 37.37731170654297\n",
            " R0:2.282259225845337, grad: -312.84332275390625, alpha: 0.12033066153526306 grad: -7193.5224609375, sigma: 0.06573405861854553 grad 0.0\n",
            "Time Step: 7, Loss: -inf, Observed_daily_hospit: 13199.0, Expected_daily_hospit: 33.58046340942383\n",
            " R0:2.2824981212615967, grad: -238.88856506347656, alpha: 0.12576361000537872 grad: -5432.94921875, sigma: 0.06573405861854553 grad 0.0\n",
            "Time Step: 8, Loss: -inf, Observed_daily_hospit: 13199.0, Expected_daily_hospit: 40.616329193115234\n",
            " R0:2.28283429145813, grad: -336.08416748046875, alpha: 0.13272014260292053 grad: -6956.5302734375, sigma: 0.06573405861854553 grad 0.0\n",
            "Time Step: 9, Loss: -inf, Observed_daily_hospit: 13199.0, Expected_daily_hospit: 37.98447799682617\n",
            " R0:2.2831127643585205, grad: -278.4084167480469, alpha: 0.13837534189224243 grad: -5655.19384765625, sigma: 0.06573405861854553 grad 0.0\n"
          ],
          "name": "stdout"
        },
        {
          "output_type": "display_data",
          "data": {
            "image/png": "[encoded data removed]",
            "text/plain": [
              "<Figure size 432x288 with 1 Axes>"
            ]
          },
          "metadata": {
            "tags": [],
            "needs_background": "light"
          }
        }
      ]
    },
    {
      "cell_type": "markdown",
      "metadata": {
        "id": "9KVaHBOjSY4P"
      },
      "source": [
        "compare observed hospitalizations to model results"
      ]
    },
    {
      "cell_type": "code",
      "metadata": {
        "id": "OWOxqWBXSY9i"
      },
      "source": [
        "plt.figure(figsize=(10,10))\n",
        "plt.plot(expected_daily_hospit.detach().numpy(), label='expected_daily_hospit')\n",
        "plt.plot(observed_daily_hospit.detach().numpy(), label='observed_daily_hospit')\n",
        "plt.legend()\n",
        "plt.show()"
      ],
      "execution_count": null,
      "outputs": []
    },
    {
      "cell_type": "code",
      "metadata": {
        "id": "5l7T7vpqDjy0"
      },
      "source": [
        ""
      ],
      "execution_count": null,
      "outputs": []
    },
    {
      "cell_type": "code",
      "metadata": {
        "id": "umxhtldJFgFM"
      },
      "source": [
        ""
      ],
      "execution_count": null,
      "outputs": []
    }
  ]
}