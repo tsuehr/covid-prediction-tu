{
  "nbformat": 4,
  "nbformat_minor": 0,
  "metadata": {
    "kernelspec": {
      "display_name": "Python 3",
      "language": "python",
      "name": "python3"
    },
    "language_info": {
      "codemirror_mode": {
        "name": "ipython",
        "version": 2
      },
      "file_extension": ".py",
      "mimetype": "text/x-python",
      "name": "python",
      "nbconvert_exporter": "python",
      "pygments_lexer": "ipython2",
      "version": "2.7.6"
    },
    "colab": {
      "name": "NLL_V2.ipynb",
      "provenance": [],
      "collapsed_sections": [],
      "toc_visible": true
    }
  },
  "cells": [
    {
      "cell_type": "code",
      "metadata": {
        "pycharm": {
          "name": "#%%\n"
        },
        "id": "d17BEQFdPTqc"
      },
      "source": [
        "import scipy.stats\n",
        "import numpy as np\n",
        "import matplotlib.pyplot as plt\n",
        "from scipy.stats import expon, truncexpon, truncnorm, nbinom, norm\n",
        "import pandas as pd\n",
        "import time\n",
        "import torch\n",
        "from torch import nn\n",
        "from torch import distributions\n",
        "from torch import rand\n",
        "from torch import autograd\n",
        "from torch import optim"
      ],
      "execution_count": 1,
      "outputs": []
    },
    {
      "cell_type": "code",
      "metadata": {
        "pycharm": {
          "name": "#%%\n"
        },
        "id": "pdBc47jlPTqe"
      },
      "source": [
        "np.random.seed(seed=101)\n",
        "torch.manual_seed(101)\n",
        "torch.use_deterministic_algorithms(True)\n",
        "dtype = torch.float64\n",
        "device = torch.device(\"cpu\")"
      ],
      "execution_count": 2,
      "outputs": []
    },
    {
      "cell_type": "code",
      "metadata": {
        "colab": {
          "base_uri": "https://localhost:8080/",
          "height": 419
        },
        "id": "EaFwH9Vm7YMg",
        "outputId": "dbec00ec-613b-4496-b867-0838f3bf5d53"
      },
      "source": [
        "data = pd.read_csv('covid19model.csv')\n",
        "data"
      ],
      "execution_count": 3,
      "outputs": [
        {
          "output_type": "execute_result",
          "data": {
            "text/html": [
              "<div>\n",
              "<style scoped>\n",
              "    .dataframe tbody tr th:only-of-type {\n",
              "        vertical-align: middle;\n",
              "    }\n",
              "\n",
              "    .dataframe tbody tr th {\n",
              "        vertical-align: top;\n",
              "    }\n",
              "\n",
              "    .dataframe thead th {\n",
              "        text-align: right;\n",
              "    }\n",
              "</style>\n",
              "<table border=\"1\" class=\"dataframe\">\n",
              "  <thead>\n",
              "    <tr style=\"text-align: right;\">\n",
              "      <th></th>\n",
              "      <th>date</th>\n",
              "      <th>hospit</th>\n",
              "      <th>serial_interval</th>\n",
              "      <th>delay_distr</th>\n",
              "    </tr>\n",
              "  </thead>\n",
              "  <tbody>\n",
              "    <tr>\n",
              "      <th>0</th>\n",
              "      <td>2020-02-17</td>\n",
              "      <td>0</td>\n",
              "      <td>0.046535</td>\n",
              "      <td>1.300600e-02</td>\n",
              "    </tr>\n",
              "    <tr>\n",
              "      <th>1</th>\n",
              "      <td>2020-02-18</td>\n",
              "      <td>0</td>\n",
              "      <td>0.087065</td>\n",
              "      <td>3.004645e-02</td>\n",
              "    </tr>\n",
              "    <tr>\n",
              "      <th>2</th>\n",
              "      <td>2020-02-19</td>\n",
              "      <td>0</td>\n",
              "      <td>0.112061</td>\n",
              "      <td>4.467391e-02</td>\n",
              "    </tr>\n",
              "    <tr>\n",
              "      <th>3</th>\n",
              "      <td>2020-02-20</td>\n",
              "      <td>0</td>\n",
              "      <td>0.119346</td>\n",
              "      <td>5.547300e-02</td>\n",
              "    </tr>\n",
              "    <tr>\n",
              "      <th>4</th>\n",
              "      <td>2020-02-21</td>\n",
              "      <td>0</td>\n",
              "      <td>0.114540</td>\n",
              "      <td>6.242203e-02</td>\n",
              "    </tr>\n",
              "    <tr>\n",
              "      <th>...</th>\n",
              "      <td>...</td>\n",
              "      <td>...</td>\n",
              "      <td>...</td>\n",
              "      <td>...</td>\n",
              "    </tr>\n",
              "    <tr>\n",
              "      <th>402</th>\n",
              "      <td>2021-03-25</td>\n",
              "      <td>38</td>\n",
              "      <td>0.000000</td>\n",
              "      <td>2.817211e-32</td>\n",
              "    </tr>\n",
              "    <tr>\n",
              "      <th>403</th>\n",
              "      <td>2021-03-26</td>\n",
              "      <td>31</td>\n",
              "      <td>0.000000</td>\n",
              "      <td>2.349426e-32</td>\n",
              "    </tr>\n",
              "    <tr>\n",
              "      <th>404</th>\n",
              "      <td>2021-03-27</td>\n",
              "      <td>39</td>\n",
              "      <td>0.000000</td>\n",
              "      <td>1.959313e-32</td>\n",
              "    </tr>\n",
              "    <tr>\n",
              "      <th>405</th>\n",
              "      <td>2021-03-28</td>\n",
              "      <td>32</td>\n",
              "      <td>0.000000</td>\n",
              "      <td>1.633974e-32</td>\n",
              "    </tr>\n",
              "    <tr>\n",
              "      <th>406</th>\n",
              "      <td>2021-03-29</td>\n",
              "      <td>45</td>\n",
              "      <td>0.000000</td>\n",
              "      <td>1.362655e-32</td>\n",
              "    </tr>\n",
              "  </tbody>\n",
              "</table>\n",
              "<p>407 rows × 4 columns</p>\n",
              "</div>"
            ],
            "text/plain": [
              "           date  hospit  serial_interval   delay_distr\n",
              "0    2020-02-17       0         0.046535  1.300600e-02\n",
              "1    2020-02-18       0         0.087065  3.004645e-02\n",
              "2    2020-02-19       0         0.112061  4.467391e-02\n",
              "3    2020-02-20       0         0.119346  5.547300e-02\n",
              "4    2020-02-21       0         0.114540  6.242203e-02\n",
              "..          ...     ...              ...           ...\n",
              "402  2021-03-25      38         0.000000  2.817211e-32\n",
              "403  2021-03-26      31         0.000000  2.349426e-32\n",
              "404  2021-03-27      39         0.000000  1.959313e-32\n",
              "405  2021-03-28      32         0.000000  1.633974e-32\n",
              "406  2021-03-29      45         0.000000  1.362655e-32\n",
              "\n",
              "[407 rows x 4 columns]"
            ]
          },
          "metadata": {
            "tags": []
          },
          "execution_count": 3
        }
      ]
    },
    {
      "cell_type": "code",
      "metadata": {
        "id": "4seIKt9FY5OF"
      },
      "source": [
        "def trunc_exponential(scale, upper):\n",
        "    sample = torch.distributions.exponential.Exponential(1/scale).rsample()\n",
        "    sample = sample/torch.tensor(1-torch.exp(-upper/scale))\n",
        "    return sample\n",
        "# torch.distributions.exponential.Exponential(1/scale).sample()/torch.tensor(1-torch.exp(-upper/scale))\n",
        "\n",
        "def trunc_normal(mu, sigma, under, upper):\n",
        "    distribution = torch.distributions.normal.Normal(loc=mu, scale=sigma, validate_args=None)\n",
        "    normal_sample = distribution.rsample()\n",
        "    cumulative = distribution.cdf(torch.tensor(upper)) - distribution.cdf(torch.tensor(under))\n",
        "    return normal_sample/cumulative"
      ],
      "execution_count": 4,
      "outputs": []
    },
    {
      "cell_type": "markdown",
      "metadata": {
        "id": "d2IY_KzX7uV9"
      },
      "source": [
        "# Initialization\n"
      ]
    },
    {
      "cell_type": "code",
      "metadata": {
        "pycharm": {
          "name": "#%%\n"
        },
        "id": "7remU4ygPTqf"
      },
      "source": [
        "cero = torch.tensor(0., requires_grad=False, device=device, dtype=dtype)\n",
        "num_impute = 6\n",
        "observed_daily_hospit = torch.tensor(data.hospit, requires_grad=False, device=device, dtype=dtype)\n",
        "pi = torch.tensor(data.delay_distr, requires_grad=False, device=device, dtype=dtype)\n",
        "serial_interval = torch.tensor(data.serial_interval, requires_grad=False, device=device, dtype=dtype)\n",
        "population = torch.tensor(5793636, requires_grad=False, device=device, dtype=dtype)\n",
        "num_observations = len(observed_daily_hospit)"
      ],
      "execution_count": 5,
      "outputs": []
    },
    {
      "cell_type": "markdown",
      "metadata": {
        "id": "NG5jECpf77Xk"
      },
      "source": [
        "## Initialize latent variables/parameters"
      ]
    },
    {
      "cell_type": "code",
      "metadata": {
        "pycharm": {
          "name": "#%%\n"
        },
        "id": "9XhscamaPTqg"
      },
      "source": [
        "\"\"\"tau = np.random.exponential(1 / 0.03)\n",
        "tau_t = torch.tensor(tau, requires_grad=True, device=device, dtype=dtype)\n",
        "# b=(upper-lower)/scale, loc=lower, scale=scale\n",
        "y = torch.tensor(truncexpon.rvs(b=(1000 - 0) / tau, loc=0, scale=tau), requires_grad=False, device=device, dtype=dtype)  # number of initial newly_infected (seed)\"\"\"\n",
        "\n",
        "\n",
        "tau= torch.tensor(np.random.exponential(1 / 0.03), requires_grad=True, device=device, dtype=dtype)\n",
        "# b=(upper-lower)/scale, loc=lower, scale=scale\n",
        "\n",
        "# For trunc ((lower - mu) / sigma, (upper - mu) / sigma, loc=mu, scale=sigma)\n",
        "phi = torch.tensor(truncnorm.rvs((0 - 25) / 10, (np.inf - 25) / 10, loc=25, scale=10), requires_grad=True, device=device, dtype=dtype) # has to be positive, between 0-50 --> uniform # dispersion (shape) parameter for observations\n",
        "R0 = torch.tensor(truncnorm.rvs((2 - 3.6) / 0.8, (5 - 3.6) / 0.8, loc=3.6, scale=0.8), requires_grad=True, device=device, dtype=dtype)  # probably gamma or inverse gamma distribution (compare to truncated normal) # initial reproduction number\n",
        "alpha = torch.tensor(truncnorm.rvs((0 - 1/100) / 1/100, (5/100 - 1/100) / 1/100, loc=1/100, scale=1/100), requires_grad=True, device=device, dtype=dtype) # uniform distribution between (0-5%) # probability to get hospitalized\n",
        "sigma = torch.tensor(truncnorm.rvs((0 - 0.1) / 0.3, (0.5 - 0.1) / 0.3, loc=0.1, scale=0.3), requires_grad=True, device=device, dtype=dtype)  # positive, tricky, gamma or inverse gamma, log normal  --> try something out, large sigma--> prone to overfitting # standart deviation of random walk step\n",
        "sigma_init = sigma.clone()\n",
        "\n",
        "epsilon_t = torch.zeros(num_observations, device=device)\n",
        "epsilon_t[0] = torch.distributions.Normal(cero, sigma.detach()).rsample()\n",
        "for t in range(1, num_observations):\n",
        "  epsilon_t[t] = torch.distributions.Normal(epsilon_t[t - 1].detach(), sigma.detach()).rsample()\n",
        "epsilon_t.requires_grad_(True)"
      ],
      "execution_count": 6,
      "outputs": []
    },
    {
      "cell_type": "markdown",
      "metadata": {
        "id": "vtO_C9CTSkM-"
      },
      "source": [
        "This is a way to generate the initial params from pytorch distribution directly without truncation.\n",
        "NOTE: Use either this code block below or above."
      ]
    },
    {
      "cell_type": "code",
      "metadata": {
        "id": "JcKQh9lISjqA"
      },
      "source": [
        "dist_tau_t = distributions.exponential.Exponential(torch.tensor([1/0.03], device=device))\n",
        "#tau_t = dist_tau_t.sample()\n",
        "\n",
        "dist_y = distributions.exponential.Exponential(tau)\n",
        "#y = dist_y.sample()\n",
        "\n",
        "dist_phi = distributions.normal.Normal(loc=torch.tensor([25], device=device), scale=torch.tensor([10], device=device))\n",
        "#phi = dist_phi.sample()\n",
        "\n",
        "dist_R0 = distributions.normal.Normal(loc=torch.tensor([3.6], device=device), scale=torch.tensor([0.8], device=device))\n",
        "#R0 = dist_R0.sample()\n",
        "\n",
        "dist_alpha = distributions.normal.Normal(loc=torch.tensor([0.01], device=device), scale=torch.tensor([0.01], device=device))\n",
        "#alpha = dist_alpha.sample()\n",
        "\n",
        "dist_sigma = distributions.normal.Normal(loc=torch.tensor([0.1], device=device), scale=torch.tensor([0.3], device=device))\n",
        "#sigma = dist_sigma.sample()"
      ],
      "execution_count": 8,
      "outputs": []
    },
    {
      "cell_type": "markdown",
      "metadata": {
        "id": "0fI1Yjma8CL8"
      },
      "source": [
        "# Define Forward Pass"
      ]
    },
    {
      "cell_type": "code",
      "metadata": {
        "pycharm": {
          "name": "#%%\n"
        },
        "id": "qRpAr7FAPTqh"
      },
      "source": [
        "def forward_pass():\n",
        "  # Initialize time series variables\n",
        "  y = trunc_exponential(tau, 1000)\n",
        "  newly_infected = torch.zeros(num_observations, device=device, dtype=dtype)  # number of newly infected\n",
        "  effectively_infectious = torch.zeros(num_observations, device=device)  # effective number of infectious individuals\n",
        "  expected_daily_hospit = torch.zeros(num_observations, device=device)  # expected number of daily hospitalizations\n",
        "  cumulative_infected = torch.zeros(num_observations, device=device)  # cumulative number of infected\n",
        "  eta_t = torch.zeros(num_observations, device=device)  # transformed reproduction number\n",
        "  St = torch.zeros(num_observations, device=device)  # fraction of susceptible population\n",
        "\n",
        "  # log likelihood wrt. our prior (\"regularisation\")\n",
        "  # ll stands for log-likelihood\n",
        "  ll = torch.tensor(0.0, device=device)\n",
        "\n",
        "  #dist_tau_t = distributions.exponential.Exponential(torch.tensor([1/0.03]))\n",
        "  #ll += dist_tau_t.log_prob(tau).item()\n",
        "\n",
        "  #dist_y = distributions.exponential.Exponential(tau) #the parameter in the brasket should either be float or tensor, to avoid any inconvienience,\n",
        "                                                      # I use everything as tensor. NOTE:tau_t is already a tensor.\n",
        "  #ll += dist_y.log_prob(y).item()\n",
        "\n",
        "  #dist_phi = distribution.normal.Normal(loc=torch.tensor([25]), scale=torch.tensor([10]))\n",
        "  ll += dist_phi.log_prob(phi).item()\n",
        "\n",
        "  #dist_R0 = distribution.normal.Normal(loc=torch.tensor([3.6]), scale=torch.tensor([0.8]))\n",
        "  ll += dist_R0.log_prob(R0).item()\n",
        "\n",
        "  #dist_alpha = distribution.normal.Normal(loc=torch.tensor([0.01]), scale=torch.tensor([0.01]))\n",
        "  ll += dist_alpha.log_prob(alpha).item()\n",
        "\n",
        "  #dist_sigma = distribution.normal.Normal(loc=torch.tensor([0.1]), scale=torch.tensor([0.3]))\n",
        "  ll += dist_sigma.log_prob(sigma).item()\n",
        "\n",
        "\n",
        "  # seed initial infection / impute first num_impute days\n",
        "  newly_infected[0:num_impute] = y.clone()\n",
        "  cumulative_infected[0] = 0.\n",
        "  cumulative_infected[1:num_impute] = torch.cumsum(newly_infected[0:num_impute - 1].clone(), dim=0)\n",
        "  St[0:num_impute] = torch.tensor([torch.maximum(population.clone() - x, torch.tensor(0)) / population for x in cumulative_infected[0:num_impute].clone()])\n",
        "\n",
        "  # calculate Rt: the basic reproduction number\n",
        "  # basic reproduction number as a latent random walk\n",
        "  beta_0 = torch.log(R0)\n",
        "  eta_t[0] = beta_0\n",
        "  for t in range(1, num_observations):\n",
        "      dist_epsilon_t = torch.distributions.Normal(epsilon_t[t - 1], sigma)\n",
        "      ll += dist_epsilon_t.log_prob(epsilon_t[t - 1])\n",
        "  eta_t[1:num_observations] = beta_0 + epsilon_t[0:num_observations-1].clone()\n",
        "  Rt = torch.exp(eta_t)\n",
        "\n",
        "  # calculate infections\n",
        "  for t in range(num_impute, num_observations): # t=6\n",
        "      # Update cumulative newly_infected\n",
        "      cumulative_infected[t] = cumulative_infected[t - 1].clone() + newly_infected[t - 1].clone()\n",
        "      # Adjusts for portion of pop that are susceptible\n",
        "      St[t] = torch.maximum(population.clone() - cumulative_infected[t].clone(), cero) / population.clone()\n",
        "      # effective number of infectous individuals\n",
        "      #ni_temp = newly_infected[:t].view(1, 1, -1)\n",
        "      #si_temp = torch.flip(serial_interval, (0,))[-t:].view(1, 1, -1)\n",
        "      #effectively_infectious[t] = torch.nn.functional.conv1d(ni_temp, si_temp).clone()\n",
        "      effectively_infectious[t] =  torch.tensor(np.convolve(newly_infected[:t].detach().numpy(), serial_interval[:t], mode='valid'))\n",
        "      \n",
        "      newly_infected[t] = St[t].clone() * Rt[t].clone() * effectively_infectious[t].clone()\n",
        "\n",
        "  # calculate expected number of hospitalizations\n",
        "  expected_daily_hospit[0] = (1e-15) * newly_infected[0].clone()\n",
        "  for t in range(1, num_observations):\n",
        "      ni_temp = newly_infected[:t].view(1, 1, -1)\n",
        "      pi_temp = torch.flip(pi, (0,))[-t-1:-1].view(1, 1, -1)\n",
        "      expected_daily_hospit[t] = torch.nn.functional.conv1d(ni_temp, pi_temp)\n",
        "  expected_daily_hospit = alpha * expected_daily_hospit\n",
        "\n",
        "  # compare observed hospitalizations to model results\n",
        "  # likelihood of the data wrt. to the model\n",
        "\n",
        "  for i in range(0, num_observations):\n",
        "      p = 1/(1+ expected_daily_hospit[i]/phi)\n",
        "      dist = torch.distributions.negative_binomial.NegativeBinomial(phi, p-torch.tensor(2.225e-5))\n",
        "      ll += dist.log_prob(observed_daily_hospit[i])\n",
        "\n",
        "\n",
        "  return expected_daily_hospit, Rt, ll"
      ],
      "execution_count": 9,
      "outputs": []
    },
    {
      "cell_type": "markdown",
      "metadata": {
        "id": "mg2pWcC384K0"
      },
      "source": [
        "# Optimization"
      ]
    },
    {
      "cell_type": "code",
      "metadata": {
        "pycharm": {
          "name": "#%%\n"
        },
        "id": "BBZ3KIq1PTqk",
        "colab": {
          "base_uri": "https://localhost:8080/",
          "height": 1000
        },
        "outputId": "ac1fbb86-5e86-40c5-bb11-57ab9b2f3726"
      },
      "source": [
        "learning_rate = 1e-12\n",
        "epochs = 5000\n",
        "complete_time = time.time()\n",
        "\n",
        "for k in range (epochs):\n",
        "    start_time = time.time()\n",
        "    decay = (1 - (k / (epochs*1e5))) ** 2\n",
        "    learning_rate = learning_rate * decay\n",
        "\n",
        "    # forward pass - calculate expected_daily_hospit\n",
        "    expected_daily_hospit, Rt, ll = forward_pass()\n",
        "\n",
        "    #backward pass\n",
        "    loss = -ll\n",
        "    loss.backward()\n",
        "\n",
        "    if k%5 == 0:\n",
        "      print(f'Time Step: {k}|| Loss: {loss},  R0:{R0}, grad: {R0.grad}, alpha: {alpha} grad: {alpha.grad}, phi: {phi} grad: {phi.grad}, sigma: {sigma} grad {sigma.grad}, epsilon_t.mean: {epsilon_t.mean()} grad.mean {epsilon_t.grad.mean()}')\n",
        "\n",
        "    with torch.no_grad(): # this part is SGD. can also replace with loss.step\n",
        "        tau -= learning_rate * tau.grad\n",
        "        phi -= learning_rate * phi.grad \n",
        "        R0 -= learning_rate * R0.grad \n",
        "        alpha -= learning_rate * alpha.grad \n",
        "        sigma -= learning_rate * sigma.grad \n",
        "        epsilon_t -= learning_rate * epsilon_t.grad * 1e+8\n",
        "\n",
        "        tau.grad = None\n",
        "        phi.grad = None\n",
        "        R0.grad = None\n",
        "        alpha.grad = None\n",
        "        sigma.grad = None\n",
        "        epsilon_t.grad = None\n",
        "\n",
        "\n",
        "    if k%100 == 0:    \n",
        "      print(\"This Run:  %s seconds\" % (time.time() - start_time))\n",
        "      plt.plot(expected_daily_hospit.cpu().detach().numpy(), label='expected_daily_hospit')\n",
        "      plt.plot(observed_daily_hospit.cpu().detach().numpy(), label='observed_daily_hospit')\n",
        "      plt.legend()\n",
        "      plt.show()\n",
        "\n",
        "\n",
        "print(\"Complete Run:  %s seconds\" % (time.time() - complete_time))"
      ],
      "execution_count": 10,
      "outputs": [
        {
          "output_type": "stream",
          "text": [
            "/usr/local/lib/python3.7/dist-packages/ipykernel_launcher.py:3: UserWarning: To copy construct from a tensor, it is recommended to use sourceTensor.clone().detach() or sourceTensor.clone().detach().requires_grad_(True), rather than torch.tensor(sourceTensor).\n",
            "  This is separate from the ipykernel package so we can avoid doing imports until\n"
          ],
          "name": "stderr"
        },
        {
          "output_type": "stream",
          "text": [
            "Time Step: 0|| Loss: 81751.6328125,  R0:2.2797217757676145, grad: -635.188680561379, alpha: 0.009999857608264206 grad: -135924.25, phi: 26.848677011157655 grad: 3002.1711809298336, sigma: 0.2921200161058668 grad 1389.8397152383375, epsilon_t.mean: -0.37735244631767273 grad.mean -3.557870864868164\n",
            "This Run:  0.5437231063842773 seconds\n"
          ],
          "name": "stdout"
        },
        {
          "output_type": "display_data",
          "data": {
            "image/png": "[encoded data removed]",
            "text/plain": [
              "<Figure size 432x288 with 1 Axes>"
            ]
          },
          "metadata": {
            "tags": [],
            "needs_background": "light"
          }
        },
        {
          "output_type": "stream",
          "text": [
            "/usr/local/lib/python3.7/dist-packages/ipykernel_launcher.py:3: UserWarning: To copy construct from a tensor, it is recommended to use sourceTensor.clone().detach() or sourceTensor.clone().detach().requires_grad_(True), rather than torch.tensor(sourceTensor).\n",
            "  This is separate from the ipykernel package so we can avoid doing imports until\n"
          ],
          "name": "stderr"
        },
        {
          "output_type": "stream",
          "text": [
            "Time Step: 5|| Loss: 85384.0625,  R0:2.2797217784532693, grad: -384.5494032209741, alpha: 0.010000410950006974 grad: -89217.4453125, phi: 26.848676995745787 grad: 3151.458644969923, sigma: 0.2921200091566683 grad 1389.839748301022, epsilon_t.mean: -0.3758481442928314 grad.mean -2.1539697647094727\n",
            "Time Step: 10|| Loss: 86396.375,  R0:2.2797217810789143, grad: -353.3032996499593, alpha: 0.010000960896627054 grad: -64942.77734375, phi: 26.848676980325866 grad: 3189.364925719488, sigma: 0.29212000220747025 grad 1389.8397813637232, epsilon_t.mean: -0.37437742948532104 grad.mean -1.9789514541625977\n",
            "Time Step: 15|| Loss: 88975.8828125,  R0:2.279721783673735, grad: -76.41271120782072, alpha: 0.010001481424417332 grad: 29272.5625, phi: 26.848676964925996 grad: 3287.165708920515, sigma: 0.2921199952582735 grad 1389.8398144264058, epsilon_t.mean: -0.3729240298271179 grad.mean -0.42800915241241455\n",
            "Time Step: 20|| Loss: 83314.6171875,  R0:2.2797217861083507, grad: -591.9867914455825, alpha: 0.010001919612089403 grad: -119672.3671875, phi: 26.84867694936406 grad: 3060.5403843138515, sigma: 0.2921199883090786 grad 1389.8398474890766, epsilon_t.mean: -0.37156033515930176 grad.mean -3.315885066986084\n",
            "Time Step: 25|| Loss: 80150.984375,  R0:2.2797217884556757, grad: -738.5109963420143, alpha: 0.01000236964135153 grad: -143186.6875, phi: 26.848676933701572 grad: 2924.953050433076, sigma: 0.2921199813598863 grad 1389.8398805517352, epsilon_t.mean: -0.37024548649787903 grad.mean -4.136608600616455\n",
            "Time Step: 30|| Loss: 79408.3828125,  R0:2.279721791019011, grad: -745.086194328645, alpha: 0.010002839416712928 grad: -145829.25, phi: 26.848676918275153 grad: 2890.362351904716, sigma: 0.2921199744106974 grad 1389.83991361438, epsilon_t.mean: -0.36880970001220703 grad.mean -4.17343807220459\n",
            "Time Step: 35|| Loss: 84568.4609375,  R0:2.2797217939938506, grad: -539.3281722865694, alpha: 0.010003419346225634 grad: -103089.234375, phi: 26.84867690317657 grad: 3110.274619801917, sigma: 0.29211996746151253 grad 1389.8399466770043, epsilon_t.mean: -0.3671434819698334 grad.mean -3.0209290981292725\n",
            "Time Step: 40|| Loss: 85563.9765625,  R0:2.279721797266658, grad: -452.38240539260244, alpha: 0.010004056253686243 grad: -85378.7421875, phi: 26.848676888163858 grad: 3151.5086835340862, sigma: 0.2921199605123323 grad 1389.839979739616, epsilon_t.mean: -0.3653102517127991 grad.mean -2.533921480178833\n",
            "Time Step: 45|| Loss: 86605.2734375,  R0:2.2797218002033923, grad: -346.21600934447946, alpha: 0.010004613842300083 grad: -58752.9375, phi: 26.848676872911703 grad: 3191.5107739684095, sigma: 0.29211995356315745 grad 1389.8400128022229, epsilon_t.mean: -0.3636653423309326 grad.mean -1.939253568649292\n",
            "Time Step: 50|| Loss: 86744.6484375,  R0:2.279721803051411, grad: -324.31965187740724, alpha: 0.01000516669486964 grad: -54444.71875, phi: 26.84867685760207 grad: 3196.1655016025516, sigma: 0.2921199466139887 grad 1389.840045864763, epsilon_t.mean: -0.3620700240135193 grad.mean -1.816605806350708\n",
            "Time Step: 55|| Loss: 83801.3828125,  R0:2.279721805943865, grad: -551.244542568764, alpha: 0.01000571850692364 grad: -113235.5703125, phi: 26.848676842386094 grad: 3072.4794190811945, sigma: 0.29211993966482674 grad 1389.8400789272887, epsilon_t.mean: -0.3604499399662018 grad.mean -3.0876762866973877\n",
            "Time Step: 60|| Loss: 83063.265625,  R0:2.2797218090043234, grad: -633.1911323950162, alpha: 0.010006302497510484 grad: -120192.5546875, phi: 26.848676827192552 grad: 3037.556913363109, sigma: 0.29211993271567227 grad 1389.8401119898, epsilon_t.mean: -0.35873571038246155 grad.mean -3.546682119369507\n",
            "Time Step: 65|| Loss: 85204.75,  R0:2.279721811904613, grad: -462.0499981549716, alpha: 0.010006858977923003 grad: -91832.59375, phi: 26.848676811846214 grad: 3129.9913576583613, sigma: 0.292119925766526 grad 1389.8401450522417, epsilon_t.mean: -0.3571111857891083 grad.mean -2.5880722999572754\n",
            "Time Step: 70|| Loss: 82271.1640625,  R0:2.2797218146371705, grad: -682.4042137389179, alpha: 0.010007384806610104 grad: -126181.421875, phi: 26.848676796412004 grad: 2998.7585978759635, sigma: 0.2921199188173886 grad 1389.8401781146708, epsilon_t.mean: -0.355580598115921 grad.mean -3.822338581085205\n",
            "Time Step: 75|| Loss: 80876.46875,  R0:2.279721818002347, grad: -725.6460437851366, alpha: 0.010008008397033296 grad: -134648.4375, phi: 26.848676781498803 grad: 2933.581675197074, sigma: 0.2921199118682607 grad 1389.8402111770222, epsilon_t.mean: -0.3536956310272217 grad.mean -4.064548015594482\n",
            "Time Step: 80|| Loss: 82554.0390625,  R0:2.279721821613485, grad: -674.1370083237184, alpha: 0.01000867217471192 grad: -123344.3671875, phi: 26.848676766779604 grad: 3007.665540130322, sigma: 0.2921199049191431 grad 1389.840244239355, epsilon_t.mean: -0.3516729474067688 grad.mean -3.776031494140625\n",
            "Time Step: 85|| Loss: 84931.828125,  R0:2.279721824840228, grad: -516.0595275922324, alpha: 0.010009269032065903 grad: -95803.9453125, phi: 26.848676751726888 grad: 3112.6223627235095, sigma: 0.2921198979700364 grad 1389.8402773016298, epsilon_t.mean: -0.34986555576324463 grad.mean -2.890594959259033\n",
            "Time Step: 90|| Loss: 80275.625,  R0:2.279721827993952, grad: -757.7003685822147, alpha: 0.010009839842276332 grad: -137395.8125, phi: 26.848676736682116 grad: 2899.8340372408293, sigma: 0.2921198910209414 grad 1389.8403103638514, epsilon_t.mean: -0.34809914231300354 grad.mean -4.244093418121338\n",
            "Time Step: 95|| Loss: 81499.2265625,  R0:2.279721831405378, grad: -700.7182213842076, alpha: 0.010010449180417987 grad: -129992.8125, phi: 26.848676721859004 grad: 2953.4254571719766, sigma: 0.2921198840718587 grad 1389.8403434260092, epsilon_t.mean: -0.3461882472038269 grad.mean -3.9249205589294434\n",
            "Time Step: 100|| Loss: 81749.6953125,  R0:2.279721834781972, grad: -714.8666107504454, alpha: 0.01001106891445231 grad: -128139.59375, phi: 26.84867670691933 grad: 2962.9003930980816, sigma: 0.29211987712278903 grad 1389.8403764881293, epsilon_t.mean: -0.34429696202278137 grad.mean -4.004169464111328\n",
            "This Run:  0.47115087509155273 seconds\n"
          ],
          "name": "stdout"
        },
        {
          "output_type": "display_data",
          "data": {
            "image/png": "[encoded data removed]",
            "text/plain": [
              "<Figure size 432x288 with 1 Axes>"
            ]
          },
          "metadata": {
            "tags": [],
            "needs_background": "light"
          }
        },
        {
          "output_type": "stream",
          "text": [
            "/usr/local/lib/python3.7/dist-packages/ipykernel_launcher.py:3: UserWarning: To copy construct from a tensor, it is recommended to use sourceTensor.clone().detach() or sourceTensor.clone().detach().requires_grad_(True), rather than torch.tensor(sourceTensor).\n",
            "  This is separate from the ipykernel package so we can avoid doing imports until\n"
          ],
          "name": "stderr"
        },
        {
          "output_type": "stream",
          "text": [
            "Time Step: 105|| Loss: 83201.671875,  R0:2.2797218383996714, grad: -638.0960580593687, alpha: 0.010011714508448006 grad: -116106.265625, phi: 26.848676692249867 grad: 3027.6254492750104, sigma: 0.2921198701737331 grad 1389.840409550143, epsilon_t.mean: -0.3422705829143524 grad.mean -3.5741560459136963\n",
            "Time Step: 110|| Loss: 79854.625,  R0:2.2797218406982074, grad: -786.1541959330009, alpha: 0.01001205151696888 grad: -139299.28125, phi: 26.848676676737703 grad: 2871.2650654387908, sigma: 0.2921198632246916 grad 1389.8404426121317, epsilon_t.mean: -0.340983122587204 grad.mean -4.40347146987915\n",
            "Time Step: 115|| Loss: 79435.2421875,  R0:2.2797218444656617, grad: -805.840166476386, alpha: 0.010012714931911089 grad: -141712.671875, phi: 26.848676662210607 grad: 2850.280497528567, sigma: 0.2921198562756652 grad 1389.840475674019, epsilon_t.mean: -0.33887284994125366 grad.mean -4.51373815536499\n",
            "Time Step: 120|| Loss: 83420.5546875,  R0:2.279721848449047, grad: -624.030714995326, alpha: 0.010013415505503106 grad: -113420.4609375, phi: 26.84867664790104 grad: 3033.264875633841, sigma: 0.2921198493266547 grad 1389.8405087358626, epsilon_t.mean: -0.3366416394710541 grad.mean -3.4953720569610596\n",
            "Time Step: 125|| Loss: 83036.828125,  R0:2.2797218513921798, grad: -658.7572621099386, alpha: 0.010013905597224941 grad: -116208.640625, phi: 26.848676632642572 grad: 3012.0627348798466, sigma: 0.29211984237766064 grad 1389.8405417976173, epsilon_t.mean: -0.3349930942058563 grad.mean -3.689885377883911\n",
            "Time Step: 130|| Loss: 76972.59375,  R0:2.279721855029937, grad: -913.8244739828767, alpha: 0.010014527829639783 grad: -155121.515625, phi: 26.848676618001896 grad: 2734.04587710887, sigma: 0.2921198354286838 grad 1389.840574859279, epsilon_t.mean: -0.3329555094242096 grad.mean -5.118588924407959\n",
            "Time Step: 135|| Loss: 83514.4921875,  R0:2.2797218588511448, grad: -659.202014217763, alpha: 0.010015179615526636 grad: -111042.9140625, phi: 26.848676603491132 grad: 3031.698719402245, sigma: 0.2921198284797249 grad 1389.8406079208576, epsilon_t.mean: -0.3308151662349701 grad.mean -3.6923766136169434\n",
            "Time Step: 140|| Loss: 80425.8125,  R0:2.279721862356992, grad: -783.6836765252314, alpha: 0.010015779764759179 grad: -135420.484375, phi: 26.848676588602537 grad: 2883.1350535587703, sigma: 0.2921198215307846 grad 1389.8406409823654, epsilon_t.mean: -0.3288514316082001 grad.mean -4.389633655548096\n",
            "Time Step: 145|| Loss: 84881.4765625,  R0:2.2797218662292766, grad: -539.3961052525406, alpha: 0.01001643896233719 grad: -90888.65625, phi: 26.848676574151135 grad: 3093.2075039101514, sigma: 0.29211981458186353 grad 1389.840674043781, epsilon_t.mean: -0.3266824781894684 grad.mean -3.0213098526000977\n",
            "Time Step: 150|| Loss: 77752.921875,  R0:2.2797218702278643, grad: -902.6669510513861, alpha: 0.010017113688627344 grad: -151964.578125, phi: 26.84867655985843 grad: 2758.3465266322187, sigma: 0.29211980763296247 grad 1389.840707105101, epsilon_t.mean: -0.32444271445274353 grad.mean -5.056092262268066\n",
            "Time Step: 155|| Loss: 77719.21875,  R0:2.279721874488715, grad: -908.3328808936581, alpha: 0.010017828051180282 grad: -152330.84375, phi: 26.848676545775195 grad: 2754.6893958789638, sigma: 0.2921198006840821 grad 1389.8407401663137, epsilon_t.mean: -0.3220561742782593 grad.mean -5.087828636169434\n",
            "Time Step: 160|| Loss: 77087.5546875,  R0:2.2797218783993975, grad: -936.9152747262438, alpha: 0.010018481194540805 grad: -156012.234375, phi: 26.84867653132054 grad: 2724.6001914776257, sigma: 0.2921197937352231 grad 1389.8407732274225, epsilon_t.mean: -0.3198656737804413 grad.mean -5.247926712036133\n",
            "Time Step: 165|| Loss: 79721.9609375,  R0:2.2797218827758594, grad: -836.585865968223, alpha: 0.010019212678412907 grad: -139912.28125, phi: 26.84867651734662 grad: 2839.746648944698, sigma: 0.29211978678638617 grad 1389.8408062884394, epsilon_t.mean: -0.3174143135547638 grad.mean -4.685953617095947\n",
            "Time Step: 170|| Loss: 74049.375,  R0:2.2797218871028564, grad: -1038.9465885041475, alpha: 0.010019931132575632 grad: -170580.1875, phi: 26.848676503318995 grad: 2592.352484061529, sigma: 0.292119779837572 grad 1389.840839349361, epsilon_t.mean: -0.31499066948890686 grad.mean -5.819433212280273\n",
            "Time Step: 175|| Loss: 74138.171875,  R0:2.27972189195478, grad: -1037.1990543975976, alpha: 0.010020729712558307 grad: -170341.859375, phi: 26.848676489918965 grad: 2593.8329785751553, sigma: 0.29211977288878127 grad 1389.8408724101625, epsilon_t.mean: -0.3122729957103729 grad.mean -5.80964469909668\n",
            "Time Step: 180|| Loss: 78536.1328125,  R0:2.279721896754215, grad: -896.6296130329063, alpha: 0.01002151980682227 grad: -147711.796875, phi: 26.84867647642597 grad: 2779.9431824852063, sigma: 0.29211976594001476 grad 1389.8409054708432, epsilon_t.mean: -0.30958470702171326 grad.mean -5.022275447845459\n",
            "Time Step: 185|| Loss: 77049.4140625,  R0:2.279721901670657, grad: -955.6059743708805, alpha: 0.010022326376818772 grad: -156543.296875, phi: 26.848676463099146 grad: 2712.1349426807687, sigma: 0.29211975899127307 grad 1389.840938531422, epsilon_t.mean: -0.30683088302612305 grad.mean -5.35261869430542\n",
            "Time Step: 190|| Loss: 74168.3359375,  R0:2.279721906099716, grad: -1032.1084162590432, alpha: 0.010023049088822362 grad: -169759.984375, phi: 26.848676449199985 grad: 2587.5990228743085, sigma: 0.2921197520425569 grad 1389.840971591858, epsilon_t.mean: -0.3043500781059265 grad.mean -5.781130790710449\n",
            "Time Step: 195|| Loss: 77232.2734375,  R0:2.2797219110408475, grad: -954.3613439252906, alpha: 0.010023857502398302 grad: -155112.5625, phi: 26.84867643590913 grad: 2715.1292852900065, sigma: 0.292119745093867 grad 1389.8410046521756, epsilon_t.mean: -0.301582396030426 grad.mean -5.34564733505249\n",
            "Time Step: 200|| Loss: 73128.328125,  R0:2.2797219161320847, grad: -1040.0878577363271, alpha: 0.010024691820987083 grad: -171785.0625, phi: 26.848676422934787 grad: 2539.564759782527, sigma: 0.2921197381452041 grad 1389.8410377123853, epsilon_t.mean: -0.29873067140579224 grad.mean -5.8258256912231445\n",
            "This Run:  0.4962880611419678 seconds\n"
          ],
          "name": "stdout"
        },
        {
          "output_type": "display_data",
          "data": {
            "image/png": "[encoded data removed]",
            "text/plain": [
              "<Figure size 432x288 with 1 Axes>"
            ]
          },
          "metadata": {
            "tags": [],
            "needs_background": "light"
          }
        },
        {
          "output_type": "stream",
          "text": [
            "/usr/local/lib/python3.7/dist-packages/ipykernel_launcher.py:3: UserWarning: To copy construct from a tensor, it is recommended to use sourceTensor.clone().detach() or sourceTensor.clone().detach().requires_grad_(True), rather than torch.tensor(sourceTensor).\n",
            "  This is separate from the ipykernel package so we can avoid doing imports until\n"
          ],
          "name": "stderr"
        },
        {
          "output_type": "stream",
          "text": [
            "Time Step: 205|| Loss: 75848.6796875,  R0:2.279721921136497, grad: -995.6567665538189, alpha: 0.010025510916269683 grad: -161576.5625, phi: 26.848676409822676 grad: 2650.573476148854, sigma: 0.2921197311965688 grad 1389.8410707724572, epsilon_t.mean: -0.29592758417129517 grad.mean -5.5769548416137695\n",
            "Time Step: 210|| Loss: 77180.921875,  R0:2.2797219260531434, grad: -961.144134458264, alpha: 0.010026309919779179 grad: -154124.890625, phi: 26.848676396600148 grad: 2705.7910777609413, sigma: 0.2921197242479618 grad 1389.8411038323932, epsilon_t.mean: -0.293173611164093 grad.mean -5.383639812469482\n",
            "Time Step: 215|| Loss: 72239.3046875,  R0:2.2797219310205046, grad: -1018.6705724639373, alpha: 0.010027109013691884 grad: -170080.984375, phi: 26.84867638360685 grad: 2493.8107019979075, sigma: 0.2921197172993838 grad 1389.8411368921827, epsilon_t.mean: -0.29039129614830017 grad.mean -5.705861568450928\n"
          ],
          "name": "stdout"
        },
        {
          "output_type": "error",
          "ename": "KeyboardInterrupt",
          "evalue": "ignored",
          "traceback": [
            "\u001b[0;31m---------------------------------------------------------------------------\u001b[0m",
            "\u001b[0;31mKeyboardInterrupt\u001b[0m                         Traceback (most recent call last)",
            "\u001b[0;32m<ipython-input-10-143ebb18f76d>\u001b[0m in \u001b[0;36m<module>\u001b[0;34m()\u001b[0m\n\u001b[1;32m     13\u001b[0m     \u001b[0;31m#backward pass\u001b[0m\u001b[0;34m\u001b[0m\u001b[0;34m\u001b[0m\u001b[0;34m\u001b[0m\u001b[0m\n\u001b[1;32m     14\u001b[0m     \u001b[0mloss\u001b[0m \u001b[0;34m=\u001b[0m \u001b[0;34m-\u001b[0m\u001b[0mll\u001b[0m\u001b[0;34m\u001b[0m\u001b[0;34m\u001b[0m\u001b[0m\n\u001b[0;32m---> 15\u001b[0;31m     \u001b[0mloss\u001b[0m\u001b[0;34m.\u001b[0m\u001b[0mbackward\u001b[0m\u001b[0;34m(\u001b[0m\u001b[0;34m)\u001b[0m\u001b[0;34m\u001b[0m\u001b[0;34m\u001b[0m\u001b[0m\n\u001b[0m\u001b[1;32m     16\u001b[0m \u001b[0;34m\u001b[0m\u001b[0m\n\u001b[1;32m     17\u001b[0m     \u001b[0;32mif\u001b[0m \u001b[0mk\u001b[0m\u001b[0;34m%\u001b[0m\u001b[0;36m5\u001b[0m \u001b[0;34m==\u001b[0m \u001b[0;36m0\u001b[0m\u001b[0;34m:\u001b[0m\u001b[0;34m\u001b[0m\u001b[0;34m\u001b[0m\u001b[0m\n",
            "\u001b[0;32m/usr/local/lib/python3.7/dist-packages/torch/tensor.py\u001b[0m in \u001b[0;36mbackward\u001b[0;34m(self, gradient, retain_graph, create_graph, inputs)\u001b[0m\n\u001b[1;32m    243\u001b[0m                 \u001b[0mcreate_graph\u001b[0m\u001b[0;34m=\u001b[0m\u001b[0mcreate_graph\u001b[0m\u001b[0;34m,\u001b[0m\u001b[0;34m\u001b[0m\u001b[0;34m\u001b[0m\u001b[0m\n\u001b[1;32m    244\u001b[0m                 inputs=inputs)\n\u001b[0;32m--> 245\u001b[0;31m         \u001b[0mtorch\u001b[0m\u001b[0;34m.\u001b[0m\u001b[0mautograd\u001b[0m\u001b[0;34m.\u001b[0m\u001b[0mbackward\u001b[0m\u001b[0;34m(\u001b[0m\u001b[0mself\u001b[0m\u001b[0;34m,\u001b[0m \u001b[0mgradient\u001b[0m\u001b[0;34m,\u001b[0m \u001b[0mretain_graph\u001b[0m\u001b[0;34m,\u001b[0m \u001b[0mcreate_graph\u001b[0m\u001b[0;34m,\u001b[0m \u001b[0minputs\u001b[0m\u001b[0;34m=\u001b[0m\u001b[0minputs\u001b[0m\u001b[0;34m)\u001b[0m\u001b[0;34m\u001b[0m\u001b[0;34m\u001b[0m\u001b[0m\n\u001b[0m\u001b[1;32m    246\u001b[0m \u001b[0;34m\u001b[0m\u001b[0m\n\u001b[1;32m    247\u001b[0m     \u001b[0;32mdef\u001b[0m \u001b[0mregister_hook\u001b[0m\u001b[0;34m(\u001b[0m\u001b[0mself\u001b[0m\u001b[0;34m,\u001b[0m \u001b[0mhook\u001b[0m\u001b[0;34m)\u001b[0m\u001b[0;34m:\u001b[0m\u001b[0;34m\u001b[0m\u001b[0;34m\u001b[0m\u001b[0m\n",
            "\u001b[0;32m/usr/local/lib/python3.7/dist-packages/torch/autograd/__init__.py\u001b[0m in \u001b[0;36mbackward\u001b[0;34m(tensors, grad_tensors, retain_graph, create_graph, grad_variables, inputs)\u001b[0m\n\u001b[1;32m    145\u001b[0m     Variable._execution_engine.run_backward(\n\u001b[1;32m    146\u001b[0m         \u001b[0mtensors\u001b[0m\u001b[0;34m,\u001b[0m \u001b[0mgrad_tensors_\u001b[0m\u001b[0;34m,\u001b[0m \u001b[0mretain_graph\u001b[0m\u001b[0;34m,\u001b[0m \u001b[0mcreate_graph\u001b[0m\u001b[0;34m,\u001b[0m \u001b[0minputs\u001b[0m\u001b[0;34m,\u001b[0m\u001b[0;34m\u001b[0m\u001b[0;34m\u001b[0m\u001b[0m\n\u001b[0;32m--> 147\u001b[0;31m         allow_unreachable=True, accumulate_grad=True)  # allow_unreachable flag\n\u001b[0m\u001b[1;32m    148\u001b[0m \u001b[0;34m\u001b[0m\u001b[0m\n\u001b[1;32m    149\u001b[0m \u001b[0;34m\u001b[0m\u001b[0m\n",
            "\u001b[0;31mKeyboardInterrupt\u001b[0m: "
          ]
        }
      ]
    },
    {
      "cell_type": "code",
      "metadata": {
        "id": "G8ElxXYdSM7x"
      },
      "source": [
        ""
      ],
      "execution_count": null,
      "outputs": []
    }
  ]
}