{
 "cells": [
  {
   "cell_type": "code",
   "execution_count": 2,
   "metadata": {},
   "outputs": [],
   "source": [
    "# !pip install sklearn\n",
    "%load_ext autoreload\n",
    "%autoreload 2"
   ]
  },
  {
   "cell_type": "code",
   "execution_count": 3,
   "metadata": {},
   "outputs": [],
   "source": [
    "import sklearn\n",
    "import numpy as np\n",
    "from utils._utils import *\n",
    "import pandas as pd"
   ]
  },
  {
   "cell_type": "code",
   "execution_count": 4,
   "metadata": {},
   "outputs": [],
   "source": [
    "root = get_root()\n",
    "data = get_data()\n",
    "zoltar_truth = pd.read_csv(root/'data-truth'/'zoltar-truth.csv', parse_dates=['timezero'], infer_datetime_format=True)"
   ]
  },
  {
   "cell_type": "code",
   "execution_count": 5,
   "metadata": {},
   "outputs": [
    {
     "data": {
      "text/html": [
       "<div>\n",
       "<style scoped>\n",
       "    .dataframe tbody tr th:only-of-type {\n",
       "        vertical-align: middle;\n",
       "    }\n",
       "\n",
       "    .dataframe tbody tr th {\n",
       "        vertical-align: top;\n",
       "    }\n",
       "\n",
       "    .dataframe thead th {\n",
       "        text-align: right;\n",
       "    }\n",
       "</style>\n",
       "<table border=\"1\" class=\"dataframe\">\n",
       "  <thead>\n",
       "    <tr style=\"text-align: right;\">\n",
       "      <th></th>\n",
       "      <th>timezero</th>\n",
       "      <th>unit</th>\n",
       "      <th>target</th>\n",
       "      <th>value</th>\n",
       "    </tr>\n",
       "  </thead>\n",
       "  <tbody>\n",
       "    <tr>\n",
       "      <th>0</th>\n",
       "      <td>2020-05-05</td>\n",
       "      <td>01</td>\n",
       "      <td>1 wk ahead cum death</td>\n",
       "      <td>485.0</td>\n",
       "    </tr>\n",
       "    <tr>\n",
       "      <th>1</th>\n",
       "      <td>2020-05-05</td>\n",
       "      <td>02</td>\n",
       "      <td>1 wk ahead cum death</td>\n",
       "      <td>10.0</td>\n",
       "    </tr>\n",
       "    <tr>\n",
       "      <th>2</th>\n",
       "      <td>2020-05-05</td>\n",
       "      <td>60</td>\n",
       "      <td>1 wk ahead cum death</td>\n",
       "      <td>0.0</td>\n",
       "    </tr>\n",
       "    <tr>\n",
       "      <th>3</th>\n",
       "      <td>2020-05-05</td>\n",
       "      <td>04</td>\n",
       "      <td>1 wk ahead cum death</td>\n",
       "      <td>679.0</td>\n",
       "    </tr>\n",
       "    <tr>\n",
       "      <th>4</th>\n",
       "      <td>2020-05-05</td>\n",
       "      <td>05</td>\n",
       "      <td>1 wk ahead cum death</td>\n",
       "      <td>98.0</td>\n",
       "    </tr>\n",
       "    <tr>\n",
       "      <th>...</th>\n",
       "      <td>...</td>\n",
       "      <td>...</td>\n",
       "      <td>...</td>\n",
       "      <td>...</td>\n",
       "    </tr>\n",
       "    <tr>\n",
       "      <th>283815</th>\n",
       "      <td>2020-01-06</td>\n",
       "      <td>51</td>\n",
       "      <td>20 wk ahead inc death</td>\n",
       "      <td>156.0</td>\n",
       "    </tr>\n",
       "    <tr>\n",
       "      <th>283816</th>\n",
       "      <td>2020-01-06</td>\n",
       "      <td>53</td>\n",
       "      <td>20 wk ahead inc death</td>\n",
       "      <td>51.0</td>\n",
       "    </tr>\n",
       "    <tr>\n",
       "      <th>283817</th>\n",
       "      <td>2020-01-06</td>\n",
       "      <td>54</td>\n",
       "      <td>20 wk ahead inc death</td>\n",
       "      <td>8.0</td>\n",
       "    </tr>\n",
       "    <tr>\n",
       "      <th>283818</th>\n",
       "      <td>2020-01-06</td>\n",
       "      <td>55</td>\n",
       "      <td>20 wk ahead inc death</td>\n",
       "      <td>54.0</td>\n",
       "    </tr>\n",
       "    <tr>\n",
       "      <th>283819</th>\n",
       "      <td>2020-01-06</td>\n",
       "      <td>56</td>\n",
       "      <td>20 wk ahead inc death</td>\n",
       "      <td>5.0</td>\n",
       "    </tr>\n",
       "  </tbody>\n",
       "</table>\n",
       "<p>283820 rows × 4 columns</p>\n",
       "</div>"
      ],
      "text/plain": [
       "         timezero unit                 target  value\n",
       "0      2020-05-05   01   1 wk ahead cum death  485.0\n",
       "1      2020-05-05   02   1 wk ahead cum death   10.0\n",
       "2      2020-05-05   60   1 wk ahead cum death    0.0\n",
       "3      2020-05-05   04   1 wk ahead cum death  679.0\n",
       "4      2020-05-05   05   1 wk ahead cum death   98.0\n",
       "...           ...  ...                    ...    ...\n",
       "283815 2020-01-06   51  20 wk ahead inc death  156.0\n",
       "283816 2020-01-06   53  20 wk ahead inc death   51.0\n",
       "283817 2020-01-06   54  20 wk ahead inc death    8.0\n",
       "283818 2020-01-06   55  20 wk ahead inc death   54.0\n",
       "283819 2020-01-06   56  20 wk ahead inc death    5.0\n",
       "\n",
       "[283820 rows x 4 columns]"
      ]
     },
     "execution_count": 5,
     "metadata": {},
     "output_type": "execute_result"
    }
   ],
   "source": [
    "zoltar_truth"
   ]
  },
  {
   "cell_type": "code",
   "execution_count": 6,
   "metadata": {},
   "outputs": [],
   "source": [
    "forecasts = get_forecast_files()"
   ]
  },
  {
   "cell_type": "code",
   "execution_count": 7,
   "metadata": {},
   "outputs": [],
   "source": [
    "def filter_model(df):\n",
    "    # filter out all forecasts that are not `point` type\n",
    "    # and remove `quantile` and `type` columns\n",
    "    df = df[df['type'] == 'point'].drop(['quantile', 'type'], axis='columns')\n",
    "    \n",
    "#     df.set_index('forecast_date', inplace=True)\n",
    "    return df\n",
    "    pass"
   ]
  },
  {
   "cell_type": "code",
   "execution_count": 14,
   "metadata": {},
   "outputs": [
    {
     "data": {
      "text/plain": [
       "0       -1\n",
       "1       -1\n",
       "2       -1\n",
       "3       -1\n",
       "4       -1\n",
       "        ..\n",
       "9985    -1\n",
       "9986    -1\n",
       "9987    -1\n",
       "9988    -1\n",
       "9989    -1\n",
       "Name: location, Length: 198, dtype: object"
      ]
     },
     "metadata": {},
     "output_type": "display_data"
    }
   ],
   "source": [
    "for f in forecasts:\n",
    "    model_df = pd.read_csv(f, parse_dates=['forecast_date'], infer_datetime_format=True)\n",
    "    x_f = filter_model(model_df)\n",
    "#     display(x_f)\n",
    "    model_df.loc[model_df['location'] == 'US'] = '-1'\n",
    "    display(model_df[model_df['location'] == '-1']['location'])\n",
    "    break"
   ]
  },
  {
   "cell_type": "code",
   "execution_count": null,
   "metadata": {},
   "outputs": [],
   "source": []
  },
  {
   "cell_type": "code",
   "execution_count": null,
   "metadata": {},
   "outputs": [],
   "source": [
    "\n",
    "\n"
   ]
  }
 ],
 "metadata": {
  "kernelspec": {
   "display_name": "Python 3",
   "language": "python",
   "name": "python3"
  },
  "language_info": {
   "codemirror_mode": {
    "name": "ipython",
    "version": 3
   },
   "file_extension": ".py",
   "mimetype": "text/x-python",
   "name": "python",
   "nbconvert_exporter": "python",
   "pygments_lexer": "ipython3",
   "version": "3.8.3"
  }
 },
 "nbformat": 4,
 "nbformat_minor": 4
}
