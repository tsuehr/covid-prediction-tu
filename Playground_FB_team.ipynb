{
  "nbformat": 4,
  "nbformat_minor": 0,
  "metadata": {
    "colab": {
      "name": "Converted_From_STAN.ipynb",
      "provenance": [],
      "mount_file_id": "1RL_8C4oWduzvwt9cL2d26jDJcQXETYQd",
      "authorship_tag": "ABX9TyPNllDD5qAx5NmxHpRbAFgi",
      "include_colab_link": true
    },
    "kernelspec": {
      "name": "python3",
      "display_name": "Python 3"
    },
    "language_info": {
      "name": "python"
    }
  },
  "cells": [
    {
      "cell_type": "markdown",
      "metadata": {
        "id": "view-in-github",
        "colab_type": "text"
      },
      "source": [
        "<a href=\"https://colab.research.google.com/github/tsuehr/covid-prediction-tu/blob/main/Playground_FB_team.ipynb\" target=\"_parent\"><img src=\"https://colab.research.google.com/assets/colab-badge.svg\" alt=\"Open In Colab\"/></a>"
      ]
    },
    {
      "cell_type": "code",
      "metadata": {
        "colab": {
          "base_uri": "https://localhost:8080/"
        },
        "id": "SxrggusqYe5F",
        "outputId": "6e62c7b6-08a0-4722-9ee9-7784153e660c"
      },
      "source": [
        "!pip install rpy2\n",
        "!pip install pyreadr"
      ],
      "execution_count": null,
      "outputs": [
        {
          "output_type": "stream",
          "text": [
            "Requirement already satisfied: rpy2 in /usr/local/lib/python3.7/dist-packages (3.4.4)\n",
            "Requirement already satisfied: pytz in /usr/local/lib/python3.7/dist-packages (from rpy2) (2018.9)\n",
            "Requirement already satisfied: jinja2 in /usr/local/lib/python3.7/dist-packages (from rpy2) (2.11.3)\n",
            "Requirement already satisfied: tzlocal in /usr/local/lib/python3.7/dist-packages (from rpy2) (1.5.1)\n",
            "Requirement already satisfied: cffi>=1.10.0 in /usr/local/lib/python3.7/dist-packages (from rpy2) (1.14.5)\n",
            "Requirement already satisfied: MarkupSafe>=0.23 in /usr/local/lib/python3.7/dist-packages (from jinja2->rpy2) (2.0.0)\n",
            "Requirement already satisfied: pycparser in /usr/local/lib/python3.7/dist-packages (from cffi>=1.10.0->rpy2) (2.20)\n"
          ],
          "name": "stdout"
        }
      ]
    },
    {
      "cell_type": "code",
      "metadata": {
        "colab": {
          "base_uri": "https://localhost:8080/"
        },
        "id": "esoDZLGLTlCd",
        "outputId": "1435e0da-1b5b-4cdf-89b5-ca5670b4de1b"
      },
      "source": [
        "!pip install pystan"
      ],
      "execution_count": null,
      "outputs": [
        {
          "output_type": "stream",
          "text": [
            "Requirement already satisfied: pystan in /usr/local/lib/python3.7/dist-packages (2.19.1.1)\n",
            "Requirement already satisfied: numpy>=1.7 in /usr/local/lib/python3.7/dist-packages (from pystan) (1.19.5)\n",
            "Requirement already satisfied: Cython!=0.25.1,>=0.22 in /usr/local/lib/python3.7/dist-packages (from pystan) (0.29.23)\n"
          ],
          "name": "stdout"
        }
      ]
    },
    {
      "cell_type": "code",
      "metadata": {
        "colab": {
          "base_uri": "https://localhost:8080/"
        },
        "id": "ZdiKM0LcW5nt",
        "outputId": "7f0c5021-7810-4c2a-a18f-7eeb5fc3f67f"
      },
      "source": [
        "cd /content/drive/MyDrive/nature"
      ],
      "execution_count": null,
      "outputs": [
        {
          "output_type": "stream",
          "text": [
            "/content/drive/MyDrive/nature\n"
          ],
          "name": "stdout"
        }
      ]
    },
    {
      "cell_type": "code",
      "metadata": {
        "colab": {
          "base_uri": "https://localhost:8080/"
        },
        "id": "40MNG7lJXpNC",
        "outputId": "287c08e5-ac36-46bb-f388-fe0f02a8aa88"
      },
      "source": [
        "import pystan\n",
        "model = pystan.StanModel(file=\"/content/drive/MyDrive/nature/stan-models/base-nature.stan\")"
      ],
      "execution_count": null,
      "outputs": [
        {
          "output_type": "stream",
          "text": [
            "INFO:pystan:COMPILING THE C++ CODE FOR MODEL anon_model_9b48b380de188c49fae3f2200d057673 NOW.\n"
          ],
          "name": "stderr"
        }
      ]
    },
    {
      "cell_type": "code",
      "metadata": {
        "id": "tN2TO4UIYsau"
      },
      "source": [
        "import rpy2.robjects as objects \n",
        "import rpy2.robjects as rpackages \n",
        "from rpy2.robjects.vectors import StrVector"
      ],
      "execution_count": null,
      "outputs": []
    },
    {
      "cell_type": "code",
      "metadata": {
        "colab": {
          "base_uri": "https://localhost:8080/",
          "height": 418
        },
        "id": "LUC-vzudY7oN",
        "outputId": "a682436d-a197-4843-d478-ffc2fe262b6a"
      },
      "source": [
        "package_names = ('rstan', 'data.table', 'lubridate', 'gdata', 'dplyr', 'tidyr', 'EnvStats', 'optparse', 'stringr', 'bayesplot', 'matrixStats', 'scales', 'gridExtra', 'ggpubr', 'cowplot', 'ggplot2', 'abind')\n",
        "\n",
        "if all(rpackages.isinstalled(x) for x in package_names):\n",
        "  have_package = True\n",
        "\n",
        "else:\n",
        "  have_package = False\n",
        "\n",
        "if not have_package:\n",
        "\n",
        "  utils = rpackages.importr('utils')\n",
        "  utils.chooseCRANmirror(ind=1)\n",
        "\n",
        "  packnames_to_install = [ x for x in package_names if not rpackages.isinstalled(x) ]\n",
        "\n",
        "  if len(packnames_to_install) > 0:\n",
        "    utils.install_packages(StrVector(packnames_to_install))"
      ],
      "execution_count": null,
      "outputs": [
        {
          "output_type": "error",
          "ename": "AttributeError",
          "evalue": "ignored",
          "traceback": [
            "\u001b[0;31m---------------------------------------------------------------------------\u001b[0m",
            "\u001b[0;31mAttributeError\u001b[0m                            Traceback (most recent call last)",
            "\u001b[0;32m<ipython-input-12-a0c313efd509>\u001b[0m in \u001b[0;36m<module>\u001b[0;34m()\u001b[0m\n\u001b[1;32m      1\u001b[0m \u001b[0mpackage_names\u001b[0m \u001b[0;34m=\u001b[0m \u001b[0;34m(\u001b[0m\u001b[0;34m'rstan'\u001b[0m\u001b[0;34m,\u001b[0m \u001b[0;34m'data.table'\u001b[0m\u001b[0;34m,\u001b[0m \u001b[0;34m'lubridate'\u001b[0m\u001b[0;34m,\u001b[0m \u001b[0;34m'gdata'\u001b[0m\u001b[0;34m,\u001b[0m \u001b[0;34m'dplyr'\u001b[0m\u001b[0;34m,\u001b[0m \u001b[0;34m'tidyr'\u001b[0m\u001b[0;34m,\u001b[0m \u001b[0;34m'EnvStats'\u001b[0m\u001b[0;34m,\u001b[0m \u001b[0;34m'optparse'\u001b[0m\u001b[0;34m,\u001b[0m \u001b[0;34m'stringr'\u001b[0m\u001b[0;34m,\u001b[0m \u001b[0;34m'bayesplot'\u001b[0m\u001b[0;34m,\u001b[0m \u001b[0;34m'matrixStats'\u001b[0m\u001b[0;34m,\u001b[0m \u001b[0;34m'scales'\u001b[0m\u001b[0;34m,\u001b[0m \u001b[0;34m'gridExtra'\u001b[0m\u001b[0;34m,\u001b[0m \u001b[0;34m'ggpubr'\u001b[0m\u001b[0;34m,\u001b[0m \u001b[0;34m'cowplot'\u001b[0m\u001b[0;34m,\u001b[0m \u001b[0;34m'ggplot2'\u001b[0m\u001b[0;34m,\u001b[0m \u001b[0;34m'abind'\u001b[0m\u001b[0;34m)\u001b[0m\u001b[0;34m\u001b[0m\u001b[0;34m\u001b[0m\u001b[0m\n\u001b[1;32m      2\u001b[0m \u001b[0;34m\u001b[0m\u001b[0m\n\u001b[0;32m----> 3\u001b[0;31m \u001b[0;32mif\u001b[0m \u001b[0mall\u001b[0m\u001b[0;34m(\u001b[0m\u001b[0mrpackages\u001b[0m\u001b[0;34m.\u001b[0m\u001b[0misinstalled\u001b[0m\u001b[0;34m(\u001b[0m\u001b[0mx\u001b[0m\u001b[0;34m)\u001b[0m \u001b[0;32mfor\u001b[0m \u001b[0mx\u001b[0m \u001b[0;32min\u001b[0m \u001b[0mpackage_names\u001b[0m\u001b[0;34m)\u001b[0m\u001b[0;34m:\u001b[0m\u001b[0;34m\u001b[0m\u001b[0;34m\u001b[0m\u001b[0m\n\u001b[0m\u001b[1;32m      4\u001b[0m   \u001b[0mhave_package\u001b[0m \u001b[0;34m=\u001b[0m \u001b[0;32mTrue\u001b[0m\u001b[0;34m\u001b[0m\u001b[0;34m\u001b[0m\u001b[0m\n\u001b[1;32m      5\u001b[0m \u001b[0;34m\u001b[0m\u001b[0m\n",
            "\u001b[0;32m<ipython-input-12-a0c313efd509>\u001b[0m in \u001b[0;36m<genexpr>\u001b[0;34m(.0)\u001b[0m\n\u001b[1;32m      1\u001b[0m \u001b[0mpackage_names\u001b[0m \u001b[0;34m=\u001b[0m \u001b[0;34m(\u001b[0m\u001b[0;34m'rstan'\u001b[0m\u001b[0;34m,\u001b[0m \u001b[0;34m'data.table'\u001b[0m\u001b[0;34m,\u001b[0m \u001b[0;34m'lubridate'\u001b[0m\u001b[0;34m,\u001b[0m \u001b[0;34m'gdata'\u001b[0m\u001b[0;34m,\u001b[0m \u001b[0;34m'dplyr'\u001b[0m\u001b[0;34m,\u001b[0m \u001b[0;34m'tidyr'\u001b[0m\u001b[0;34m,\u001b[0m \u001b[0;34m'EnvStats'\u001b[0m\u001b[0;34m,\u001b[0m \u001b[0;34m'optparse'\u001b[0m\u001b[0;34m,\u001b[0m \u001b[0;34m'stringr'\u001b[0m\u001b[0;34m,\u001b[0m \u001b[0;34m'bayesplot'\u001b[0m\u001b[0;34m,\u001b[0m \u001b[0;34m'matrixStats'\u001b[0m\u001b[0;34m,\u001b[0m \u001b[0;34m'scales'\u001b[0m\u001b[0;34m,\u001b[0m \u001b[0;34m'gridExtra'\u001b[0m\u001b[0;34m,\u001b[0m \u001b[0;34m'ggpubr'\u001b[0m\u001b[0;34m,\u001b[0m \u001b[0;34m'cowplot'\u001b[0m\u001b[0;34m,\u001b[0m \u001b[0;34m'ggplot2'\u001b[0m\u001b[0;34m,\u001b[0m \u001b[0;34m'abind'\u001b[0m\u001b[0;34m)\u001b[0m\u001b[0;34m\u001b[0m\u001b[0;34m\u001b[0m\u001b[0m\n\u001b[1;32m      2\u001b[0m \u001b[0;34m\u001b[0m\u001b[0m\n\u001b[0;32m----> 3\u001b[0;31m \u001b[0;32mif\u001b[0m \u001b[0mall\u001b[0m\u001b[0;34m(\u001b[0m\u001b[0mrpackages\u001b[0m\u001b[0;34m.\u001b[0m\u001b[0misinstalled\u001b[0m\u001b[0;34m(\u001b[0m\u001b[0mx\u001b[0m\u001b[0;34m)\u001b[0m \u001b[0;32mfor\u001b[0m \u001b[0mx\u001b[0m \u001b[0;32min\u001b[0m \u001b[0mpackage_names\u001b[0m\u001b[0;34m)\u001b[0m\u001b[0;34m:\u001b[0m\u001b[0;34m\u001b[0m\u001b[0;34m\u001b[0m\u001b[0m\n\u001b[0m\u001b[1;32m      4\u001b[0m   \u001b[0mhave_package\u001b[0m \u001b[0;34m=\u001b[0m \u001b[0;32mTrue\u001b[0m\u001b[0;34m\u001b[0m\u001b[0;34m\u001b[0m\u001b[0m\n\u001b[1;32m      5\u001b[0m \u001b[0;34m\u001b[0m\u001b[0m\n",
            "\u001b[0;31mAttributeError\u001b[0m: module 'rpy2.robjects' has no attribute 'isinstalled'"
          ]
        }
      ]
    },
    {
      "cell_type": "code",
      "metadata": {
        "id": "UWTZu-TvZ_94"
      },
      "source": [
        "source('nature/utils/process-covariates.r')\n",
        "\n",
        "# Commandline options and parsing\n",
        "parser <- OptionParser()\n",
        "parser <- add_option(parser, c(\"-D\", \"--debug\"), action=\"store_true\",\n",
        "                     help=\"Perform a debug run of the model\")\n",
        "parser <- add_option(parser, c(\"-F\", \"--full\"), action=\"store_true\",\n",
        "                     help=\"Perform a full run of the model\")\n",
        "cmdoptions <- parse_args(parser, args = commandArgs(trailingOnly = TRUE), positional_arguments = TRUE)\n",
        "\n",
        "# Default run parameters for the model\n",
        "if(is.null(cmdoptions$options$debug)) {\n",
        "  DEBUG = Sys.getenv(\"DEBUG\") == \"TRUE\"\n",
        "} else {\n",
        "  DEBUG = cmdoptions$options$debug\n",
        "}\n",
        "\n",
        "# Sys.setenv(FULL = \"TRUE\")\n",
        "if(is.null(cmdoptions$options$full)) {\n",
        "  FULL = Sys.getenv(\"FULL\") == \"TRUE\"\n",
        "} else {\n",
        "  FULL = cmdoptions$options$full\n",
        "}\n",
        "\n",
        "if(DEBUG && FULL) {\n",
        "  stop(\"Setting both debug and full run modes at once is invalid\")\n",
        "}\n",
        "\n",
        "if(length(cmdoptions$args) == 0) {\n",
        "  StanModel = 'base-nature'\n",
        "} else {\n",
        "  StanModel = cmdoptions$args[1]\n",
        "}\n",
        "\n",
        "print(sprintf(\"Running %s\",StanModel))\n",
        "if(DEBUG) {\n",
        "  print(\"Running in DEBUG mode\")\n",
        "} else if (FULL) {\n",
        "  print(\"Running in FULL mode\")\n",
        "}\n",
        "\n",
        "cat(sprintf(\"Running:\\nStanModel = %s\\nDebug: %s\\n\",\n",
        "            StanModel,DEBUG))\n",
        "\n",
        "# Read which countires to use\n",
        "countries <- readRDS('nature/data/regions.rds')\n",
        "# Read deaths data for regions\n",
        "d <- readRDS('nature/data/COVID-19-up-to-date.rds')\n",
        "# Read IFR and pop by country\n",
        "ifr.by.country <- readRDS('nature/data/popt-ifr.rds')\n",
        "\n",
        "# Read interventions\n",
        "interventions <- readRDS('nature/data/interventions.rds')\n",
        "\n",
        "forecast <- 0 # increase to get correct number of days to simulate\n",
        "# Maximum number of days to simulate\n",
        "N2 <- (max(d$DateRep) - min(d$DateRep) + 1 + forecast)[[1]]\n",
        "\n",
        "processed_data <- process_covariates(countries = countries, interventions = interventions, \n",
        "                                     d = d , ifr.by.country = ifr.by.country, N2 = N2)\n",
        "\n",
        "stan_data = processed_data$stan_data\n",
        "dates = processed_data$dates\n",
        "deaths_by_country = processed_data$deaths_by_country\n",
        "reported_cases = processed_data$reported_cases\n",
        "options(mc.cores = parallel::detectCores())\n",
        "rstan_options(auto_write = TRUE)\n",
        "m = stan_model(paste0('nature/stan-models/',StanModel,'.stan'))\n",
        "\n",
        "if(DEBUG) {\n",
        "  fit = sampling(m,data=stan_data,iter=40,warmup=20,chains=2)\n",
        "} else if (FULL) {\n",
        "  fit = sampling(m,data=stan_data,iter=1800,warmup=1000,chains=5,thin=1,control = list(adapt_delta = 0.99, max_treedepth = 20))\n",
        "} else { \n",
        "  fit = sampling(m,data=stan_data,iter=600,warmup=300,chains=4,thin=1,control = list(adapt_delta = 0.95, max_treedepth = 10))\n",
        "}   \n",
        "\n",
        "out = rstan::extract(fit)\n",
        "prediction = out$prediction\n",
        "estimated.deaths = out$E_deaths\n",
        "estimated.deaths.cf = out$E_deaths0\n",
        "\n",
        "JOBID = Sys.getenv(\"PBS_JOBID\")\n",
        "if(JOBID == \"\")\n",
        "  JOBID = as.character(abs(round(rnorm(1) * 1000000)))\n",
        "print(sprintf(\"Jobid = %s\",JOBID))\n",
        "\n",
        "countries <- countries$Regions\n",
        "save(fit,prediction,dates,reported_cases,deaths_by_country,countries,estimated.deaths,estimated.deaths.cf,stan_data, file=paste0('nature/results/',StanModel,'-',JOBID,'-stanfit.Rdata'))\n",
        "\n",
        "\n",
        "library(bayesplot)\n",
        "filename <- paste0(StanModel,'-',JOBID)\n",
        "\n",
        "print('Generating mu, rt plots')\n",
        "mu = (as.matrix(out$mu))\n",
        "colnames(mu) = countries\n",
        "g = (mcmc_intervals(mu,prob = .9))\n",
        "ggsave(sprintf(\"nature/figures/%s-mu.png\",filename),g,width=4,height=6)\n",
        "tmp = lapply(1:length(countries), function(i) (out$Rt_adj[,stan_data$N[i],i]))\n",
        "Rt_adj = do.call(cbind,tmp)\n",
        "colnames(Rt_adj) = countries\n",
        "g = (mcmc_intervals(Rt_adj,prob = .9))\n",
        "ggsave(sprintf(\"nature/figures/%s-final-rt.png\",filename),g,width=4,height=6)\n",
        "\n",
        "print(\"Generate 3-panel plots\")\n",
        "source('nature/utils/plot-3-panel.r')\n",
        "make_three_panel_plot(filename)\n",
        "\n",
        "print('Covars plots')\n",
        "source('nature/utils/covariate-size-effects.r')\n",
        "plot_covars(filename)\n",
        "\n",
        "print('Making table')\n",
        "source('nature/utils/make-table.r')\n",
        "make_table(filename)\n"
      ],
      "execution_count": null,
      "outputs": []
    }
  ]
}