{
  "nbformat": 4,
  "nbformat_minor": 0,
  "metadata": {
    "colab": {
      "name": "CovidPrediction_DataPreprocessing.ipynb",
      "provenance": [],
      "collapsed_sections": [],
      "toc_visible": true
    },
    "kernelspec": {
      "name": "python3",
      "display_name": "Python 3"
    },
    "language_info": {
      "name": "python"
    }
  },
  "cells": [
    {
      "cell_type": "code",
      "metadata": {
        "id": "AswQvoinQOOj"
      },
      "source": [
        "import pandas as pd\n",
        "import numpy as np\n",
        "import matplotlib.pyplot as plt\n"
      ],
      "execution_count": 31,
      "outputs": []
    },
    {
      "cell_type": "code",
      "metadata": {
        "colab": {
          "base_uri": "https://localhost:8080/"
        },
        "id": "h2zxGXXqhj4Y",
        "outputId": "90a7e0e1-ad8d-48e8-d94b-e86a96631d36"
      },
      "source": [
        "from google.colab import drive\n",
        "drive.mount('/content/drive')"
      ],
      "execution_count": 2,
      "outputs": [
        {
          "output_type": "stream",
          "text": [
            "Mounted at /content/drive\n"
          ],
          "name": "stdout"
        }
      ]
    },
    {
      "cell_type": "code",
      "metadata": {
        "colab": {
          "base_uri": "https://localhost:8080/"
        },
        "id": "ar1dLwa3hxSY",
        "outputId": "54965ddb-05f1-4af9-9b84-6040199f2e60"
      },
      "source": [
        "cd /content/drive/MyDrive/CovidPrediction/"
      ],
      "execution_count": 3,
      "outputs": [
        {
          "output_type": "stream",
          "text": [
            "/content/drive/MyDrive/CovidPrediction\n"
          ],
          "name": "stdout"
        }
      ]
    },
    {
      "cell_type": "markdown",
      "metadata": {
        "id": "z6B63XpUQcrU"
      },
      "source": [
        "# Preprocessing Observations\n",
        "We need the following Observations:\n",
        "- number of deaths (from Deaths_over_time.csv)\n",
        "- number of tests (test_pos_over_time.csv, test_pos_over_time_antigen.csv)\n",
        "- number of hospitalizations (newly_admitted_over_time.csv)\n",
        "- number of sero positives (?)"
      ]
    },
    {
      "cell_type": "markdown",
      "metadata": {
        "id": "E45F8DWNoJpm"
      },
      "source": [
        "Create Dataframes"
      ]
    },
    {
      "cell_type": "code",
      "metadata": {
        "id": "7UcaueX2QcBl",
        "colab": {
          "base_uri": "https://localhost:8080/",
          "height": 142
        },
        "outputId": "3748fd63-812c-4feb-edba-b10bf1c00c73"
      },
      "source": [
        "df_deaths = pd.read_csv('data/overvaagningsdata-covid19-17052021-hb41/Deaths_over_time.csv', sep=';', thousands='.', decimal=',')\n",
        "df_deaths.rename(columns={'Dato':'Date', 'Antal_døde':'Number_of_deaths'}, inplace=True)\n",
        "df_deaths.drop(df_deaths.tail(1).index,inplace=True) # drop last row\n",
        "df_deaths.tail(3)"
      ],
      "execution_count": null,
      "outputs": [
        {
          "output_type": "execute_result",
          "data": {
            "text/html": [
              "<div>\n",
              "<style scoped>\n",
              "    .dataframe tbody tr th:only-of-type {\n",
              "        vertical-align: middle;\n",
              "    }\n",
              "\n",
              "    .dataframe tbody tr th {\n",
              "        vertical-align: top;\n",
              "    }\n",
              "\n",
              "    .dataframe thead th {\n",
              "        text-align: right;\n",
              "    }\n",
              "</style>\n",
              "<table border=\"1\" class=\"dataframe\">\n",
              "  <thead>\n",
              "    <tr style=\"text-align: right;\">\n",
              "      <th></th>\n",
              "      <th>Date</th>\n",
              "      <th>Number_of_deaths</th>\n",
              "    </tr>\n",
              "  </thead>\n",
              "  <tbody>\n",
              "    <tr>\n",
              "      <th>430</th>\n",
              "      <td>2021-05-15</td>\n",
              "      <td>0</td>\n",
              "    </tr>\n",
              "    <tr>\n",
              "      <th>431</th>\n",
              "      <td>2021-05-16</td>\n",
              "      <td>1</td>\n",
              "    </tr>\n",
              "    <tr>\n",
              "      <th>432</th>\n",
              "      <td>2021-05-17</td>\n",
              "      <td>0</td>\n",
              "    </tr>\n",
              "  </tbody>\n",
              "</table>\n",
              "</div>"
            ],
            "text/plain": [
              "           Date  Number_of_deaths\n",
              "430  2021-05-15                 0\n",
              "431  2021-05-16                 1\n",
              "432  2021-05-17                 0"
            ]
          },
          "metadata": {
            "tags": []
          },
          "execution_count": 4
        }
      ]
    },
    {
      "cell_type": "code",
      "metadata": {
        "colab": {
          "base_uri": "https://localhost:8080/",
          "height": 142
        },
        "id": "TAS2K1lMjEg2",
        "outputId": "2c764431-a16e-4cce-bbd8-8758400694fb"
      },
      "source": [
        "df_tests_pcr = pd.read_csv('data/overvaagningsdata-covid19-17052021-hb41/Test_pos_over_time.csv', sep=';', thousands='.', decimal=',')\n",
        "df_tests_pcr.drop(df_tests_pcr.tail(2).index,inplace=True) # drop last 2 rows\n",
        "df_tests_pcr.drop(columns={'NotPrevPos', 'PrevPos', 'Tested_kumulativ'}, inplace=True)\n",
        "df_tests_pcr.tail(3)"
      ],
      "execution_count": null,
      "outputs": [
        {
          "output_type": "execute_result",
          "data": {
            "text/html": [
              "<div>\n",
              "<style scoped>\n",
              "    .dataframe tbody tr th:only-of-type {\n",
              "        vertical-align: middle;\n",
              "    }\n",
              "\n",
              "    .dataframe tbody tr th {\n",
              "        vertical-align: top;\n",
              "    }\n",
              "\n",
              "    .dataframe thead th {\n",
              "        text-align: right;\n",
              "    }\n",
              "</style>\n",
              "<table border=\"1\" class=\"dataframe\">\n",
              "  <thead>\n",
              "    <tr style=\"text-align: right;\">\n",
              "      <th></th>\n",
              "      <th>Date</th>\n",
              "      <th>NewPositive</th>\n",
              "      <th>PosPct</th>\n",
              "      <th>Tested</th>\n",
              "    </tr>\n",
              "  </thead>\n",
              "  <tbody>\n",
              "    <tr>\n",
              "      <th>473</th>\n",
              "      <td>2021-05-14</td>\n",
              "      <td>875</td>\n",
              "      <td>0.5</td>\n",
              "      <td>167338</td>\n",
              "    </tr>\n",
              "    <tr>\n",
              "      <th>474</th>\n",
              "      <td>2021-05-15</td>\n",
              "      <td>936</td>\n",
              "      <td>0.7</td>\n",
              "      <td>139267</td>\n",
              "    </tr>\n",
              "    <tr>\n",
              "      <th>475</th>\n",
              "      <td>2021-05-16</td>\n",
              "      <td>275</td>\n",
              "      <td>0.6</td>\n",
              "      <td>49910</td>\n",
              "    </tr>\n",
              "  </tbody>\n",
              "</table>\n",
              "</div>"
            ],
            "text/plain": [
              "           Date  NewPositive  PosPct  Tested\n",
              "473  2021-05-14          875     0.5  167338\n",
              "474  2021-05-15          936     0.7  139267\n",
              "475  2021-05-16          275     0.6   49910"
            ]
          },
          "metadata": {
            "tags": []
          },
          "execution_count": 5
        }
      ]
    },
    {
      "cell_type": "code",
      "metadata": {
        "colab": {
          "base_uri": "https://localhost:8080/",
          "height": 142
        },
        "id": "iQg6T6SZjtTa",
        "outputId": "ae34f312-3d8c-45a9-9921-fe782daba2fc"
      },
      "source": [
        "df_tests_antigen = pd.read_csv('data/overvaagningsdata-covid19-17052021-hb41/Test_pos_over_time_antigen.csv', sep=';', thousands='.', decimal=',')\n",
        "df_tests_antigen.drop(df_tests_antigen.tail(2).index,inplace=True) # drop last 2 rows\n",
        "df_tests_antigen.drop(columns={'NotPrevPos', 'PrevPos', 'Tested_kumulativ'}, inplace=True)\n",
        "df_tests_antigen.tail(3)"
      ],
      "execution_count": null,
      "outputs": [
        {
          "output_type": "execute_result",
          "data": {
            "text/html": [
              "<div>\n",
              "<style scoped>\n",
              "    .dataframe tbody tr th:only-of-type {\n",
              "        vertical-align: middle;\n",
              "    }\n",
              "\n",
              "    .dataframe tbody tr th {\n",
              "        vertical-align: top;\n",
              "    }\n",
              "\n",
              "    .dataframe thead th {\n",
              "        text-align: right;\n",
              "    }\n",
              "</style>\n",
              "<table border=\"1\" class=\"dataframe\">\n",
              "  <thead>\n",
              "    <tr style=\"text-align: right;\">\n",
              "      <th></th>\n",
              "      <th>Date</th>\n",
              "      <th>NewPositive</th>\n",
              "      <th>PosPct</th>\n",
              "      <th>Tested</th>\n",
              "    </tr>\n",
              "  </thead>\n",
              "  <tbody>\n",
              "    <tr>\n",
              "      <th>401</th>\n",
              "      <td>2021-05-14</td>\n",
              "      <td>365</td>\n",
              "      <td>0.1</td>\n",
              "      <td>322404</td>\n",
              "    </tr>\n",
              "    <tr>\n",
              "      <th>402</th>\n",
              "      <td>2021-05-15</td>\n",
              "      <td>302</td>\n",
              "      <td>0.1</td>\n",
              "      <td>263018</td>\n",
              "    </tr>\n",
              "    <tr>\n",
              "      <th>403</th>\n",
              "      <td>2021-05-16</td>\n",
              "      <td>341</td>\n",
              "      <td>0.1</td>\n",
              "      <td>304357</td>\n",
              "    </tr>\n",
              "  </tbody>\n",
              "</table>\n",
              "</div>"
            ],
            "text/plain": [
              "           Date  NewPositive  PosPct  Tested\n",
              "401  2021-05-14          365     0.1  322404\n",
              "402  2021-05-15          302     0.1  263018\n",
              "403  2021-05-16          341     0.1  304357"
            ]
          },
          "metadata": {
            "tags": []
          },
          "execution_count": 6
        }
      ]
    },
    {
      "cell_type": "code",
      "metadata": {
        "colab": {
          "base_uri": "https://localhost:8080/",
          "height": 142
        },
        "id": "aVBzBxomlo_7",
        "outputId": "b8723168-a4ee-43f4-db90-5727f5768e5f"
      },
      "source": [
        "df_hospitalizations = pd.read_csv('data/overvaagningsdata-covid19-17052021-hb41/Newly_admitted_over_time.csv', sep=';', thousands='.', decimal=',', dtype={'Total': np.int32})\n",
        "df_hospitalizations.drop(columns={'Hovedstaden', 'Sjælland', 'Syddanmark', 'Midtjylland', 'Nordjylland', 'Ukendt Region'}, inplace=True)\n",
        "df_hospitalizations.rename(columns={'Dato':'Date', 'Total':'Number_of_hospitalizations'}, inplace=True)\n",
        "df_hospitalizations.tail(3)"
      ],
      "execution_count": null,
      "outputs": [
        {
          "output_type": "execute_result",
          "data": {
            "text/html": [
              "<div>\n",
              "<style scoped>\n",
              "    .dataframe tbody tr th:only-of-type {\n",
              "        vertical-align: middle;\n",
              "    }\n",
              "\n",
              "    .dataframe tbody tr th {\n",
              "        vertical-align: top;\n",
              "    }\n",
              "\n",
              "    .dataframe thead th {\n",
              "        text-align: right;\n",
              "    }\n",
              "</style>\n",
              "<table border=\"1\" class=\"dataframe\">\n",
              "  <thead>\n",
              "    <tr style=\"text-align: right;\">\n",
              "      <th></th>\n",
              "      <th>Date</th>\n",
              "      <th>Number_of_hospitalizations</th>\n",
              "    </tr>\n",
              "  </thead>\n",
              "  <tbody>\n",
              "    <tr>\n",
              "      <th>439</th>\n",
              "      <td>2021-05-14</td>\n",
              "      <td>46</td>\n",
              "    </tr>\n",
              "    <tr>\n",
              "      <th>440</th>\n",
              "      <td>2021-05-15</td>\n",
              "      <td>32</td>\n",
              "    </tr>\n",
              "    <tr>\n",
              "      <th>441</th>\n",
              "      <td>2021-05-16</td>\n",
              "      <td>27</td>\n",
              "    </tr>\n",
              "  </tbody>\n",
              "</table>\n",
              "</div>"
            ],
            "text/plain": [
              "           Date  Number_of_hospitalizations\n",
              "439  2021-05-14                          46\n",
              "440  2021-05-15                          32\n",
              "441  2021-05-16                          27"
            ]
          },
          "metadata": {
            "tags": []
          },
          "execution_count": 7
        }
      ]
    },
    {
      "cell_type": "markdown",
      "metadata": {
        "id": "oXumdJkFoND-"
      },
      "source": [
        "Merge Dataframes"
      ]
    },
    {
      "cell_type": "code",
      "metadata": {
        "colab": {
          "base_uri": "https://localhost:8080/",
          "height": 309
        },
        "id": "VXIU9UgLl2Yx",
        "outputId": "1893b5c9-d5d9-4283-c6cd-c3aeaa74eb07"
      },
      "source": [
        "df_death_hosp = pd.merge(df_deaths, df_hospitalizations, how='left', on='Date')\n",
        "df_tests = pd.merge(df_tests_pcr, df_tests_antigen, how='left', on='Date', suffixes=('_pcr', '_antigen'))\n",
        "df_obs = pd.merge(df_death_hosp, df_tests, how='inner', on='Date')\n",
        "df_obs.fillna(value=0, inplace=True)\n",
        "df_obs.head()"
      ],
      "execution_count": null,
      "outputs": [
        {
          "output_type": "execute_result",
          "data": {
            "text/html": [
              "<div>\n",
              "<style scoped>\n",
              "    .dataframe tbody tr th:only-of-type {\n",
              "        vertical-align: middle;\n",
              "    }\n",
              "\n",
              "    .dataframe tbody tr th {\n",
              "        vertical-align: top;\n",
              "    }\n",
              "\n",
              "    .dataframe thead th {\n",
              "        text-align: right;\n",
              "    }\n",
              "</style>\n",
              "<table border=\"1\" class=\"dataframe\">\n",
              "  <thead>\n",
              "    <tr style=\"text-align: right;\">\n",
              "      <th></th>\n",
              "      <th>Date</th>\n",
              "      <th>Number_of_deaths</th>\n",
              "      <th>Number_of_hospitalizations</th>\n",
              "      <th>NewPositive_pcr</th>\n",
              "      <th>PosPct_pcr</th>\n",
              "      <th>Tested_pcr</th>\n",
              "      <th>NewPositive_antigen</th>\n",
              "      <th>PosPct_antigen</th>\n",
              "      <th>Tested_antigen</th>\n",
              "    </tr>\n",
              "  </thead>\n",
              "  <tbody>\n",
              "    <tr>\n",
              "      <th>0</th>\n",
              "      <td>2020-03-11</td>\n",
              "      <td>1</td>\n",
              "      <td>10.0</td>\n",
              "      <td>207</td>\n",
              "      <td>23.6</td>\n",
              "      <td>882</td>\n",
              "      <td>0.0</td>\n",
              "      <td>0.0</td>\n",
              "      <td>0.0</td>\n",
              "    </tr>\n",
              "    <tr>\n",
              "      <th>1</th>\n",
              "      <td>2020-03-12</td>\n",
              "      <td>0</td>\n",
              "      <td>18.0</td>\n",
              "      <td>44</td>\n",
              "      <td>6.6</td>\n",
              "      <td>676</td>\n",
              "      <td>0.0</td>\n",
              "      <td>0.0</td>\n",
              "      <td>0.0</td>\n",
              "    </tr>\n",
              "    <tr>\n",
              "      <th>2</th>\n",
              "      <td>2020-03-13</td>\n",
              "      <td>0</td>\n",
              "      <td>26.0</td>\n",
              "      <td>33</td>\n",
              "      <td>4.7</td>\n",
              "      <td>710</td>\n",
              "      <td>0.0</td>\n",
              "      <td>0.0</td>\n",
              "      <td>0.0</td>\n",
              "    </tr>\n",
              "    <tr>\n",
              "      <th>3</th>\n",
              "      <td>2020-03-14</td>\n",
              "      <td>1</td>\n",
              "      <td>24.0</td>\n",
              "      <td>37</td>\n",
              "      <td>6.4</td>\n",
              "      <td>583</td>\n",
              "      <td>0.0</td>\n",
              "      <td>0.0</td>\n",
              "      <td>0.0</td>\n",
              "    </tr>\n",
              "    <tr>\n",
              "      <th>4</th>\n",
              "      <td>2020-03-15</td>\n",
              "      <td>2</td>\n",
              "      <td>33.0</td>\n",
              "      <td>45</td>\n",
              "      <td>6.2</td>\n",
              "      <td>726</td>\n",
              "      <td>0.0</td>\n",
              "      <td>0.0</td>\n",
              "      <td>0.0</td>\n",
              "    </tr>\n",
              "  </tbody>\n",
              "</table>\n",
              "</div>"
            ],
            "text/plain": [
              "         Date  Number_of_deaths  ...  PosPct_antigen  Tested_antigen\n",
              "0  2020-03-11                 1  ...             0.0             0.0\n",
              "1  2020-03-12                 0  ...             0.0             0.0\n",
              "2  2020-03-13                 0  ...             0.0             0.0\n",
              "3  2020-03-14                 1  ...             0.0             0.0\n",
              "4  2020-03-15                 2  ...             0.0             0.0\n",
              "\n",
              "[5 rows x 9 columns]"
            ]
          },
          "metadata": {
            "tags": []
          },
          "execution_count": 8
        }
      ]
    },
    {
      "cell_type": "markdown",
      "metadata": {
        "id": "UXoKhwunqczE"
      },
      "source": [
        "Save Dataframe in new xlsx"
      ]
    },
    {
      "cell_type": "code",
      "metadata": {
        "id": "HcyaMQC_qNEM"
      },
      "source": [
        "#df_obs.to_excel('data/observations.xlsx')"
      ],
      "execution_count": null,
      "outputs": []
    },
    {
      "cell_type": "markdown",
      "metadata": {
        "id": "Gjp71hnZoMzF"
      },
      "source": [
        "# Preprocessing Google Mobility Data"
      ]
    },
    {
      "cell_type": "markdown",
      "metadata": {
        "id": "mRvsSVPpscuJ"
      },
      "source": [
        "## 2020 Data"
      ]
    },
    {
      "cell_type": "code",
      "metadata": {
        "colab": {
          "base_uri": "https://localhost:8080/",
          "height": 213
        },
        "id": "sj-MyG26oQLM",
        "outputId": "f570be5c-21ff-469f-d992-9176dbd63ff5"
      },
      "source": [
        "df_google_dk_2020 = pd.read_csv('data/Google_Region_Mobility/Denmark/2020_DK_Region_Mobility_Report.csv', sep=';', decimal='.')\n",
        "df_google_dk_2020.head(3)"
      ],
      "execution_count": 18,
      "outputs": [
        {
          "output_type": "execute_result",
          "data": {
            "text/html": [
              "<div>\n",
              "<style scoped>\n",
              "    .dataframe tbody tr th:only-of-type {\n",
              "        vertical-align: middle;\n",
              "    }\n",
              "\n",
              "    .dataframe tbody tr th {\n",
              "        vertical-align: top;\n",
              "    }\n",
              "\n",
              "    .dataframe thead th {\n",
              "        text-align: right;\n",
              "    }\n",
              "</style>\n",
              "<table border=\"1\" class=\"dataframe\">\n",
              "  <thead>\n",
              "    <tr style=\"text-align: right;\">\n",
              "      <th></th>\n",
              "      <th>country_region_code</th>\n",
              "      <th>country_region</th>\n",
              "      <th>sub_region_1</th>\n",
              "      <th>sub_region_2</th>\n",
              "      <th>metro_area</th>\n",
              "      <th>iso_3166_2_code</th>\n",
              "      <th>census_fips_code</th>\n",
              "      <th>place_id</th>\n",
              "      <th>date</th>\n",
              "      <th>retail_and_recreation_percent_change_from_baseline</th>\n",
              "      <th>grocery_and_pharmacy_percent_change_from_baseline</th>\n",
              "      <th>parks_percent_change_from_baseline</th>\n",
              "      <th>transit_stations_percent_change_from_baseline</th>\n",
              "      <th>workplaces_percent_change_from_baseline</th>\n",
              "      <th>residential_percent_change_from_baseline</th>\n",
              "    </tr>\n",
              "  </thead>\n",
              "  <tbody>\n",
              "    <tr>\n",
              "      <th>0</th>\n",
              "      <td>DK</td>\n",
              "      <td>Denmark</td>\n",
              "      <td>NaN</td>\n",
              "      <td>NaN</td>\n",
              "      <td>NaN</td>\n",
              "      <td>NaN</td>\n",
              "      <td>NaN</td>\n",
              "      <td>ChIJ-1-U7rYnS0YRzZLgw9BDh1I</td>\n",
              "      <td>15.02.20</td>\n",
              "      <td>-2.0</td>\n",
              "      <td>-1.0</td>\n",
              "      <td>-4.0</td>\n",
              "      <td>2.0</td>\n",
              "      <td>-6.0</td>\n",
              "      <td>0.0</td>\n",
              "    </tr>\n",
              "    <tr>\n",
              "      <th>1</th>\n",
              "      <td>DK</td>\n",
              "      <td>Denmark</td>\n",
              "      <td>NaN</td>\n",
              "      <td>NaN</td>\n",
              "      <td>NaN</td>\n",
              "      <td>NaN</td>\n",
              "      <td>NaN</td>\n",
              "      <td>ChIJ-1-U7rYnS0YRzZLgw9BDh1I</td>\n",
              "      <td>16.02.20</td>\n",
              "      <td>-7.0</td>\n",
              "      <td>-7.0</td>\n",
              "      <td>-33.0</td>\n",
              "      <td>-5.0</td>\n",
              "      <td>-6.0</td>\n",
              "      <td>1.0</td>\n",
              "    </tr>\n",
              "    <tr>\n",
              "      <th>2</th>\n",
              "      <td>DK</td>\n",
              "      <td>Denmark</td>\n",
              "      <td>NaN</td>\n",
              "      <td>NaN</td>\n",
              "      <td>NaN</td>\n",
              "      <td>NaN</td>\n",
              "      <td>NaN</td>\n",
              "      <td>ChIJ-1-U7rYnS0YRzZLgw9BDh1I</td>\n",
              "      <td>17.02.20</td>\n",
              "      <td>-3.0</td>\n",
              "      <td>-1.0</td>\n",
              "      <td>0.0</td>\n",
              "      <td>-3.0</td>\n",
              "      <td>-2.0</td>\n",
              "      <td>1.0</td>\n",
              "    </tr>\n",
              "  </tbody>\n",
              "</table>\n",
              "</div>"
            ],
            "text/plain": [
              "  country_region_code  ... residential_percent_change_from_baseline\n",
              "0                  DK  ...                                      0.0\n",
              "1                  DK  ...                                      1.0\n",
              "2                  DK  ...                                      1.0\n",
              "\n",
              "[3 rows x 15 columns]"
            ]
          },
          "metadata": {
            "tags": []
          },
          "execution_count": 18
        }
      ]
    },
    {
      "cell_type": "markdown",
      "metadata": {
        "id": "OSWp9JwfsfMX"
      },
      "source": [
        "## 2021 Data"
      ]
    },
    {
      "cell_type": "code",
      "metadata": {
        "colab": {
          "base_uri": "https://localhost:8080/",
          "height": 213
        },
        "id": "arFDeYdNsR41",
        "outputId": "bff0bdb2-8db7-41c7-b006-ab4dab2472eb"
      },
      "source": [
        "df_google_dk_2021 = pd.read_csv('data/Google_Region_Mobility/Denmark/2021_DK_Region_Mobility_Report.csv', sep=',', decimal='.')\n",
        "df_google_dk_2021.head(3)"
      ],
      "execution_count": 19,
      "outputs": [
        {
          "output_type": "execute_result",
          "data": {
            "text/html": [
              "<div>\n",
              "<style scoped>\n",
              "    .dataframe tbody tr th:only-of-type {\n",
              "        vertical-align: middle;\n",
              "    }\n",
              "\n",
              "    .dataframe tbody tr th {\n",
              "        vertical-align: top;\n",
              "    }\n",
              "\n",
              "    .dataframe thead th {\n",
              "        text-align: right;\n",
              "    }\n",
              "</style>\n",
              "<table border=\"1\" class=\"dataframe\">\n",
              "  <thead>\n",
              "    <tr style=\"text-align: right;\">\n",
              "      <th></th>\n",
              "      <th>country_region_code</th>\n",
              "      <th>country_region</th>\n",
              "      <th>sub_region_1</th>\n",
              "      <th>sub_region_2</th>\n",
              "      <th>metro_area</th>\n",
              "      <th>iso_3166_2_code</th>\n",
              "      <th>census_fips_code</th>\n",
              "      <th>place_id</th>\n",
              "      <th>date</th>\n",
              "      <th>retail_and_recreation_percent_change_from_baseline</th>\n",
              "      <th>grocery_and_pharmacy_percent_change_from_baseline</th>\n",
              "      <th>parks_percent_change_from_baseline</th>\n",
              "      <th>transit_stations_percent_change_from_baseline</th>\n",
              "      <th>workplaces_percent_change_from_baseline</th>\n",
              "      <th>residential_percent_change_from_baseline</th>\n",
              "    </tr>\n",
              "  </thead>\n",
              "  <tbody>\n",
              "    <tr>\n",
              "      <th>0</th>\n",
              "      <td>DK</td>\n",
              "      <td>Denmark</td>\n",
              "      <td>NaN</td>\n",
              "      <td>NaN</td>\n",
              "      <td>NaN</td>\n",
              "      <td>NaN</td>\n",
              "      <td>NaN</td>\n",
              "      <td>ChIJ-1-U7rYnS0YRzZLgw9BDh1I</td>\n",
              "      <td>2021-01-01</td>\n",
              "      <td>-79.0</td>\n",
              "      <td>-74.0</td>\n",
              "      <td>17.0</td>\n",
              "      <td>-71.0</td>\n",
              "      <td>-88.0</td>\n",
              "      <td>23.0</td>\n",
              "    </tr>\n",
              "    <tr>\n",
              "      <th>1</th>\n",
              "      <td>DK</td>\n",
              "      <td>Denmark</td>\n",
              "      <td>NaN</td>\n",
              "      <td>NaN</td>\n",
              "      <td>NaN</td>\n",
              "      <td>NaN</td>\n",
              "      <td>NaN</td>\n",
              "      <td>ChIJ-1-U7rYnS0YRzZLgw9BDh1I</td>\n",
              "      <td>2021-01-02</td>\n",
              "      <td>-53.0</td>\n",
              "      <td>-19.0</td>\n",
              "      <td>34.0</td>\n",
              "      <td>-54.0</td>\n",
              "      <td>-27.0</td>\n",
              "      <td>10.0</td>\n",
              "    </tr>\n",
              "    <tr>\n",
              "      <th>2</th>\n",
              "      <td>DK</td>\n",
              "      <td>Denmark</td>\n",
              "      <td>NaN</td>\n",
              "      <td>NaN</td>\n",
              "      <td>NaN</td>\n",
              "      <td>NaN</td>\n",
              "      <td>NaN</td>\n",
              "      <td>ChIJ-1-U7rYnS0YRzZLgw9BDh1I</td>\n",
              "      <td>2021-01-03</td>\n",
              "      <td>-43.0</td>\n",
              "      <td>-21.0</td>\n",
              "      <td>20.0</td>\n",
              "      <td>-53.0</td>\n",
              "      <td>-21.0</td>\n",
              "      <td>8.0</td>\n",
              "    </tr>\n",
              "  </tbody>\n",
              "</table>\n",
              "</div>"
            ],
            "text/plain": [
              "  country_region_code  ... residential_percent_change_from_baseline\n",
              "0                  DK  ...                                     23.0\n",
              "1                  DK  ...                                     10.0\n",
              "2                  DK  ...                                      8.0\n",
              "\n",
              "[3 rows x 15 columns]"
            ]
          },
          "metadata": {
            "tags": []
          },
          "execution_count": 19
        }
      ]
    },
    {
      "cell_type": "markdown",
      "metadata": {
        "id": "NNP5Z-INuRu9"
      },
      "source": [
        "## Transform Data"
      ]
    },
    {
      "cell_type": "code",
      "metadata": {
        "id": "458emZB0uByy"
      },
      "source": [
        "place_id = 'ChIJ-1-U7rYnS0YRzZLgw9BDh1I'\n",
        "cols_to_keep = ['country_region', 'date', 'retail_and_recreation_percent_change_from_baseline', 'grocery_and_pharmacy_percent_change_from_baseline',\n",
        "                'parks_percent_change_from_baseline', 'transit_stations_percent_change_from_baseline', 'workplaces_percent_change_from_baseline',\n",
        "                'residential_percent_change_from_baseline']"
      ],
      "execution_count": 22,
      "outputs": []
    },
    {
      "cell_type": "code",
      "metadata": {
        "id": "MvIZxlq_slCi"
      },
      "source": [
        "def preprocess_mobility_data(dataframe, place_id, columns_to_keep):\n",
        "  dataframe['date'] = pd.to_datetime(dataframe['date'])\n",
        "  dataframe = dataframe[dataframe['place_id']==place_id]\n",
        "  dataframe = dataframe[cols_to_keep]\n",
        "  return dataframe"
      ],
      "execution_count": 23,
      "outputs": []
    },
    {
      "cell_type": "code",
      "metadata": {
        "colab": {
          "base_uri": "https://localhost:8080/",
          "height": 213
        },
        "id": "buCcJTn5uXyJ",
        "outputId": "80f84924-1e85-4022-b7b3-6b5220702037"
      },
      "source": [
        "df_google_dk_2020 = preprocess_mobility_data(df_google_dk_2020, place_id, cols_to_keep)\n",
        "df_google_dk_2020.head(3)"
      ],
      "execution_count": 24,
      "outputs": [
        {
          "output_type": "execute_result",
          "data": {
            "text/html": [
              "<div>\n",
              "<style scoped>\n",
              "    .dataframe tbody tr th:only-of-type {\n",
              "        vertical-align: middle;\n",
              "    }\n",
              "\n",
              "    .dataframe tbody tr th {\n",
              "        vertical-align: top;\n",
              "    }\n",
              "\n",
              "    .dataframe thead th {\n",
              "        text-align: right;\n",
              "    }\n",
              "</style>\n",
              "<table border=\"1\" class=\"dataframe\">\n",
              "  <thead>\n",
              "    <tr style=\"text-align: right;\">\n",
              "      <th></th>\n",
              "      <th>country_region</th>\n",
              "      <th>date</th>\n",
              "      <th>retail_and_recreation_percent_change_from_baseline</th>\n",
              "      <th>grocery_and_pharmacy_percent_change_from_baseline</th>\n",
              "      <th>parks_percent_change_from_baseline</th>\n",
              "      <th>transit_stations_percent_change_from_baseline</th>\n",
              "      <th>workplaces_percent_change_from_baseline</th>\n",
              "      <th>residential_percent_change_from_baseline</th>\n",
              "    </tr>\n",
              "  </thead>\n",
              "  <tbody>\n",
              "    <tr>\n",
              "      <th>0</th>\n",
              "      <td>Denmark</td>\n",
              "      <td>2020-02-15</td>\n",
              "      <td>-2.0</td>\n",
              "      <td>-1.0</td>\n",
              "      <td>-4.0</td>\n",
              "      <td>2.0</td>\n",
              "      <td>-6.0</td>\n",
              "      <td>0.0</td>\n",
              "    </tr>\n",
              "    <tr>\n",
              "      <th>1</th>\n",
              "      <td>Denmark</td>\n",
              "      <td>2020-02-16</td>\n",
              "      <td>-7.0</td>\n",
              "      <td>-7.0</td>\n",
              "      <td>-33.0</td>\n",
              "      <td>-5.0</td>\n",
              "      <td>-6.0</td>\n",
              "      <td>1.0</td>\n",
              "    </tr>\n",
              "    <tr>\n",
              "      <th>2</th>\n",
              "      <td>Denmark</td>\n",
              "      <td>2020-02-17</td>\n",
              "      <td>-3.0</td>\n",
              "      <td>-1.0</td>\n",
              "      <td>0.0</td>\n",
              "      <td>-3.0</td>\n",
              "      <td>-2.0</td>\n",
              "      <td>1.0</td>\n",
              "    </tr>\n",
              "  </tbody>\n",
              "</table>\n",
              "</div>"
            ],
            "text/plain": [
              "  country_region  ... residential_percent_change_from_baseline\n",
              "0        Denmark  ...                                      0.0\n",
              "1        Denmark  ...                                      1.0\n",
              "2        Denmark  ...                                      1.0\n",
              "\n",
              "[3 rows x 8 columns]"
            ]
          },
          "metadata": {
            "tags": []
          },
          "execution_count": 24
        }
      ]
    },
    {
      "cell_type": "code",
      "metadata": {
        "colab": {
          "base_uri": "https://localhost:8080/"
        },
        "id": "A74auwb4uksG",
        "outputId": "b642e237-ebdf-4560-f9fb-decfbd4c238a"
      },
      "source": [
        "df_google_dk_2020.shape"
      ],
      "execution_count": 25,
      "outputs": [
        {
          "output_type": "execute_result",
          "data": {
            "text/plain": [
              "(321, 8)"
            ]
          },
          "metadata": {
            "tags": []
          },
          "execution_count": 25
        }
      ]
    },
    {
      "cell_type": "code",
      "metadata": {
        "colab": {
          "base_uri": "https://localhost:8080/",
          "height": 213
        },
        "id": "PIi3t6-It9i6",
        "outputId": "188a3fc8-192c-4fac-efb0-75fac381c2ae"
      },
      "source": [
        "df_google_dk_2021 = preprocess_mobility_data(df_google_dk_2021, place_id, cols_to_keep)\n",
        "df_google_dk_2021.head(3)"
      ],
      "execution_count": 26,
      "outputs": [
        {
          "output_type": "execute_result",
          "data": {
            "text/html": [
              "<div>\n",
              "<style scoped>\n",
              "    .dataframe tbody tr th:only-of-type {\n",
              "        vertical-align: middle;\n",
              "    }\n",
              "\n",
              "    .dataframe tbody tr th {\n",
              "        vertical-align: top;\n",
              "    }\n",
              "\n",
              "    .dataframe thead th {\n",
              "        text-align: right;\n",
              "    }\n",
              "</style>\n",
              "<table border=\"1\" class=\"dataframe\">\n",
              "  <thead>\n",
              "    <tr style=\"text-align: right;\">\n",
              "      <th></th>\n",
              "      <th>country_region</th>\n",
              "      <th>date</th>\n",
              "      <th>retail_and_recreation_percent_change_from_baseline</th>\n",
              "      <th>grocery_and_pharmacy_percent_change_from_baseline</th>\n",
              "      <th>parks_percent_change_from_baseline</th>\n",
              "      <th>transit_stations_percent_change_from_baseline</th>\n",
              "      <th>workplaces_percent_change_from_baseline</th>\n",
              "      <th>residential_percent_change_from_baseline</th>\n",
              "    </tr>\n",
              "  </thead>\n",
              "  <tbody>\n",
              "    <tr>\n",
              "      <th>0</th>\n",
              "      <td>Denmark</td>\n",
              "      <td>2021-01-01</td>\n",
              "      <td>-79.0</td>\n",
              "      <td>-74.0</td>\n",
              "      <td>17.0</td>\n",
              "      <td>-71.0</td>\n",
              "      <td>-88.0</td>\n",
              "      <td>23.0</td>\n",
              "    </tr>\n",
              "    <tr>\n",
              "      <th>1</th>\n",
              "      <td>Denmark</td>\n",
              "      <td>2021-01-02</td>\n",
              "      <td>-53.0</td>\n",
              "      <td>-19.0</td>\n",
              "      <td>34.0</td>\n",
              "      <td>-54.0</td>\n",
              "      <td>-27.0</td>\n",
              "      <td>10.0</td>\n",
              "    </tr>\n",
              "    <tr>\n",
              "      <th>2</th>\n",
              "      <td>Denmark</td>\n",
              "      <td>2021-01-03</td>\n",
              "      <td>-43.0</td>\n",
              "      <td>-21.0</td>\n",
              "      <td>20.0</td>\n",
              "      <td>-53.0</td>\n",
              "      <td>-21.0</td>\n",
              "      <td>8.0</td>\n",
              "    </tr>\n",
              "  </tbody>\n",
              "</table>\n",
              "</div>"
            ],
            "text/plain": [
              "  country_region  ... residential_percent_change_from_baseline\n",
              "0        Denmark  ...                                     23.0\n",
              "1        Denmark  ...                                     10.0\n",
              "2        Denmark  ...                                      8.0\n",
              "\n",
              "[3 rows x 8 columns]"
            ]
          },
          "metadata": {
            "tags": []
          },
          "execution_count": 26
        }
      ]
    },
    {
      "cell_type": "code",
      "metadata": {
        "colab": {
          "base_uri": "https://localhost:8080/"
        },
        "id": "1QGl9JHit9lX",
        "outputId": "85d96154-f46b-4ae2-c3b7-e4c73892b7d8"
      },
      "source": [
        "df_google_dk_2021.shape"
      ],
      "execution_count": 27,
      "outputs": [
        {
          "output_type": "execute_result",
          "data": {
            "text/plain": [
              "(155, 8)"
            ]
          },
          "metadata": {
            "tags": []
          },
          "execution_count": 27
        }
      ]
    },
    {
      "cell_type": "markdown",
      "metadata": {
        "id": "kcBgWYrZuqdt"
      },
      "source": [
        "## Concat 2020 & 2021"
      ]
    },
    {
      "cell_type": "code",
      "metadata": {
        "colab": {
          "base_uri": "https://localhost:8080/"
        },
        "id": "BT34nf-bt9nv",
        "outputId": "3f8c1422-e3d0-4357-8913-c83018acfdb0"
      },
      "source": [
        "df_google_dk = pd.concat([df_google_dk_2020, df_google_dk_2021], ignore_index=True)\n",
        "df_google_dk.shape"
      ],
      "execution_count": 29,
      "outputs": [
        {
          "output_type": "execute_result",
          "data": {
            "text/plain": [
              "(476, 8)"
            ]
          },
          "metadata": {
            "tags": []
          },
          "execution_count": 29
        }
      ]
    },
    {
      "cell_type": "code",
      "metadata": {
        "colab": {
          "base_uri": "https://localhost:8080/",
          "height": 609
        },
        "id": "yHSL5UgDt9p4",
        "outputId": "350ae8c6-6876-4486-c7fe-ba8f6f97010c"
      },
      "source": [
        "df_google_dk"
      ],
      "execution_count": 30,
      "outputs": [
        {
          "output_type": "execute_result",
          "data": {
            "text/html": [
              "<div>\n",
              "<style scoped>\n",
              "    .dataframe tbody tr th:only-of-type {\n",
              "        vertical-align: middle;\n",
              "    }\n",
              "\n",
              "    .dataframe tbody tr th {\n",
              "        vertical-align: top;\n",
              "    }\n",
              "\n",
              "    .dataframe thead th {\n",
              "        text-align: right;\n",
              "    }\n",
              "</style>\n",
              "<table border=\"1\" class=\"dataframe\">\n",
              "  <thead>\n",
              "    <tr style=\"text-align: right;\">\n",
              "      <th></th>\n",
              "      <th>country_region</th>\n",
              "      <th>date</th>\n",
              "      <th>retail_and_recreation_percent_change_from_baseline</th>\n",
              "      <th>grocery_and_pharmacy_percent_change_from_baseline</th>\n",
              "      <th>parks_percent_change_from_baseline</th>\n",
              "      <th>transit_stations_percent_change_from_baseline</th>\n",
              "      <th>workplaces_percent_change_from_baseline</th>\n",
              "      <th>residential_percent_change_from_baseline</th>\n",
              "    </tr>\n",
              "  </thead>\n",
              "  <tbody>\n",
              "    <tr>\n",
              "      <th>0</th>\n",
              "      <td>Denmark</td>\n",
              "      <td>2020-02-15</td>\n",
              "      <td>-2.0</td>\n",
              "      <td>-1.0</td>\n",
              "      <td>-4.0</td>\n",
              "      <td>2.0</td>\n",
              "      <td>-6.0</td>\n",
              "      <td>0.0</td>\n",
              "    </tr>\n",
              "    <tr>\n",
              "      <th>1</th>\n",
              "      <td>Denmark</td>\n",
              "      <td>2020-02-16</td>\n",
              "      <td>-7.0</td>\n",
              "      <td>-7.0</td>\n",
              "      <td>-33.0</td>\n",
              "      <td>-5.0</td>\n",
              "      <td>-6.0</td>\n",
              "      <td>1.0</td>\n",
              "    </tr>\n",
              "    <tr>\n",
              "      <th>2</th>\n",
              "      <td>Denmark</td>\n",
              "      <td>2020-02-17</td>\n",
              "      <td>-3.0</td>\n",
              "      <td>-1.0</td>\n",
              "      <td>0.0</td>\n",
              "      <td>-3.0</td>\n",
              "      <td>-2.0</td>\n",
              "      <td>1.0</td>\n",
              "    </tr>\n",
              "    <tr>\n",
              "      <th>3</th>\n",
              "      <td>Denmark</td>\n",
              "      <td>2020-02-18</td>\n",
              "      <td>1.0</td>\n",
              "      <td>1.0</td>\n",
              "      <td>9.0</td>\n",
              "      <td>-1.0</td>\n",
              "      <td>-1.0</td>\n",
              "      <td>1.0</td>\n",
              "    </tr>\n",
              "    <tr>\n",
              "      <th>4</th>\n",
              "      <td>Denmark</td>\n",
              "      <td>2020-02-19</td>\n",
              "      <td>0.0</td>\n",
              "      <td>0.0</td>\n",
              "      <td>12.0</td>\n",
              "      <td>-2.0</td>\n",
              "      <td>-1.0</td>\n",
              "      <td>1.0</td>\n",
              "    </tr>\n",
              "    <tr>\n",
              "      <th>...</th>\n",
              "      <td>...</td>\n",
              "      <td>...</td>\n",
              "      <td>...</td>\n",
              "      <td>...</td>\n",
              "      <td>...</td>\n",
              "      <td>...</td>\n",
              "      <td>...</td>\n",
              "      <td>...</td>\n",
              "    </tr>\n",
              "    <tr>\n",
              "      <th>471</th>\n",
              "      <td>Denmark</td>\n",
              "      <td>2021-05-31</td>\n",
              "      <td>21.0</td>\n",
              "      <td>14.0</td>\n",
              "      <td>205.0</td>\n",
              "      <td>-19.0</td>\n",
              "      <td>-15.0</td>\n",
              "      <td>3.0</td>\n",
              "    </tr>\n",
              "    <tr>\n",
              "      <th>472</th>\n",
              "      <td>Denmark</td>\n",
              "      <td>2021-06-01</td>\n",
              "      <td>17.0</td>\n",
              "      <td>15.0</td>\n",
              "      <td>169.0</td>\n",
              "      <td>-17.0</td>\n",
              "      <td>-14.0</td>\n",
              "      <td>3.0</td>\n",
              "    </tr>\n",
              "    <tr>\n",
              "      <th>473</th>\n",
              "      <td>Denmark</td>\n",
              "      <td>2021-06-02</td>\n",
              "      <td>13.0</td>\n",
              "      <td>12.0</td>\n",
              "      <td>145.0</td>\n",
              "      <td>-21.0</td>\n",
              "      <td>-14.0</td>\n",
              "      <td>4.0</td>\n",
              "    </tr>\n",
              "    <tr>\n",
              "      <th>474</th>\n",
              "      <td>Denmark</td>\n",
              "      <td>2021-06-03</td>\n",
              "      <td>15.0</td>\n",
              "      <td>13.0</td>\n",
              "      <td>166.0</td>\n",
              "      <td>-19.0</td>\n",
              "      <td>-14.0</td>\n",
              "      <td>3.0</td>\n",
              "    </tr>\n",
              "    <tr>\n",
              "      <th>475</th>\n",
              "      <td>Denmark</td>\n",
              "      <td>2021-06-04</td>\n",
              "      <td>14.0</td>\n",
              "      <td>13.0</td>\n",
              "      <td>210.0</td>\n",
              "      <td>-18.0</td>\n",
              "      <td>-13.0</td>\n",
              "      <td>1.0</td>\n",
              "    </tr>\n",
              "  </tbody>\n",
              "</table>\n",
              "<p>476 rows × 8 columns</p>\n",
              "</div>"
            ],
            "text/plain": [
              "    country_region  ... residential_percent_change_from_baseline\n",
              "0          Denmark  ...                                      0.0\n",
              "1          Denmark  ...                                      1.0\n",
              "2          Denmark  ...                                      1.0\n",
              "3          Denmark  ...                                      1.0\n",
              "4          Denmark  ...                                      1.0\n",
              "..             ...  ...                                      ...\n",
              "471        Denmark  ...                                      3.0\n",
              "472        Denmark  ...                                      3.0\n",
              "473        Denmark  ...                                      4.0\n",
              "474        Denmark  ...                                      3.0\n",
              "475        Denmark  ...                                      1.0\n",
              "\n",
              "[476 rows x 8 columns]"
            ]
          },
          "metadata": {
            "tags": []
          },
          "execution_count": 30
        }
      ]
    },
    {
      "cell_type": "code",
      "metadata": {
        "id": "yc5y1V2IvyK0"
      },
      "source": [
        "df_google_dk.to_excel('data/denmark_google_mobility.xlsx')"
      ],
      "execution_count": 37,
      "outputs": []
    },
    {
      "cell_type": "markdown",
      "metadata": {
        "id": "tLokfwKgv48d"
      },
      "source": [
        "# Visualization"
      ]
    },
    {
      "cell_type": "code",
      "metadata": {
        "colab": {
          "base_uri": "https://localhost:8080/",
          "height": 265
        },
        "id": "KWpndgSSu4B-",
        "outputId": "52a4188e-3ace-4dd2-cfac-245bca430b7e"
      },
      "source": [
        "plt.plot(df_google_dk['retail_and_recreation_percent_change_from_baseline'], label='residental_change')\n",
        "plt.plot(df_google_dk['grocery_and_pharmacy_percent_change_from_baseline'], label='grocery_change')\n",
        "plt.plot(df_google_dk['parks_percent_change_from_baseline'], label='parks_change')\n",
        "plt.plot(df_google_dk['transit_stations_percent_change_from_baseline'], label='transit_change')\n",
        "plt.plot(df_google_dk['residential_percent_change_from_baseline'], label='residental_change')\n",
        "plt.plot(df_google_dk['workplaces_percent_change_from_baseline'], label='workplaces_change')\n",
        "plt.legend()\n",
        "plt.show()"
      ],
      "execution_count": 39,
      "outputs": [
        {
          "output_type": "display_data",
          "data": {
            "image/png": "[encoded data removed]",
            "text/plain": [
              "<Figure size 432x288 with 1 Axes>"
            ]
          },
          "metadata": {
            "tags": [],
            "needs_background": "light"
          }
        }
      ]
    },
    {
      "cell_type": "code",
      "metadata": {
        "id": "BoawNXcyv9ha"
      },
      "source": [
        ""
      ],
      "execution_count": null,
      "outputs": []
    }
  ]
}